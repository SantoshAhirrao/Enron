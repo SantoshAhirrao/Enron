{
  "nbformat": 4,
  "nbformat_minor": 0,
  "metadata": {
    "kernelspec": {
      "display_name": "Python 3.8.5 64-bit ('env': venv)",
      "language": "python",
      "name": "python38564bitenvvenvdd90bf3db1394018ab98652034234ce9"
    },
    "language_info": {
      "codemirror_mode": {
        "name": "ipython",
        "version": 3
      },
      "file_extension": ".py",
      "mimetype": "text/x-python",
      "name": "python",
      "nbconvert_exporter": "python",
      "pygments_lexer": "ipython3",
      "version": "3.8.5"
    },
    "colab": {
      "name": "Enron-Sentiment_Analysis.ipynb",
      "provenance": [],
      "collapsed_sections": [],
      "include_colab_link": true
    },
    "accelerator": "GPU",
    "widgets": {
      "application/vnd.jupyter.widget-state+json": {
        "3d19e5badc14494587d0853979d43611": {
          "model_module": "@jupyter-widgets/controls",
          "model_name": "HBoxModel",
          "state": {
            "_view_name": "HBoxView",
            "_dom_classes": [],
            "_model_name": "HBoxModel",
            "_view_module": "@jupyter-widgets/controls",
            "_model_module_version": "1.5.0",
            "_view_count": null,
            "_view_module_version": "1.5.0",
            "box_style": "",
            "layout": "IPY_MODEL_913619771ee4454c9e394d737e770cc1",
            "_model_module": "@jupyter-widgets/controls",
            "children": [
              "IPY_MODEL_acb36cca78de49b2be88b095d9bc21ef",
              "IPY_MODEL_12d98d0ab6324e329ebdbabdd7c86606"
            ]
          }
        },
        "913619771ee4454c9e394d737e770cc1": {
          "model_module": "@jupyter-widgets/base",
          "model_name": "LayoutModel",
          "state": {
            "_view_name": "LayoutView",
            "grid_template_rows": null,
            "right": null,
            "justify_content": null,
            "_view_module": "@jupyter-widgets/base",
            "overflow": null,
            "_model_module_version": "1.2.0",
            "_view_count": null,
            "flex_flow": null,
            "width": null,
            "min_width": null,
            "border": null,
            "align_items": null,
            "bottom": null,
            "_model_module": "@jupyter-widgets/base",
            "top": null,
            "grid_column": null,
            "overflow_y": null,
            "overflow_x": null,
            "grid_auto_flow": null,
            "grid_area": null,
            "grid_template_columns": null,
            "flex": null,
            "_model_name": "LayoutModel",
            "justify_items": null,
            "grid_row": null,
            "max_height": null,
            "align_content": null,
            "visibility": null,
            "align_self": null,
            "height": null,
            "min_height": null,
            "padding": null,
            "grid_auto_rows": null,
            "grid_gap": null,
            "max_width": null,
            "order": null,
            "_view_module_version": "1.2.0",
            "grid_template_areas": null,
            "object_position": null,
            "object_fit": null,
            "grid_auto_columns": null,
            "margin": null,
            "display": null,
            "left": null
          }
        },
        "acb36cca78de49b2be88b095d9bc21ef": {
          "model_module": "@jupyter-widgets/controls",
          "model_name": "FloatProgressModel",
          "state": {
            "_view_name": "ProgressView",
            "style": "IPY_MODEL_74460eae22004cf3a8b3eeaf0e915907",
            "_dom_classes": [],
            "description": "Downloading: 100%",
            "_model_name": "FloatProgressModel",
            "bar_style": "success",
            "max": 442,
            "_view_module": "@jupyter-widgets/controls",
            "_model_module_version": "1.5.0",
            "value": 442,
            "_view_count": null,
            "_view_module_version": "1.5.0",
            "orientation": "horizontal",
            "min": 0,
            "description_tooltip": null,
            "_model_module": "@jupyter-widgets/controls",
            "layout": "IPY_MODEL_cc397fdc6ae143eab6b6c2819df60076"
          }
        },
        "12d98d0ab6324e329ebdbabdd7c86606": {
          "model_module": "@jupyter-widgets/controls",
          "model_name": "HTMLModel",
          "state": {
            "_view_name": "HTMLView",
            "style": "IPY_MODEL_d436d699bb3e4b258874750aeb415ae2",
            "_dom_classes": [],
            "description": "",
            "_model_name": "HTMLModel",
            "placeholder": "​",
            "_view_module": "@jupyter-widgets/controls",
            "_model_module_version": "1.5.0",
            "value": " 442/442 [00:00&lt;00:00, 510B/s]",
            "_view_count": null,
            "_view_module_version": "1.5.0",
            "description_tooltip": null,
            "_model_module": "@jupyter-widgets/controls",
            "layout": "IPY_MODEL_19a5e80d03b342269f9c092097c2ffaf"
          }
        },
        "74460eae22004cf3a8b3eeaf0e915907": {
          "model_module": "@jupyter-widgets/controls",
          "model_name": "ProgressStyleModel",
          "state": {
            "_view_name": "StyleView",
            "_model_name": "ProgressStyleModel",
            "description_width": "initial",
            "_view_module": "@jupyter-widgets/base",
            "_model_module_version": "1.5.0",
            "_view_count": null,
            "_view_module_version": "1.2.0",
            "bar_color": null,
            "_model_module": "@jupyter-widgets/controls"
          }
        },
        "cc397fdc6ae143eab6b6c2819df60076": {
          "model_module": "@jupyter-widgets/base",
          "model_name": "LayoutModel",
          "state": {
            "_view_name": "LayoutView",
            "grid_template_rows": null,
            "right": null,
            "justify_content": null,
            "_view_module": "@jupyter-widgets/base",
            "overflow": null,
            "_model_module_version": "1.2.0",
            "_view_count": null,
            "flex_flow": null,
            "width": null,
            "min_width": null,
            "border": null,
            "align_items": null,
            "bottom": null,
            "_model_module": "@jupyter-widgets/base",
            "top": null,
            "grid_column": null,
            "overflow_y": null,
            "overflow_x": null,
            "grid_auto_flow": null,
            "grid_area": null,
            "grid_template_columns": null,
            "flex": null,
            "_model_name": "LayoutModel",
            "justify_items": null,
            "grid_row": null,
            "max_height": null,
            "align_content": null,
            "visibility": null,
            "align_self": null,
            "height": null,
            "min_height": null,
            "padding": null,
            "grid_auto_rows": null,
            "grid_gap": null,
            "max_width": null,
            "order": null,
            "_view_module_version": "1.2.0",
            "grid_template_areas": null,
            "object_position": null,
            "object_fit": null,
            "grid_auto_columns": null,
            "margin": null,
            "display": null,
            "left": null
          }
        },
        "d436d699bb3e4b258874750aeb415ae2": {
          "model_module": "@jupyter-widgets/controls",
          "model_name": "DescriptionStyleModel",
          "state": {
            "_view_name": "StyleView",
            "_model_name": "DescriptionStyleModel",
            "description_width": "",
            "_view_module": "@jupyter-widgets/base",
            "_model_module_version": "1.5.0",
            "_view_count": null,
            "_view_module_version": "1.2.0",
            "_model_module": "@jupyter-widgets/controls"
          }
        },
        "19a5e80d03b342269f9c092097c2ffaf": {
          "model_module": "@jupyter-widgets/base",
          "model_name": "LayoutModel",
          "state": {
            "_view_name": "LayoutView",
            "grid_template_rows": null,
            "right": null,
            "justify_content": null,
            "_view_module": "@jupyter-widgets/base",
            "overflow": null,
            "_model_module_version": "1.2.0",
            "_view_count": null,
            "flex_flow": null,
            "width": null,
            "min_width": null,
            "border": null,
            "align_items": null,
            "bottom": null,
            "_model_module": "@jupyter-widgets/base",
            "top": null,
            "grid_column": null,
            "overflow_y": null,
            "overflow_x": null,
            "grid_auto_flow": null,
            "grid_area": null,
            "grid_template_columns": null,
            "flex": null,
            "_model_name": "LayoutModel",
            "justify_items": null,
            "grid_row": null,
            "max_height": null,
            "align_content": null,
            "visibility": null,
            "align_self": null,
            "height": null,
            "min_height": null,
            "padding": null,
            "grid_auto_rows": null,
            "grid_gap": null,
            "max_width": null,
            "order": null,
            "_view_module_version": "1.2.0",
            "grid_template_areas": null,
            "object_position": null,
            "object_fit": null,
            "grid_auto_columns": null,
            "margin": null,
            "display": null,
            "left": null
          }
        },
        "493e3c4c91204b14a8800dad7ff93497": {
          "model_module": "@jupyter-widgets/controls",
          "model_name": "HBoxModel",
          "state": {
            "_view_name": "HBoxView",
            "_dom_classes": [],
            "_model_name": "HBoxModel",
            "_view_module": "@jupyter-widgets/controls",
            "_model_module_version": "1.5.0",
            "_view_count": null,
            "_view_module_version": "1.5.0",
            "box_style": "",
            "layout": "IPY_MODEL_d49cdaa6cd3e4c8a8cc61a018bd8ef05",
            "_model_module": "@jupyter-widgets/controls",
            "children": [
              "IPY_MODEL_eba47a7682ad462585064c86df9458de",
              "IPY_MODEL_315eb2c121194d7abb9cc02e8066db5b"
            ]
          }
        },
        "d49cdaa6cd3e4c8a8cc61a018bd8ef05": {
          "model_module": "@jupyter-widgets/base",
          "model_name": "LayoutModel",
          "state": {
            "_view_name": "LayoutView",
            "grid_template_rows": null,
            "right": null,
            "justify_content": null,
            "_view_module": "@jupyter-widgets/base",
            "overflow": null,
            "_model_module_version": "1.2.0",
            "_view_count": null,
            "flex_flow": null,
            "width": null,
            "min_width": null,
            "border": null,
            "align_items": null,
            "bottom": null,
            "_model_module": "@jupyter-widgets/base",
            "top": null,
            "grid_column": null,
            "overflow_y": null,
            "overflow_x": null,
            "grid_auto_flow": null,
            "grid_area": null,
            "grid_template_columns": null,
            "flex": null,
            "_model_name": "LayoutModel",
            "justify_items": null,
            "grid_row": null,
            "max_height": null,
            "align_content": null,
            "visibility": null,
            "align_self": null,
            "height": null,
            "min_height": null,
            "padding": null,
            "grid_auto_rows": null,
            "grid_gap": null,
            "max_width": null,
            "order": null,
            "_view_module_version": "1.2.0",
            "grid_template_areas": null,
            "object_position": null,
            "object_fit": null,
            "grid_auto_columns": null,
            "margin": null,
            "display": null,
            "left": null
          }
        },
        "eba47a7682ad462585064c86df9458de": {
          "model_module": "@jupyter-widgets/controls",
          "model_name": "FloatProgressModel",
          "state": {
            "_view_name": "ProgressView",
            "style": "IPY_MODEL_f18dc5dc26ce4ac0bfe5b487570af64b",
            "_dom_classes": [],
            "description": "Downloading: 100%",
            "_model_name": "FloatProgressModel",
            "bar_style": "success",
            "max": 231508,
            "_view_module": "@jupyter-widgets/controls",
            "_model_module_version": "1.5.0",
            "value": 231508,
            "_view_count": null,
            "_view_module_version": "1.5.0",
            "orientation": "horizontal",
            "min": 0,
            "description_tooltip": null,
            "_model_module": "@jupyter-widgets/controls",
            "layout": "IPY_MODEL_160acc686d4e4beebc880544857212d6"
          }
        },
        "315eb2c121194d7abb9cc02e8066db5b": {
          "model_module": "@jupyter-widgets/controls",
          "model_name": "HTMLModel",
          "state": {
            "_view_name": "HTMLView",
            "style": "IPY_MODEL_154d1ace6dc1450ea99d2c2db41c78fb",
            "_dom_classes": [],
            "description": "",
            "_model_name": "HTMLModel",
            "placeholder": "​",
            "_view_module": "@jupyter-widgets/controls",
            "_model_module_version": "1.5.0",
            "value": " 232k/232k [00:00&lt;00:00, 965kB/s]",
            "_view_count": null,
            "_view_module_version": "1.5.0",
            "description_tooltip": null,
            "_model_module": "@jupyter-widgets/controls",
            "layout": "IPY_MODEL_339390a25f9d451d96836cf0558904c3"
          }
        },
        "f18dc5dc26ce4ac0bfe5b487570af64b": {
          "model_module": "@jupyter-widgets/controls",
          "model_name": "ProgressStyleModel",
          "state": {
            "_view_name": "StyleView",
            "_model_name": "ProgressStyleModel",
            "description_width": "initial",
            "_view_module": "@jupyter-widgets/base",
            "_model_module_version": "1.5.0",
            "_view_count": null,
            "_view_module_version": "1.2.0",
            "bar_color": null,
            "_model_module": "@jupyter-widgets/controls"
          }
        },
        "160acc686d4e4beebc880544857212d6": {
          "model_module": "@jupyter-widgets/base",
          "model_name": "LayoutModel",
          "state": {
            "_view_name": "LayoutView",
            "grid_template_rows": null,
            "right": null,
            "justify_content": null,
            "_view_module": "@jupyter-widgets/base",
            "overflow": null,
            "_model_module_version": "1.2.0",
            "_view_count": null,
            "flex_flow": null,
            "width": null,
            "min_width": null,
            "border": null,
            "align_items": null,
            "bottom": null,
            "_model_module": "@jupyter-widgets/base",
            "top": null,
            "grid_column": null,
            "overflow_y": null,
            "overflow_x": null,
            "grid_auto_flow": null,
            "grid_area": null,
            "grid_template_columns": null,
            "flex": null,
            "_model_name": "LayoutModel",
            "justify_items": null,
            "grid_row": null,
            "max_height": null,
            "align_content": null,
            "visibility": null,
            "align_self": null,
            "height": null,
            "min_height": null,
            "padding": null,
            "grid_auto_rows": null,
            "grid_gap": null,
            "max_width": null,
            "order": null,
            "_view_module_version": "1.2.0",
            "grid_template_areas": null,
            "object_position": null,
            "object_fit": null,
            "grid_auto_columns": null,
            "margin": null,
            "display": null,
            "left": null
          }
        },
        "154d1ace6dc1450ea99d2c2db41c78fb": {
          "model_module": "@jupyter-widgets/controls",
          "model_name": "DescriptionStyleModel",
          "state": {
            "_view_name": "StyleView",
            "_model_name": "DescriptionStyleModel",
            "description_width": "",
            "_view_module": "@jupyter-widgets/base",
            "_model_module_version": "1.5.0",
            "_view_count": null,
            "_view_module_version": "1.2.0",
            "_model_module": "@jupyter-widgets/controls"
          }
        },
        "339390a25f9d451d96836cf0558904c3": {
          "model_module": "@jupyter-widgets/base",
          "model_name": "LayoutModel",
          "state": {
            "_view_name": "LayoutView",
            "grid_template_rows": null,
            "right": null,
            "justify_content": null,
            "_view_module": "@jupyter-widgets/base",
            "overflow": null,
            "_model_module_version": "1.2.0",
            "_view_count": null,
            "flex_flow": null,
            "width": null,
            "min_width": null,
            "border": null,
            "align_items": null,
            "bottom": null,
            "_model_module": "@jupyter-widgets/base",
            "top": null,
            "grid_column": null,
            "overflow_y": null,
            "overflow_x": null,
            "grid_auto_flow": null,
            "grid_area": null,
            "grid_template_columns": null,
            "flex": null,
            "_model_name": "LayoutModel",
            "justify_items": null,
            "grid_row": null,
            "max_height": null,
            "align_content": null,
            "visibility": null,
            "align_self": null,
            "height": null,
            "min_height": null,
            "padding": null,
            "grid_auto_rows": null,
            "grid_gap": null,
            "max_width": null,
            "order": null,
            "_view_module_version": "1.2.0",
            "grid_template_areas": null,
            "object_position": null,
            "object_fit": null,
            "grid_auto_columns": null,
            "margin": null,
            "display": null,
            "left": null
          }
        }
      }
    }
  },
  "cells": [
    {
      "cell_type": "markdown",
      "metadata": {
        "id": "view-in-github",
        "colab_type": "text"
      },
      "source": [
        "<a href=\"https://colab.research.google.com/github/SantoshAhirrao/Enron/blob/master/Enron_Sentiment_Analysis.ipynb\" target=\"_parent\"><img src=\"https://colab.research.google.com/assets/colab-badge.svg\" alt=\"Open In Colab\"/></a>"
      ]
    },
    {
      "cell_type": "code",
      "metadata": {
        "id": "Kej5atEFgDnQ"
      },
      "source": [
        "## Colab Preparation"
      ],
      "execution_count": null,
      "outputs": []
    },
    {
      "cell_type": "markdown",
      "metadata": {
        "id": "oP2VIsoWhPHd"
      },
      "source": [
        ""
      ]
    },
    {
      "cell_type": "code",
      "metadata": {
        "id": "2M62lG0fe_uO"
      },
      "source": [
        "!pip install -U -q PyDrive\n",
        "from pydrive.auth import GoogleAuth\n",
        "from pydrive.drive import GoogleDrive\n",
        "from google.colab import auth\n",
        "from oauth2client.client import GoogleCredentials"
      ],
      "execution_count": null,
      "outputs": []
    },
    {
      "cell_type": "code",
      "metadata": {
        "id": "Wt9mtTs0fB-3"
      },
      "source": [
        "auth.authenticate_user()\n",
        "gauth = GoogleAuth()\n",
        "gauth.credentials = GoogleCredentials.get_application_default()\n",
        "drive = GoogleDrive(gauth)"
      ],
      "execution_count": null,
      "outputs": []
    },
    {
      "cell_type": "code",
      "metadata": {
        "id": "a4txFoQAfB7e"
      },
      "source": [
        "downloaded = drive.CreateFile({'id':'1kspwcO88yCvb_dXNnRGfhw36_4FCMCiB'}) # replace the id with id of file you want to access\n",
        "downloaded.GetContentFile('email_df.csv') "
      ],
      "execution_count": null,
      "outputs": []
    },
    {
      "cell_type": "code",
      "metadata": {
        "id": "8wool7_t95k2"
      },
      "source": [
        "import os\n",
        "\n",
        "os.chdir(\"/content/\")\n",
        "\n",
        "# os.chdir(\"./content/drive/My Drive/Colab Notebooks\") # Advisable to have such path"
      ],
      "execution_count": null,
      "outputs": []
    },
    {
      "cell_type": "markdown",
      "metadata": {
        "id": "bk2Q7GNxguhd"
      },
      "source": [
        "Jupyter Notebook"
      ]
    },
    {
      "cell_type": "markdown",
      "metadata": {
        "id": "F3HGBKP-hIDc"
      },
      "source": [
        "Import Libs"
      ]
    },
    {
      "cell_type": "code",
      "metadata": {
        "id": "0-8HTB6Ke71U",
        "outputId": "8697ebe9-14e1-4a15-b0e4-6b4095591451",
        "colab": {
          "base_uri": "https://localhost:8080/",
          "height": 123
        }
      },
      "source": [
        "import re\n",
        "import os, sys, email\n",
        "import numpy as np \n",
        "import pandas as pd\n",
        "\n",
        "# Plotting\n",
        "import matplotlib.pyplot as plt\n",
        "%matplotlib inline\n",
        "import seaborn as sns; sns.set_style('whitegrid')\n",
        "#import plotly\n",
        "#plotly.offline.init_notebook_mode()\n",
        "#import plotly.graph_objs as go\n",
        "import wordcloud\n",
        "\n",
        "# Network analysis\n",
        "import networkx as nx\n",
        "\n",
        "# NLP\n",
        "from nltk.tokenize.regexp import RegexpTokenizer\n",
        "from nltk.stem import PorterStemmer\n",
        "\n",
        "import tweepy\n",
        "import nltk\n",
        "from nltk.sentiment.vader import SentimentIntensityAnalyzer\n",
        "nltk.download('punkt')\n",
        "\n",
        "from nltk.corpus import stopwords\n",
        "nltk.download('wordnet')\n",
        "nltk.download('stopwords')\n",
        "\n",
        "from subprocess import check_output\n"
      ],
      "execution_count": null,
      "outputs": [
        {
          "output_type": "stream",
          "text": [
            "[nltk_data] Downloading package punkt to /root/nltk_data...\n",
            "[nltk_data]   Package punkt is already up-to-date!\n",
            "[nltk_data] Downloading package wordnet to /root/nltk_data...\n",
            "[nltk_data]   Package wordnet is already up-to-date!\n",
            "[nltk_data] Downloading package stopwords to /root/nltk_data...\n",
            "[nltk_data]   Package stopwords is already up-to-date!\n"
          ],
          "name": "stdout"
        }
      ]
    },
    {
      "cell_type": "code",
      "metadata": {
        "id": "d6m1YYSxe71g"
      },
      "source": [
        "pd.set_option('display.max_columns', None)   # To see all the columns of data frame"
      ],
      "execution_count": null,
      "outputs": []
    },
    {
      "cell_type": "markdown",
      "metadata": {
        "id": "-PpV1b58e71o"
      },
      "source": [
        "### 1. Loading and cleaning data"
      ]
    },
    {
      "cell_type": "code",
      "metadata": {
        "id": "JKNFXQmS6Iwr"
      },
      "source": [
        "df = pd.read_csv(\"/content/email_df.csv\")"
      ],
      "execution_count": null,
      "outputs": []
    },
    {
      "cell_type": "code",
      "metadata": {
        "id": "Ao-g0OFoA2Hy",
        "outputId": "60d04772-2f74-43dd-da5e-74ed25c19832",
        "colab": {
          "base_uri": "https://localhost:8080/",
          "height": 377
        }
      },
      "source": [
        "df.head(2)"
      ],
      "execution_count": null,
      "outputs": [
        {
          "output_type": "execute_result",
          "data": {
            "text/html": [
              "<div>\n",
              "<style scoped>\n",
              "    .dataframe tbody tr th:only-of-type {\n",
              "        vertical-align: middle;\n",
              "    }\n",
              "\n",
              "    .dataframe tbody tr th {\n",
              "        vertical-align: top;\n",
              "    }\n",
              "\n",
              "    .dataframe thead th {\n",
              "        text-align: right;\n",
              "    }\n",
              "</style>\n",
              "<table border=\"1\" class=\"dataframe\">\n",
              "  <thead>\n",
              "    <tr style=\"text-align: right;\">\n",
              "      <th></th>\n",
              "      <th>Unnamed: 0</th>\n",
              "      <th>file</th>\n",
              "      <th>Message-ID</th>\n",
              "      <th>Date</th>\n",
              "      <th>From</th>\n",
              "      <th>To</th>\n",
              "      <th>Subject</th>\n",
              "      <th>Mime-Version</th>\n",
              "      <th>Content-Type</th>\n",
              "      <th>Content-Transfer-Encoding</th>\n",
              "      <th>X-From</th>\n",
              "      <th>X-To</th>\n",
              "      <th>X-cc</th>\n",
              "      <th>X-bcc</th>\n",
              "      <th>X-Folder</th>\n",
              "      <th>X-Origin</th>\n",
              "      <th>X-FileName</th>\n",
              "      <th>content</th>\n",
              "      <th>user</th>\n",
              "    </tr>\n",
              "  </thead>\n",
              "  <tbody>\n",
              "    <tr>\n",
              "      <th>0</th>\n",
              "      <td>1232</td>\n",
              "      <td>allen-p/deleted_items/1.</td>\n",
              "      <td>&lt;21543395.1075855374340.JavaMail.evans@thyme&gt;</td>\n",
              "      <td>2001-12-30 18:19:42+00:00</td>\n",
              "      <td>frozenset({'pallen70@hotmail.com'})</td>\n",
              "      <td>frozenset({'pallen@enron.com'})</td>\n",
              "      <td>Fwd: Bishops Corner</td>\n",
              "      <td>1.0</td>\n",
              "      <td>text/plain; charset=ANSI_X3.4-1968</td>\n",
              "      <td>7bit</td>\n",
              "      <td>\"phillip allen\" &lt;pallen70@hotmail.com&gt;@ENRON</td>\n",
              "      <td>pallen@enron.com</td>\n",
              "      <td>NaN</td>\n",
              "      <td>NaN</td>\n",
              "      <td>\\Phillip_Allen_Jan2002_1\\Allen, Phillip K.\\Del...</td>\n",
              "      <td>Allen-P</td>\n",
              "      <td>pallen (Non-Privileged).pst</td>\n",
              "      <td>\\n \\n&gt;From: \"Greg Thorse\" \\n&gt;To: \\n&gt;CC: \"Phill...</td>\n",
              "      <td>allen-p</td>\n",
              "    </tr>\n",
              "    <tr>\n",
              "      <th>1</th>\n",
              "      <td>1233</td>\n",
              "      <td>allen-p/deleted_items/10.</td>\n",
              "      <td>&lt;25363451.1075855374674.JavaMail.evans@thyme&gt;</td>\n",
              "      <td>2001-12-28 01:16:46+00:00</td>\n",
              "      <td>frozenset({'arsystem@mailman.enron.com'})</td>\n",
              "      <td>frozenset({'k..allen@enron.com'})</td>\n",
              "      <td>Your Approval is Overdue: Access Request for m...</td>\n",
              "      <td>1.0</td>\n",
              "      <td>text/plain; charset=us-ascii</td>\n",
              "      <td>7bit</td>\n",
              "      <td>ARSystem &lt;ARSystem@mailman.enron.com&gt;@ENRON</td>\n",
              "      <td>Allen, Phillip K. &lt;/O=ENRON/OU=NA/CN=RECIPIENT...</td>\n",
              "      <td>NaN</td>\n",
              "      <td>NaN</td>\n",
              "      <td>\\Phillip_Allen_Jan2002_1\\Allen, Phillip K.\\Del...</td>\n",
              "      <td>Allen-P</td>\n",
              "      <td>pallen (Non-Privileged).pst</td>\n",
              "      <td>This request has been pending your approval fo...</td>\n",
              "      <td>allen-p</td>\n",
              "    </tr>\n",
              "  </tbody>\n",
              "</table>\n",
              "</div>"
            ],
            "text/plain": [
              "   Unnamed: 0                       file  \\\n",
              "0        1232   allen-p/deleted_items/1.   \n",
              "1        1233  allen-p/deleted_items/10.   \n",
              "\n",
              "                                      Message-ID                       Date  \\\n",
              "0  <21543395.1075855374340.JavaMail.evans@thyme>  2001-12-30 18:19:42+00:00   \n",
              "1  <25363451.1075855374674.JavaMail.evans@thyme>  2001-12-28 01:16:46+00:00   \n",
              "\n",
              "                                        From  \\\n",
              "0        frozenset({'pallen70@hotmail.com'})   \n",
              "1  frozenset({'arsystem@mailman.enron.com'})   \n",
              "\n",
              "                                  To  \\\n",
              "0    frozenset({'pallen@enron.com'})   \n",
              "1  frozenset({'k..allen@enron.com'})   \n",
              "\n",
              "                                             Subject  Mime-Version  \\\n",
              "0                                Fwd: Bishops Corner           1.0   \n",
              "1  Your Approval is Overdue: Access Request for m...           1.0   \n",
              "\n",
              "                         Content-Type Content-Transfer-Encoding  \\\n",
              "0  text/plain; charset=ANSI_X3.4-1968                      7bit   \n",
              "1        text/plain; charset=us-ascii                      7bit   \n",
              "\n",
              "                                         X-From  \\\n",
              "0  \"phillip allen\" <pallen70@hotmail.com>@ENRON   \n",
              "1   ARSystem <ARSystem@mailman.enron.com>@ENRON   \n",
              "\n",
              "                                                X-To X-cc X-bcc  \\\n",
              "0                                   pallen@enron.com  NaN   NaN   \n",
              "1  Allen, Phillip K. </O=ENRON/OU=NA/CN=RECIPIENT...  NaN   NaN   \n",
              "\n",
              "                                            X-Folder X-Origin  \\\n",
              "0  \\Phillip_Allen_Jan2002_1\\Allen, Phillip K.\\Del...  Allen-P   \n",
              "1  \\Phillip_Allen_Jan2002_1\\Allen, Phillip K.\\Del...  Allen-P   \n",
              "\n",
              "                    X-FileName  \\\n",
              "0  pallen (Non-Privileged).pst   \n",
              "1  pallen (Non-Privileged).pst   \n",
              "\n",
              "                                             content     user  \n",
              "0  \\n \\n>From: \"Greg Thorse\" \\n>To: \\n>CC: \"Phill...  allen-p  \n",
              "1  This request has been pending your approval fo...  allen-p  "
            ]
          },
          "metadata": {
            "tags": []
          },
          "execution_count": 52
        }
      ]
    },
    {
      "cell_type": "code",
      "metadata": {
        "id": "_Dlb90qO_vS3"
      },
      "source": [
        "df['Date'] = pd.to_datetime(df['Date'], utc=True)"
      ],
      "execution_count": null,
      "outputs": []
    },
    {
      "cell_type": "code",
      "metadata": {
        "id": "QUhaQ0mmtMcD",
        "outputId": "8bd3bf7a-306b-44f4-a14f-8c500205b3cc",
        "colab": {
          "base_uri": "https://localhost:8080/",
          "height": 478
        }
      },
      "source": [
        "df.info()"
      ],
      "execution_count": null,
      "outputs": [
        {
          "output_type": "stream",
          "text": [
            "<class 'pandas.core.frame.DataFrame'>\n",
            "RangeIndex: 54680 entries, 0 to 54679\n",
            "Data columns (total 19 columns):\n",
            " #   Column                     Non-Null Count  Dtype              \n",
            "---  ------                     --------------  -----              \n",
            " 0   Unnamed: 0                 54680 non-null  int64              \n",
            " 1   file                       54680 non-null  object             \n",
            " 2   Message-ID                 54680 non-null  object             \n",
            " 3   Date                       54680 non-null  datetime64[ns, UTC]\n",
            " 4   From                       54680 non-null  object             \n",
            " 5   To                         52452 non-null  object             \n",
            " 6   Subject                    53427 non-null  object             \n",
            " 7   Mime-Version               54677 non-null  float64            \n",
            " 8   Content-Type               54677 non-null  object             \n",
            " 9   Content-Transfer-Encoding  54677 non-null  object             \n",
            " 10  X-From                     54677 non-null  object             \n",
            " 11  X-To                       54073 non-null  object             \n",
            " 12  X-cc                       13052 non-null  object             \n",
            " 13  X-bcc                      27 non-null     object             \n",
            " 14  X-Folder                   54677 non-null  object             \n",
            " 15  X-Origin                   54677 non-null  object             \n",
            " 16  X-FileName                 52205 non-null  object             \n",
            " 17  content                    54680 non-null  object             \n",
            " 18  user                       54680 non-null  object             \n",
            "dtypes: datetime64[ns, UTC](1), float64(1), int64(1), object(16)\n",
            "memory usage: 7.9+ MB\n"
          ],
          "name": "stdout"
        }
      ]
    },
    {
      "cell_type": "code",
      "metadata": {
        "id": "Tlx0QEv4Qz_a",
        "outputId": "fe423f92-0fe5-4604-aae9-ecbf3fadae62",
        "colab": {
          "base_uri": "https://localhost:8080/",
          "height": 1000
        }
      },
      "source": [
        "# checking possible values each variable can take and for stalk-root we notice that '?' is also a possible value.\n",
        "for c in df.columns:\n",
        "    if (df[c].dtype==object):\n",
        "        print(\"============================\",c,df[c].unique())"
      ],
      "execution_count": null,
      "outputs": [
        {
          "output_type": "stream",
          "text": [
            "============================ file ['allen-p/deleted_items/1.' 'allen-p/deleted_items/10.'\n",
            " 'allen-p/deleted_items/11.' ... 'zufferli-j/sent_items/97.'\n",
            " 'zufferli-j/sent_items/98.' 'zufferli-j/sent_items/99.']\n",
            "============================ Message-ID ['<21543395.1075855374340.JavaMail.evans@thyme>'\n",
            " '<25363451.1075855374674.JavaMail.evans@thyme>'\n",
            " '<8030945.1075855374698.JavaMail.evans@thyme>' ...\n",
            " '<28979867.1075842029988.JavaMail.evans@thyme>'\n",
            " '<22052556.1075842030013.JavaMail.evans@thyme>'\n",
            " '<28618979.1075842030037.JavaMail.evans@thyme>']\n",
            "============================ From [\"frozenset({'pallen70@hotmail.com'})\"\n",
            " \"frozenset({'arsystem@mailman.enron.com'})\"\n",
            " \"frozenset({'ei_editor@platts.com'})\" ...\n",
            " \"frozenset({'carol.moline@powerpool.ab.ca'})\"\n",
            " \"frozenset({'edwardc38@hotmail.com'})\" \"frozenset({'ingjald@shaw.ca'})\"]\n",
            "============================ To [\"frozenset({'pallen@enron.com'})\" \"frozenset({'k..allen@enron.com'})\"\n",
            " \"frozenset({'einsighthtml@listserv.platts.com'})\" ...\n",
            " \"frozenset({'astrid.montes@powerpool.ab.ca'})\"\n",
            " \"frozenset({'ken.gardner@powerpool.ab.ca'})\"\n",
            " \"frozenset({'gerry.hrap@enron.com', 'eric.le@enron.com', 'darren.delage@enron.com', 'stephane.brodeur@enron.com', 'dean.drozdiak@enron.com', 'peggy.hedstrom@enron.com', 'paul.dunsmore@enron.com', 'howard.sangwine@enron.com', 'nicole.laporte@enron.com', 'steven.burnham@enron.com', 'grant.oh@enron.com'})\"]\n",
            "============================ Subject ['Fwd: Bishops Corner'\n",
            " 'Your Approval is Overdue: Access Request for matt.smith@enron.com'\n",
            " 'A hard act to follow: the future for energy without Enron' ...\n",
            " 'Trade with John Lavorato' 'Gas Hedges' 'Calgary Analyst/Associate']\n",
            "============================ Content-Type ['text/plain; charset=ANSI_X3.4-1968' 'text/plain; charset=us-ascii' nan]\n",
            "============================ Content-Transfer-Encoding ['7bit' 'quoted-printable' nan]\n",
            "============================ X-From ['\"phillip allen\" <pallen70@hotmail.com>@ENRON'\n",
            " 'ARSystem <ARSystem@mailman.enron.com>@ENRON'\n",
            " 'Energy Insight Editor <EI_editor@PLATTS.COM>@ENRON' ...\n",
            " '\"Edward Chan\" <edwardc38@hotmail.com>@ENRON'\n",
            " '\"carol.moline@powerpool.ab.ca\" <carol.moline@powerpool.ab.ca>@ENRON'\n",
            " 'Erik Cramer <ingjald@shaw.ca>@ENRON']\n",
            "============================ X-To ['pallen@enron.com'\n",
            " 'Allen, Phillip K. </O=ENRON/OU=NA/CN=RECIPIENTS/CN=PALLEN>'\n",
            " 'EINSIGHTHTML@LISTSERV.PLATTS.COM' ... \"'astrid.montes@powerpool.ab.ca'\"\n",
            " \"'ken.gardner@powerpool.ab.ca'\"\n",
            " 'Laporte, Nicole </O=ENRON/OU=NA/CN=RECIPIENTS/CN=Nlaporte>, Dunsmore, Paul </O=ENRON/OU=NA/CN=RECIPIENTS/CN=Pdunsmor>, Sangwine, Howard </O=ENRON/OU=NA/CN=RECIPIENTS/CN=Hsangwi>, Le Dain, Eric </O=ENRON/OU=NA/CN=RECIPIENTS/CN=Eledain>, Oh, Grant </O=ENRON/OU=NA/CN=RECIPIENTS/CN=Goh>, Drozdiak, Dean </O=ENRON/OU=NA/CN=RECIPIENTS/CN=Ddrozdia>, Hrap, Gerry </O=ENRON/OU=NA/CN=RECIPIENTS/CN=Ghrap>, Delage, Darren </O=ENRON/OU=NA/CN=RECIPIENTS/CN=Ddelage>, Burnham, Steven </O=ENRON/OU=NA/CN=RECIPIENTS/CN=Sburnham>, Brodeur, Stephane </O=ENRON/OU=NA/CN=RECIPIENTS/CN=Sbrodeu>, Hedstrom, Peggy </O=ENRON/OU=NA/CN=RECIPIENTS/CN=Phedstr>']\n",
            "============================ X-cc [nan 'Butler, Pam </O=ENRON/OU=NA/CN=RECIPIENTS/CN=Pbutler>'\n",
            " 'Allen, Phillip K. </O=ENRON/OU=NA/CN=RECIPIENTS/CN=Pallen>' ...\n",
            " 'ken.christensen@powerpool.ab.ca' \"'jzufferli@shaw.ca'\"\n",
            " \"'katrina@valeopower.com'\"]\n",
            "============================ X-bcc [nan 'Piper, Greg </O=ENRON/OU=NA/CN=RECIPIENTS/CN=Gpiper>'\n",
            " \"'david.beck@houston.rr.com'\"\n",
            " 'Carr, James </O=ENRON/OU=NA/CN=RECIPIENTS/CN=Jcarr2>'\n",
            " 'Lokey, Teb </O=ENRON/OU=NA/CN=RECIPIENTS/CN=Tlokey>'\n",
            " 'Robertson, Audrey </O=ENRON/OU=NA/CN=RECIPIENTS/CN=Arobert>'\n",
            " 'Wehring, Linda </O=ENRON/OU=NA/CN=RECIPIENTS/CN=Lwehrin>'\n",
            " 'Storey, Geoff </O=ENRON/OU=NA/CN=RECIPIENTS/CN=Gstorey>'\n",
            " 'Germany, Chris </O=ENRON/OU=NA/CN=RECIPIENTS/CN=Cgerman>'\n",
            " 'Parks, Joe </O=ENRON/OU=NA/CN=RECIPIENTS/CN=Jparks>'\n",
            " 'Dinari, Sabra L. </O=ENRON/OU=NA/CN=RECIPIENTS/CN=Sdinari>, Sanchez, Christina </O=ENRON/OU=NA/CN=RECIPIENTS/CN=Csanche>'\n",
            " 'Arora, Harry </O=ENRON/OU=NA/CN=RECIPIENTS/CN=Harora>'\n",
            " 'Batista, Daniel </O=ENRON/OU=NA/CN=RECIPIENTS/CN=DBATIST>, Schaffer, Brian </O=ENRON/OU=NA/CN=RECIPIENTS/CN=BSCHAFFE>, Barrow, Cynthia </O=ENRON/OU=NA/CN=RECIPIENTS/CN=CBARROW>, Rahaim, Christian </O=ENRON/OU=NA/CN=RECIPIENTS/CN=CRAHAIM>'\n",
            " 'Gadd, Eric </O=ENRON/OU=NA/CN=RECIPIENTS/CN=Egadd>'\n",
            " 'Gadd, Eric </O=ENRON/OU=NA/CN=RECIPIENTS/CN=Egadd>, Schoolcraft, Darrell </O=ENRON/OU=NA/CN=RECIPIENTS/CN=Dschool>'\n",
            " 'Roensch, David </O=ENRON/OU=NA/CN=RECIPIENTS/CN=Notesaddr/cn=68f10420-593507c0-86256744-5ee2d3>'\n",
            " \"'jhyatt@msn.com'\"\n",
            " 'Kean, Steven J. </O=ENRON/OU=NA/CN=RECIPIENTS/CN=Skean>'\n",
            " 'Webb, Jay </O=ENRON/OU=NA/CN=RECIPIENTS/CN=Jwebb>'\n",
            " 'Harris, Steven </O=ENRON/OU=NA/CN=RECIPIENTS/CN=Sharris1>'\n",
            " 'Watson, Kimberly </O=ENRON/OU=NA/CN=RECIPIENTS/CN=Kwatson>, Harris, Steven </O=ENRON/OU=NA/CN=RECIPIENTS/CN=Sharris1>'\n",
            " 'Rosenberg, David E. </O=ENRON/OU=NA/CN=RECIPIENTS/CN=Drosenb>, Culwell, Christi </O=ENRON/OU=NA/CN=RECIPIENTS/CN=Cculwel>, Schroeder, Maggie </O=ENRON/OU=NA/CN=RECIPIENTS/CN=Mschroe4>, Carpenter, Nancy </O=ENRON/OU=NA/CN=RECIPIENTS/CN=Ncarpen>, Giambrone, Laura </O=ENRON/OU=NA/CN=RECIPIENTS/CN=Lgiambr>, Lichtenwalter, Blair </O=ENRON/OU=NA/CN=RECIPIENTS/CN=Blichte>, Kilmer III, Robert </O=ENRON/OU=NA/CN=RECIPIENTS/CN=Rkilmer>'\n",
            " 'Davis, Mark Dana </O=ENRON/OU=NA/CN=RECIPIENTS/CN=Mdavis>, Sturm, Fletcher J. </O=ENRON/OU=NA/CN=RECIPIENTS/CN=Fsturm>, Benson, Robert </O=ENRON/OU=NA/CN=RECIPIENTS/CN=Rbenson>'\n",
            " 'Schwieger, Jim </O=ENRON/OU=NA/CN=RECIPIENTS/CN=Jschwie>'\n",
            " 'Ellenberg, Mark </O=ENRON/OU=NA/CN=RECIPIENTS/CN=Mellenb2>']\n",
            "============================ X-Folder ['\\\\Phillip_Allen_Jan2002_1\\\\Allen, Phillip K.\\\\Deleted Items'\n",
            " '\\\\PALLEN (Non-Privileged)\\\\Allen, Phillip K.\\\\Deleted Items'\n",
            " '\\\\Phillip_Allen_Jan2002_1\\\\Allen, Phillip K.\\\\Inbox' ...\n",
            " '\\\\ExMerge - Zufferli, John\\\\Inbox'\n",
            " '\\\\ExMerge - Zufferli, John\\\\Inbox\\\\Quotes'\n",
            " '\\\\ExMerge - Zufferli, John\\\\Sent Items']\n",
            "============================ X-Origin ['Allen-P' 'Arnold-J' 'Arora-H' 'Badeer-R' 'Bailey-S' 'BASS-E' 'Bass-E'\n",
            " 'BAUGHMAN-D' nan 'Baughman-E' 'Baughman-D' 'BECK-S' 'Beck-S' 'BENSON-R'\n",
            " 'Benson-R' 'Blair-L' 'BRAWNER-S' 'Brawner-S' 'BUY-R' 'Buy-R' 'CAMPBELL-L'\n",
            " 'Campbell-L' 'Carson-M' 'CARSON-M' 'Cash-M' 'Causholli-M' 'Corman-S'\n",
            " 'CRANDELL-S' 'Cuilla-M' 'Shankman-J' 'Dasovich-J' 'Davis-D' 'DEAN-C'\n",
            " 'Dean-C' 'Delainey-D' 'Derrick-J' 'Donoho-L' 'Donohoe-T' 'DORLAND-C'\n",
            " 'Ermis-F' 'FARMER-D' 'Farmer-D' 'FISCHER-M' 'Forney-J' 'GANG-L' 'Gay-R'\n",
            " 'Geaccone-T' 'GERMANY-C' 'Germany-C' 'GILBERTSMITH-D' 'GIRON-D' 'Giron-D'\n",
            " 'GRIFFITH-J' 'Griffith-J' 'Grigsby-M' 'Haedicke-M' 'Kean-S' 'Harris-S'\n",
            " 'Hayslett-R' 'Heard-M' 'Hodge-J' 'HODGE-J' 'Holst-K' 'Horton-S' 'Hyatt-K'\n",
            " 'Jones-T' 'KAMINSKI-V' 'Kaminski-V' 'Keavey-P' 'KEISER-K' 'KING-J'\n",
            " 'King-J' 'KITCHEN-L' 'Kitchen-L' 'Kuykendall-T' 'Lavorato-J' 'Lay-K'\n",
            " 'Lenhart-M' 'LEWIS-A' 'Lewis-A' 'Lokay-M' 'Lokey-T' 'LOVE-P' 'Love-P'\n",
            " 'Luchi-P' 'Lucci-P' 'MAGGI-M' 'Maggi-M' 'MANN-K' 'Mann-K' 'MARTIN-T'\n",
            " 'Martin-T' 'MAY-L' 'May-L' 'McCarty-D' 'McConnell-M' 'McKay-B' 'Mckay-B'\n",
            " 'MCKAY-J' 'McKay-J' 'Mckay-J' 'MCLAUGHLIN-E' 'McLaughlin-E' 'MEYERS-A'\n",
            " 'MIMS-P' 'Mims-Thurston-P' 'MOTLEY-M' 'NEAL-S' 'Neal-S' 'Nemec-G'\n",
            " 'Panus-S' 'PARKS-J' 'Parks-J' 'Pereira-S' 'Perlingiere-D' 'Phanis-S'\n",
            " 'PIMENOV-V' 'Pimenov-V' 'PLATTER-P' 'PRESTO-K' 'Presto-K' 'QUIGLEY-D'\n",
            " 'Quigley-D' 'Rapp-B' 'Reitmeyer-J' 'RICHEY-C' 'RING-A' 'Ring-A' 'Ring-R'\n",
            " 'Rogers-B' 'Ruscitti-K' 'Sager-E' 'SAIBI-E' 'Saibi-E' 'SALISBURY-H'\n",
            " 'Sanders-R' 'SCHOLTES-D' 'Schoolcraft-D' 'Schwieger-J' 'Scott-S'\n",
            " 'SEMPERGER-C' 'Shackleton-S' 'Shapiro-R' 'SHIVELY-H' 'Shively-H'\n",
            " 'SLINGER-R' 'Smith-M' 'SOLBERG-G' 'Staab-T' 'Steffes-J' 'Stepenovitch-J'\n",
            " 'STOREY-G' 'Storey-G' 'STURM-F' 'Sturm-F' 'SWERZBIN-M' 'Taylor-M'\n",
            " 'Tholt-J' 'THOMAS-P' 'Thomas-P' 'TOWNSEND-J' 'Townsend-J' 'Tycholiz-B'\n",
            " 'Ward-K' 'Watson-K' 'WELDON-V' 'Weldon-C' 'Whalley-G' 'Whalley-L'\n",
            " 'WHITE-S' 'White-S' 'Whitt-M' 'Williams-J' 'WILLIAMS-W3' 'Wolfe-J'\n",
            " 'Ybarbo-P' 'ZIPPER-A' 'Zipper-A' 'ZUFFERLI-J']\n",
            "============================ X-FileName ['pallen (Non-Privileged).pst' 'PALLEN (Non-Privileged).pst'\n",
            " 'jarnold (Non-Privileged).pst' 'JARNOLD (Non-Privileged).pst'\n",
            " 'harora (Non-Privileged).pst' 'HARORA (Non-Privileged).pst'\n",
            " 'rbadeer (Non-Privileged).pst' 'sbaile2 (Non-Privileged).pst'\n",
            " 'SBAILE2 (Non-Privileged).pst' 'eric bass 6-25-02.PST'\n",
            " 'ebass (Non-Privileged).pst' 'EBASS (Non-Privileged).pst'\n",
            " 'don baughman 6-25-02.PST' nan 'dbaughm (Non-Privileged).pst'\n",
            " 'DBAUGHM (Non-Privileged).pst' 'sally beck 1-28-02.pst'\n",
            " 'sbeck (Non-Privileged).pst' 'SBECK (Non-Privileged).pst'\n",
            " 'rob benson 6-25-02.PST' 'rbenson (Non-Privileged).pst'\n",
            " 'RBENSON (Non-Privileged).pst' 'lblair (Non-Privileged).pst'\n",
            " 'LBLAIR (Non-Privileged).pst' 'sandra brawner 6-19-02.PST'\n",
            " 'SBRAWNE (Non-Privileged).pst' 'richard buy 1-30-02..pst'\n",
            " 'RBUY (Non-Privileged).pst' 'lcampbe.nsf' 'lcampbe (Non-Privileged).pst'\n",
            " 'lcampbel (Non-Privileged).pst' 'LCAMPBEL (Non-Privileged).pst'\n",
            " 'mcarson2 (Non-Privileged).pst' 'mike carson 6-25-02.PST'\n",
            " 'MCARSON2 (Non-Privileged).pst' 'mcash (Non-Privileged).pst'\n",
            " 'MCASH (Non-Privileged).pst' 'MCAUSHOL (Non-Privileged).pst'\n",
            " 'scorman (Non-Privileged).pst' 'mcuilla (Non-Privileged).pst'\n",
            " 'MCUILLA (Non-Privileged).pst' 'JSHANKM (Non-Privileged).pst'\n",
            " 'jshankm (Non-Privileged).pst' 'JDASOVIC (Non-Privileged).pst'\n",
            " 'jdasovic (Non-Privileged).pst' 'DDAVIS (Non-Privileged).pst'\n",
            " 'CDEAN (Non-Privileged).pst' 'ddelain2 (Non-Privileged).pst'\n",
            " 'ddelaney (Non-Privileged).pst' 'jderric (Non-Privileged).pst'\n",
            " 'JDERRIC (Non-Privileged).pst' 'ldonoho (Non-Privileged).pst'\n",
            " 'LDONOHO (Non-Privileged).pst' 'TDONOHO (Non-Privileged).pst'\n",
            " 'chris dorland 6-26-02.PST' 'fermis (Non-Privileged).pst'\n",
            " 'FERMIS (Non-Privileged).pst' 'darren farmer 6-26-02.pst'\n",
            " 'dfarmer (Non-Privileged).pst' 'DFARMER (Non-Privileged).pst'\n",
            " 'mark fischer 7-12-02 LNotes.nsf' 'JFORNEY (Non-Privileged).pst'\n",
            " 'jforney (Non-Privileged).pst' 'lisa gang 6-25-02.pst'\n",
            " 'rgay (Non-Privileged).pst' 'RGAY (Non-Privileged).pst'\n",
            " 'TGEACCO (Non-Privileged).pst' 'chris germany 6-25-02.pst'\n",
            " 'CGERMAN (Non-Privileged).pst' 'doug gilbert smith 6-25-02.PST'\n",
            " 'darron giron 6-26-02.PST' 'dgiron (Non-Privileged).pst'\n",
            " 'DGIRON (Non-Privileged).pst' 'john griffith 6-25-02.PST'\n",
            " 'JGRIFFIT (Non-Privileged).pst' 'jgriffit (Non-Privileged).pst'\n",
            " 'mgrigsb (Non-Privileged).pst' 'MGRIGSB (Non-Privileged).pst'\n",
            " 'mhaedic (Non-Privileged).pst' 'MHAEDIC (Non-Privileged).pst'\n",
            " 'skean (Non-Privileged).pst' 'SHARRIS1 (Non-Privileged).pst'\n",
            " 'RHAYSLE (Non-Privileged).pst' 'mheard (Non-Privileged).pst'\n",
            " 'MHEARD (Non-Privileged).pst' 'jhodge (Non-Privileged).pst'\n",
            " 'JHODGE (Non-Privileged).pst' 'JHODGE2 (Non-Privileged).pst'\n",
            " 'john w hodge 6-26-02.pst' 'KHOLST (Non-Privileged).pst'\n",
            " 'kholst (Non-Privileged).pst' 'shorton (Non-Privileged).pst'\n",
            " 'SHORTON (Non-Privileged).pst' 'khyatt (Non-Privileged).pst'\n",
            " 'KHYATT (Non-Privileged).pst' 'tjones (Non-Privileged).pst'\n",
            " 'TJONES (Non-Privileged).pst' 'vincent kaminski 1-30-02.pst'\n",
            " 'vkamins (Non-Privileged).pst' 'VKAMINS (Non-Privileged).pst'\n",
            " 'SKEAN (Non-Privileged).pst' 'sharris1 (Non-Privileged).pst'\n",
            " 'PKEAVEY (Non-Privileged).pst' 'kam keiser 7-11-02.PST'\n",
            " 'jeff king 6-26-02.PST' 'JKING6 (Non-Privileged).pst'\n",
            " 'louise kitchen 2-7-02.pst' 'lkitchen (Non-Privileged).pst'\n",
            " 'TKUYKEN (Non-Privileged).pst' 'tkuyken (Non-Privileged).pst'\n",
            " 'jlavora (Non-Privileged).pst' 'JLAVORA (Non-Privileged).pst'\n",
            " 'klay (Non-Privileged).pst' 'KLAY (Non-Privileged).pst'\n",
            " 'MLENHAR (Non-Privileged).pst' 'andy lewis 6-25-02.PST'\n",
            " 'ALEWIS (Non-Privileged).pst' 'mlokay (Non-Privileged).pst'\n",
            " 'MLOKAY (Non-Privileged).pst' 'tlokey (Non-Privileged).pst'\n",
            " 'phillip love 6-25-02.PST' 'plove (Non-Privileged).pst'\n",
            " 'PLOVE (Non-Privileged).pst' 'plucci (Non-Privileged).pst'\n",
            " 'PLUCCI (Non-Privileged).pst' 'michael maggi 6-25-02.PST'\n",
            " 'MMAGGI (Non-Privileged).pst' 'kmann.nsf' 'kmann (Non-Privileged).pst'\n",
            " 'KMANN (Non-Privileged).pst' 'tom martin 6-25-02.PST'\n",
            " 'TMARTIN (Non-Privileged).pst' 'tmartin (Non-Privileged).pst'\n",
            " 'larry may 6-26-02.PST' 'LMAY2 (Non-Privileged).pst'\n",
            " 'McCarty, Danny (Non-Privileged).pst' 'dmccarty (Non-Privileged).pst'\n",
            " 'DMCCARTY (Non-Privileged).pst' 'MMCCONNE (Non-Privileged).pst'\n",
            " 'bmckay (Non-Privileged).pst' 'BMCKAY (Non-Privileged).pst'\n",
            " 'jon mckay 7-11-02.PST' 'jmckay1 (Non-Privileged).pst'\n",
            " 'JMCKAY1 (Non-Privileged).pst' 'erol mclaughlin 6-26-02.PST'\n",
            " 'emclaug (Non-Privileged).pst' 'EMCLAUG (Non-Privileged).pst'\n",
            " 'bert meyers 6-25-02.PST' 'patrice mims 6-25-02.PST'\n",
            " 'PMIMS (Non-Privileged).pst' 'matt motley 6-26-02.pst'\n",
            " 'scott neal 6-26-02.PST' 'SNEAL (Non-Privileged).pst'\n",
            " 'gnemec (Non-Privileged).pst' 'GNEMEC (Non-Privileged).pst'\n",
            " 'SPANUS (Non-Privileged).pst' 'joe parks 6-26-02.pst'\n",
            " 'jparks (Non-Privileged).pst' 'JPARKS (Non-Privileged).pst'\n",
            " 'spereir (Non-Privileged).pst' 'SPEREIR (Non-Privileged).pst'\n",
            " 'Perlingiere, Debra (Non-Privileged).pst' 'dperlin (Non-Privileged).pst'\n",
            " 'DPERLIN (Non-Privileged).pst' 'spanus (Non-Privileged).pst'\n",
            " 'vladi pimenov 6-26-02.PST' 'VPIMENOV (Non-Privileged).pst'\n",
            " 'vpimenov (Non-Privileged).pst' 'phillip platter 6-26-02.PST'\n",
            " 'kevin presto 2-7-02.pst' 'kpresto (Non-Privileged).pst'\n",
            " 'KPRESTO (Non-Privileged).pst' 'dutch quigley 6-26-02.PST'\n",
            " 'DQUIGLE (Non-Privileged).pst' 'dquigle (Non-Privileged).pst'\n",
            " 'Rapp, Bill (Non-Privileged).pst' 'brapp (Non-Privileged).pst'\n",
            " 'BRAPP (Non-Privileged).pst' 'JREITME (Non-Privileged).pst'\n",
            " 'jreitme (Non-Privileged).pst' 'cooper richey 6-26-02.PST'\n",
            " 'andrea ring 6-26-02.PST' 'ARING (Non-Privileged).pst'\n",
            " 'aring (Non-Privileged).pst' 'rring (Non-Privileged).pst'\n",
            " 'brogers (Non-Privileged).pst' 'BROGERS (Non-Privileged).pst'\n",
            " 'KRUSCIT (Non-Privileged).pst' 'esager (Non-Privileged).pst'\n",
            " 'ESAGER (Non-Privileged).pst' 'eric saibi 6-26-02.PST'\n",
            " 'esaibi (Non-Privileged).pst' 'ESAIBI (Non-Privileged).pst'\n",
            " 'holden salisbury 6-26-02.PST' 'rsander (Non-Privileged).pst'\n",
            " 'RSANDER (Non-Privileged).pst' 'dschool (Non-Privileged).pst'\n",
            " 'jschwie (Non-Privileged).pst' 'JSCHWIE (Non-Privileged).pst'\n",
            " 'sscott5 (Non-Privileged).pst' 'cara semperger 6-26-02.PST'\n",
            " 'sshackl (Non-Privileged).pst' 'SSHACKL (Non-Privileged).pst'\n",
            " 'rshapiro (Non-Privileged).pst' 'RSHAPIRO (Non-Privileged).pst'\n",
            " 'hunter shively 6-26-02.PST' 'HSHIVEL (Non-Privileged).pst'\n",
            " 'MSMITH18 (Non-Privileged).pst' 'msmith18 (Non-Privileged).pst'\n",
            " 'geir solberg 6-26-02.PST' 'tstaab (Non-Privileged).pst'\n",
            " 'TSTAAB (Non-Privileged).pst' 'jsteffe (Non-Privileged).pst'\n",
            " 'JSTEFFE (Non-Privileged).pst' 'JSTEPENO (Non-Privileged).pst'\n",
            " 'jstepeno (Non-Privileged).pst' 'geoff storey 6-26-02.PST'\n",
            " 'GSTOREY (Non-Privileged).pst' 'fletcher sturm 6-26-02.PST'\n",
            " 'FSTURM (Non-Privileged).pst' 'fsturm (Non-Privileged).pst'\n",
            " 'mtaylo1 (Non-Privileged).pst' 'MTAYLO1 (Non-Privileged).pst'\n",
            " 'MTAYLOR5 (Non-Privileged).pst' 'JTHOLT (Non-Privileged).pst'\n",
            " 'jtholt (Non-Privileged).pst' 'paul d thomas 6-26-02.PST'\n",
            " 'pthomas2 (Non-Privileged).pst' 'PTHOMAS2 (Non-Privileged).pst'\n",
            " 'judy townsend 6-26-02.PST' 'JTOWNSE (Non-Privileged).pst'\n",
            " 'jtownse (Non-Privileged).pst' 'btychol (Non-Privileged).pst'\n",
            " 'BTYCHOL (Non-Privileged).pst' 'kward (Non-Privileged).pst'\n",
            " 'KWARD (Non-Privileged).pst' 'kwatson (Non-Privileged).pst'\n",
            " 'KWATSON (Non-Privileged).pst' 'v charles weldon 7-2-02.PST'\n",
            " 'VWELDON (Non-Privileged).pst' 'GWHALLE (Non-Privileged).pst'\n",
            " 'gwhalle (Non-Privileged).pst' 'stacy white 7-15-02.PST'\n",
            " 'swhite (Non-Privileged).pst' 'mwhitt (Non-Privileged).pst'\n",
            " 'MWHITT (Non-Privileged).pst' 'jwillia (Non-Privileged).pst'\n",
            " 'JWILLIA (Non-Privileged).pst' 'JWOLFE (Non-Privileged).pst'\n",
            " 'PYBARBO (Non-Privileged).pst' 'andy zipper 6-26-02.PST'\n",
            " 'azipper (Non-Privileged).pst' 'AZIPPER (Non-Privileged).pst'\n",
            " 'john zufferli 6-26-02.PST']\n",
            "============================ content ['\\n \\n>From: \"Greg Thorse\" \\n>To: \\n>CC: \"Phillip Allen\" \\n>Subject: Bishops Corner  \\n>Date: Sat, 29 Dec 2001 17:02:59 -0600  \\n>  \\n>Phillip;  \\n>  \\n>Could you please e-mail me the draw file you created for Bishops Corner. I  \\n>was working on submitting it to you and rather then recreate it I should  \\n>just have you send it back to me to fill in the new draw totals.  \\n>  \\n>Also, I need the vendor payee list that you created for the Land and Soft  \\n>costs. I need to re-format it by draw number and to the Bank One format, and  \\n>again it would be easier to get it from you then to re-create it.  \\n>  \\n>Please take a look at the following summary and compare to your numbers to  \\n>see if you agree.  \\n>  \\n> Land And Soft Costs - Initial Draw $ 1,608,683.05  \\n> Galaxy - Draw # 1 $ 250,000.00  \\n> Galaxy - Draw # 2 $ 223,259.09  \\n>  \\n> Total Paid To Date Cash $ 2,081,942.14  \\n>  \\n> Project Cost $ 10,740,980.87  \\n> Loan Amount $ 8,055,736.65  \\n>  \\n> Equity Required $ 2,685,244.22  \\n> Developer Profit $ ( 326,202.57)  \\n>  \\n> Balance Of Funding $ 2,359,041.65  \\n>  \\n> Total Paid To Date $ 2,081,942.14  \\n>  \\n> Balance To Fund Cash $ 277,099.51  \\n>  \\n>  \\n> Galaxy - Draw # 3 $ 467,566.66  \\n>  \\n> Bank One Draw # 1 $ 190,467.15  \\n> Final Cash Funding $ 277,099.51  \\n>  \\n>  \\n>I think you thought you had more to fund. However, I do not see that you  \\n>accounted for the cash portion of the Developer fee that you paid CIS. Am I  \\n>looking at this right? Please let me know and attach? the files discussed  \\n>above. I am working all day Monday so I hope I can get it before then if  \\n>possible.  \\n>  \\n>Thanks A Lot  \\n>  \\n>Greg Thorse  \\n>  \\n>  \\n>  \\n>  \\n>  \\n>  \\n\\nChat with friends online, try MSN Messenger: Click Here '\n",
            " 'This request has been pending your approval for  57 days.  Please click http://itcapps.corp.enron.com/srrs/auth/emailLink.asp?ID=000000000067320&Page=Approval to review and act upon this request.\\n\\n\\n\\n\\n\\nRequest ID          : 000000000067320\\nRequest Create Date : 10/11/01 10:24:53 AM\\nRequested For       : matt.smith@enron.com\\nResource Name       : Risk Acceptance Forms Local Admin Rights - Permanent\\nResource Type       : Applications\\n\\n\\n\\n'\n",
            " \" =20\\n=09\\n\\n\\n                        =09                       Updated: Dec. 28, 2001   =\\n                            [IMAGE]A hard act to follow: the future for ene=\\nrgy without Enron  The energy industry is beginning to imagine its future w=\\nithout the swashbuckling Enron, the future of which could now rest with ban=\\nkruptcy courts on both sides of the Atlantic.                              =\\n                                                                           =\\n                                                                           =\\n                                            [IMAGE]Fight over hydro project=\\n could become war Outcome could set precedent for other relicensing   Envir=\\nonmental issues may be deciding factor                                     =\\n                     [IMAGE]Shedding light on power prices EU study shows e=\\nnd of price transparency  Denmark residential customers pay more  VAT impac=\\nts prices                                                          [IMAGE]A=\\n sci-fi twist in clean coal research Bioprocessing cleans impurities  Scien=\\ntists create coal-adapted microbes                                         =\\n        PSI Energy asks Ind. regulators to approve plant transfer [IMAGE]fu=\\nll story...  Arkansas PSC recommends state delay or scrap competition [IMAG=\\nE]full story...  Delta Petroleum acquires private Piper Petroleum [IMAGE]fu=\\nll story...  Chavez expects modest oil price recovery in 2002 [IMAGE]full s=\\ntory...  Missouri PSC grants MGE variance on disconnections [IMAGE]full sto=\\nry...  FERC backs Texas co-op in pass-through dispute [IMAGE]full story... =\\n Brazil makes minor changes in new fuel market rules [IMAGE]full story...  =\\nWith pipe/lease plan, SCG eyes Georgia, South Carolina [IMAGE]full story...=\\n  AGA: Storage stocks drop 81 Bcf to 2.980 Tcf; 91% full [IMAGE]full story.=\\n..  AES settles tariff with Brazil in industry-wide accord [IMAGE]full stor=\\ny...  [IMAGE]To view all of today's Executive News headlines, [IMAGE]click =\\nhere                              Copyright ? 2001 - Platts, All Rights Res=\\nerved      Market Brief  Thursday, December 27  Stocks Close Change % Chang=\\ne DJIA 10,131.31 43.2  0.43% DJ 15 Util. 292.86 3.1  1.06% NASDAQ 1,976.36 =\\n15.66  0.80% S&P 500 1,157.12 7.8  0.67%     Market Vols Close Change % Cha=\\nnge AMEX (000) 88,986 (6,091.0) -6.41% NASDAQ (000) 1,229,831 102,400.0  9.=\\n08% NYSE (000) 881,030 88,396.0  11.15%     Commodities Close Change % Chan=\\nge Crude Oil (Feb) 20.9 (0.37) -1.74% Heating Oil (Jan) 0.5927 (0.002) -0.3=\\n2% Nat. Gas (Henry) 2.52 (0.391) -13.43% Propane (Jan) 33.75 (0.50) -1.46% =\\nPalo Verde (Jan) 28.00 0.00  0.00% COB (Jan) 28.00 0.00  0.00% PJM (Jan) 31=\\n.15 0.00  0.00%     Dollar US $ Close Change % Change Australia $  1.970 0.=\\n002  0.10% Canada $   1.60 (0.004) -0.25% Germany Dmark  2.21 (0.011) -0.49=\\n% Euro   0.8835 0.004  0.50% Japan ?en  131.7 0.900  0.69% Mexico NP 9.13 0=\\n.000  0.00% UK Pound   0.6885 0.0006  0.09%     Foreign Indices Close Chang=\\ne % Change Arg MerVal 320.46 0.00  0.00% Austr All Ord. 3,354.70 19.50  0.5=\\n8% Braz Bovespa 13755.65 397.23  2.97% Can TSE 300  7650.60 98.01  1.30% Ge=\\nrmany DAX 5117.13 98.12  1.95% HK HangSeng 11359.5 149.72  1.34% Japan Nikk=\\nei 225  10457.61 265.04  2.60% Mexico IPC  6414.60 6371.84  0.53% UK FTSE 1=\\n00 5,213.20 35.80  0.69%       Source:  Yahoo!, TradingDay.com and NYMEX.co=\\nm   =09                                =09  =09\\n\\n\\n - bug_black.gif=20\\n - Market briefs.xls\"\n",
            " ...\n",
            " \"2\\n\\n -----Original Message-----\\nFrom: \\tDoucet, Dawn  \\nSent:\\tWednesday, November 28, 2001 8:17 AM\\nTo:\\tZufferli, John\\nSubject:\\tCONFIDENTIAL\\n\\nMorning John,\\nI'm still working on the mini-PRC for Lavo.  Sean Lalani has not yet been ranked and rumour has it that he reports to you now.  Can you confirm and send me a number.  Thanks!\"\n",
            " 'Analyst\\t\\t\\t\\t\\tRank\\n\\nStephane Brodeur\\t\\t\\t1\\nChad Clark\\t\\t\\t\\t1\\nIan Cooke\\t\\t\\t\\t3\\nLon Draper\\t\\t\\t\\t1\\nFabian Taylor\\t\\t\\t\\t2\\nCarlos Torres\\t\\t\\t\\t3\\nRyan Watt\\t\\t\\t\\t1\\n\\nAssociate\\n\\nCooper Richey\\t\\t\\t\\t1\\n'\n",
            " \"i think the YMCA has a class that is for people recovering from heart-attacks\\ni remeber something about that\\n\\n -----Original Message-----\\nFrom: \\tLivia_Zufferli@Monitor.com@ENRON  \\nSent:\\tMonday, November 26, 2001 11:44 AM\\nTo:\\tZufferli, John\\nSubject:\\tRE: ali's essays\\n\\n\\ni don't know about the heart classes.  i'll look into it, but her dr (ravi)\\nisn't offering up any suggestions or anything.  she saw him before the\\nsurgery in august, and he said things were okay.  i really don't think he's\\ntoo helpful.\\n\\nshe is lazy -- but it really frustrates me that she doesn't want to help\\nherself.  i told her that not walking is like not taking her heart\\nmedication.  that didn't seem to resonate.  dad is going to go to the YMCA\\ntomorrow and maybe get a membership for both of them -- they have a walking\\ntrack there (at least it's something to do in the winter).  when she was\\ndown this weekend, we walked around the craft show (at the Exhibition\\nplace) and she said that was a lot of exercise (2 hrs).  The only problem\\nis that we were just strolling, and not really walking very fast.\\n\\n\\n\\n\\n\\n                    John.Zufferli@\\n                    enron.com            To:     Livia_Zufferli@Monitor.com\\n                                         cc:\\n                    11/26/2001           Subject:     RE: ali's essays\\n                    01:41 PM\\n\\n\\n\\n\\n\\n\\njust send the essay at home\\n\\nI don't know what to do about mom, i don't think fear is the only thing\\nholding her back , i think she is lazy\\n\\nis there a heart health class in Sudbury that has excercise regimines as\\nwell as diets?\\n\\nwhen is the last time she saw her doctor\\n\\n    -----Original Message-----\\n   From:   Livia_Zufferli@Monitor.com@ENRON\\n   Sent:   Monday, November 26, 2001 11:19 AM\\n   To:     Zufferli, John\\n   Subject:  ali's essays\\n\\n   Hi John\\n\\n   How was Thanksgiving?  Was the baby shower fun?\\n\\n   I was wondering if you'd have some time to read over Ali's Chicago\\n   essays\\n   later tonight?  He's going to submit them on Wednesday.  Let me know if\\n   that's okay.  Do you have a printer at home?  Can I send them to your\\n   home\\n   account?  (I don't think Ali will be done before about 8pm or so\\n   tonight).\\n\\n   PS:  We need to talk about mom.  I saw her this weekend -- she's gained\\n   a\\n   lot of weight, and hasn't been exercising at all.  Dad's pretty\\n   frustrated\\n   because all she does is watch tv.  I had a talk with her yesterday\\n   telling\\n   her that she has more risk of having a heart attack if she doesn't walk\\n   /\\n   exercise than if she exerts herself when exercising (i think she's\\n   afraid\\n   of having a heart attack while exercising).  We need to do something --\\n   she's 170lbs now, and should be at around 140lbs to be healthy.\\n\\n   Livia\\n\\n\\n\\n\\n**********************************************************************\\nThis e-mail is the property of Enron Corp. and/or its relevant affiliate\\nand may contain confidential and privileged material for the sole use of\\nthe intended recipient (s). Any review, use, distribution or disclosure by\\nothers is strictly prohibited. If you are not the intended recipient (or\\nauthorized to receive for the recipient), please contact the sender or\\nreply to Enron Corp. at enron.messaging.administration@enron.com and delete\\nall copies of the message. This e-mail (and any attachments hereto) are not\\nintended to be an offer (or an acceptance) and do not create or evidence a\\nbinding and enforceable contract between Enron Corp. (or any of its\\naffiliates) and the intended recipient or any other party, and may not be\\nrelied on by anyone as the basis of a contract by estoppel or otherwise.\\nThank you.\\n**********************************************************************\\n\\n\\n\"]\n",
            "============================ user ['allen-p' 'arnold-j' 'arora-h' 'badeer-r' 'bailey-s' 'bass-e'\n",
            " 'baughman-d' 'beck-s' 'benson-r' 'blair-l' 'brawner-s' 'buy-r'\n",
            " 'campbell-l' 'carson-m' 'cash-m' 'causholli-m' 'corman-s' 'crandell-s'\n",
            " 'cuilla-m' 'dasovich-j' 'davis-d' 'dean-c' 'delainey-d' 'derrick-j'\n",
            " 'donoho-l' 'donohoe-t' 'dorland-c' 'ermis-f' 'farmer-d' 'fischer-m'\n",
            " 'forney-j' 'gang-l' 'gay-r' 'geaccone-t' 'germany-c' 'gilbertsmith-d'\n",
            " 'giron-d' 'griffith-j' 'grigsby-m' 'haedicke-m' 'harris-s' 'hayslett-r'\n",
            " 'heard-m' 'hodge-j' 'holst-k' 'horton-s' 'hyatt-k' 'jones-t' 'kaminski-v'\n",
            " 'kean-s' 'keavey-p' 'keiser-k' 'king-j' 'kitchen-l' 'kuykendall-t'\n",
            " 'lavorato-j' 'lay-k' 'lenhart-m' 'lewis-a' 'lokay-m' 'lokey-t' 'love-p'\n",
            " 'lucci-p' 'maggi-m' 'mann-k' 'martin-t' 'may-l' 'mccarty-d' 'mcconnell-m'\n",
            " 'mckay-b' 'mckay-j' 'mclaughlin-e' 'meyers-a' 'mims-thurston-p'\n",
            " 'motley-m' 'neal-s' 'nemec-g' 'panus-s' 'parks-j' 'pereira-s'\n",
            " 'perlingiere-d' 'phanis-s' 'pimenov-v' 'platter-p' 'presto-k' 'quigley-d'\n",
            " 'rapp-b' 'reitmeyer-j' 'richey-c' 'ring-a' 'ring-r' 'rogers-b'\n",
            " 'ruscitti-k' 'sager-e' 'saibi-e' 'salisbury-h' 'sanders-r' 'scholtes-d'\n",
            " 'schoolcraft-d' 'schwieger-j' 'scott-s' 'semperger-c' 'shackleton-s'\n",
            " 'shankman-j' 'shapiro-r' 'shively-h' 'slinger-r' 'smith-m' 'solberg-g'\n",
            " 'staab-t' 'steffes-j' 'stepenovitch-j' 'storey-g' 'sturm-f' 'swerzbin-m'\n",
            " 'taylor-m' 'tholt-j' 'thomas-p' 'townsend-j' 'tycholiz-b' 'ward-k'\n",
            " 'watson-k' 'weldon-c' 'whalley-g' 'whalley-l' 'white-s' 'whitt-m'\n",
            " 'williams-j' 'williams-w3' 'wolfe-j' 'ybarbo-p' 'zipper-a' 'zufferli-j']\n"
          ],
          "name": "stdout"
        }
      ]
    },
    {
      "cell_type": "markdown",
      "metadata": {
        "id": "kqrz8LMOtNHQ"
      },
      "source": [
        "# Exploratory data analysis"
      ]
    },
    {
      "cell_type": "code",
      "metadata": {
        "id": "EcVKgftWtJ83",
        "outputId": "f5c810bb-eb82-4f35-bde7-12e14c6ec9db",
        "colab": {
          "base_uri": "https://localhost:8080/",
          "height": 278
        }
      },
      "source": [
        "day_of_week = df.groupby(df['Date'].dt.weekday)['content'].count().plot()\n",
        "day_of_week.set_xlabel('Day of week', fontsize=10)\n",
        "day_of_week.set_ylabel('No of emails', fontsize=10)\n",
        "plt.show()"
      ],
      "execution_count": null,
      "outputs": [
        {
          "output_type": "display_data",
          "data": {
            "image/png": "[encoded data removed]",
            "text/plain": [
              "<Figure size 432x288 with 1 Axes>"
            ]
          },
          "metadata": {
            "tags": []
          }
        }
      ]
    },
    {
      "cell_type": "code",
      "metadata": {
        "id": "dOEv9sq7_5rI",
        "outputId": "83a7abcc-f6ad-4f50-bff5-4652ac908799",
        "colab": {
          "base_uri": "https://localhost:8080/",
          "height": 278
        }
      },
      "source": [
        "\n",
        "hour_of_day = df.groupby(df['Date'].dt.hour)['content'].count().plot()\n",
        "hour_of_day.set_xlabel('Hour of the day', fontsize=10)\n",
        "hour_of_day.set_ylabel('No of emails', fontsize=10)\n",
        "plt.show()"
      ],
      "execution_count": null,
      "outputs": [
        {
          "output_type": "display_data",
          "data": {
            "image/png": "[encoded data removed]",
            "text/plain": [
              "<Figure size 432x288 with 1 Axes>"
            ]
          },
          "metadata": {
            "tags": []
          }
        }
      ]
    },
    {
      "cell_type": "code",
      "metadata": {
        "id": "Tm-5siASAQY3",
        "outputId": "281ab035-2e7f-46f9-992e-afb8f1fe3fdb",
        "colab": {
          "base_uri": "https://localhost:8080/",
          "height": 484
        }
      },
      "source": [
        "\n",
        "frequent_sender = df.groupby(df['To'])['content'].count()\n",
        "frequent_sender.sort_values(ascending=False)[:5].plot.bar()\n",
        "plt.show()"
      ],
      "execution_count": null,
      "outputs": [
        {
          "output_type": "display_data",
          "data": {
            "image/png": "[encoded data removed]",
            "text/plain": [
              "<Figure size 432x288 with 1 Axes>"
            ]
          },
          "metadata": {
            "tags": []
          }
        }
      ]
    },
    {
      "cell_type": "code",
      "metadata": {
        "id": "IC-W1gWTAfG6",
        "outputId": "5d752d4e-8ef1-454e-f614-9a88ae2ed570",
        "colab": {
          "base_uri": "https://localhost:8080/",
          "height": 484
        }
      },
      "source": [
        "\n",
        "frequent_recevier = df.groupby(df['From'])['content'].count()\n",
        "frequent_sender.sort_values(ascending=False)[:5].plot.bar()\n",
        "plt.show()"
      ],
      "execution_count": null,
      "outputs": [
        {
          "output_type": "display_data",
          "data": {
            "image/png": "[encoded data removed]",
            "text/plain": [
              "<Figure size 432x288 with 1 Axes>"
            ]
          },
          "metadata": {
            "tags": []
          }
        }
      ]
    },
    {
      "cell_type": "code",
      "metadata": {
        "id": "s0XmVl_TARJC"
      },
      "source": [
        ""
      ],
      "execution_count": null,
      "outputs": []
    },
    {
      "cell_type": "markdown",
      "metadata": {
        "id": "4YuuNVJ7tKsy"
      },
      "source": [
        "# Section 2: Sentiment Analysis"
      ]
    },
    {
      "cell_type": "markdown",
      "metadata": {
        "id": "O0y9aYpiA_9e"
      },
      "source": [
        "### Text Normalization :\n",
        "after ignoring cases, removing stopwords, extra whitespaces and punctuations, we tried to reduce words to their stems. Used the PorterStemmer algorithm to perform word stemming on email text. The NLTK package has an implementation of this algorithm."
      ]
    },
    {
      "cell_type": "code",
      "metadata": {
        "id": "MBMZwxFmrs04",
        "outputId": "ed9a5b87-35db-42ed-cdec-1465af93e541",
        "colab": {
          "base_uri": "https://localhost:8080/",
          "height": 70
        }
      },
      "source": [
        "  import nltk\n",
        "  nltk.download('stopwords')"
      ],
      "execution_count": null,
      "outputs": [
        {
          "output_type": "stream",
          "text": [
            "[nltk_data] Downloading package stopwords to /root/nltk_data...\n",
            "[nltk_data]   Package stopwords is already up-to-date!\n"
          ],
          "name": "stdout"
        },
        {
          "output_type": "execute_result",
          "data": {
            "text/plain": [
              "True"
            ]
          },
          "metadata": {
            "tags": []
          },
          "execution_count": 61
        }
      ]
    },
    {
      "cell_type": "code",
      "metadata": {
        "id": "LrFoUMADriET"
      },
      "source": [
        "tokenizer=RegexpTokenizer(r'\\w+|\\.')\n",
        "stop_words = stopwords.words('english')\n",
        "stop_words.extend(['from', 'subject', 're', 'edu', 'use', '.', 'unknown','imag', 'http', 'com', 'id', 'srr', 'cc','time','one','let','get','thanks','would','call','please','know','date','iso','asp','click','pdf','html','www','com','enron','ena','gas','href','align','size','width','tr','br','td','font', 'gif','net','www','xls','ubs','see','doc'])\n",
        "\n",
        "def clean_text(text):\n",
        "    text = re.sub(r'<.*?>', '', text)\n",
        "    text = re.sub(r\"\\\\\", \"\", text)    \n",
        "    text = re.sub(r\"\\'\", \"\", text)    \n",
        "    text = re.sub(r\"\\\"\", \"\", text)    \n",
        "  \n",
        "    text = re.sub(\"/(?<!\\S).(?!\\S)\\s*/\", \" \", text) # removing single character spaces\n",
        "    text = re.sub(\"\\s\\s+\", \" \", text) # removing multiple spaces\n",
        "\n",
        "    text = text.strip().lower()\n",
        "    text = ''.join([i for i in text if not i.isdigit()])\n",
        "    filters='!\"\\'#$%&()*+,-/:;<=>?@[\\\\]^_`{|}~\\t\\n'\n",
        "    translate_dict = dict((c, \" \") for c in filters)\n",
        "    translate_map = str.maketrans(translate_dict)\n",
        "    text = text.translate(translate_map)\n",
        "    return text"
      ],
      "execution_count": null,
      "outputs": []
    },
    {
      "cell_type": "code",
      "metadata": {
        "id": "QPujZ_ywriBF"
      },
      "source": [
        "df['content'] = df['content'].apply(lambda x : clean_text(str(x)))\n",
        "df['content'] = df['content'].apply(lambda x : tokenizer.tokenize(str(x)))\n",
        "df['content'] = df['content'].apply(lambda x : [w for w in x if not w in stop_words])\n",
        "#ps=PorterStemmer()\n",
        "#df['content'] = df['content'].apply(lambda l : [ps.stem(w) for w in l])\n",
        "# df['content'] = df['content'].apply(lambda x : \" \".join(tokenizer.tokenize(str(x))))\n",
        "df['content'] = [w for w in df['content'] if not w in stop_words] \n",
        "corpus=df['content'].tolist()"
      ],
      "execution_count": null,
      "outputs": []
    },
    {
      "cell_type": "code",
      "metadata": {
        "id": "FF6mLRIkuBuq"
      },
      "source": [
        "corpus"
      ],
      "execution_count": null,
      "outputs": []
    },
    {
      "cell_type": "code",
      "metadata": {
        "id": "wghfplUmrh-L",
        "outputId": "87c279bf-34bf-466c-f08b-8d1cac5064e8",
        "colab": {
          "base_uri": "https://localhost:8080/",
          "height": 230
        }
      },
      "source": [
        "df['content']"
      ],
      "execution_count": null,
      "outputs": [
        {
          "output_type": "execute_result",
          "data": {
            "text/plain": [
              "0        greg thors phillip allen bishop corner sat dec...\n",
              "1        request pend approv day itcapp corp srr auth e...\n",
              "2        updat dec imag hard act follow futur ene rgi w...\n",
              "3        resolut center decommiss number januari contin...\n",
              "4        offic new year begin inform fundi meet day cov...\n",
              "                               ...                        \n",
              "54675    trade oil spec hedg ng john lavorato book john...\n",
              "54676          posit alberta term book send posit directli\n",
              "54677    origin messag doucet dawn sent wednesday novem...\n",
              "54678    analyst rank stephan brodeur chad clark ian co...\n",
              "54679    think ymca class peopl recov heart attack reme...\n",
              "Name: content, Length: 54680, dtype: object"
            ]
          },
          "metadata": {
            "tags": []
          },
          "execution_count": 64
        }
      ]
    },
    {
      "cell_type": "code",
      "metadata": {
        "id": "l7iBveR6q8-_"
      },
      "source": [
        "  stop_models = [i for i in tokenized_models if str(i).lower() not in stopset"
      ],
      "execution_count": null,
      "outputs": []
    },
    {
      "cell_type": "code",
      "metadata": {
        "id": "N6RgjhZ8BtKp"
      },
      "source": [
        "from nltk.stem import LancasterStemmer, WordNetLemmatizer\n",
        "def stem_words(words):\n",
        "    \"\"\"Stem words in list of tokenized words\"\"\"\n",
        "    stemmer = LancasterStemmer()\n",
        "    stems = []\n",
        "    for word in words:\n",
        "        stem = stemmer.stem(word)\n",
        "        stems.append(stem)\n",
        "    return stems"
      ],
      "execution_count": null,
      "outputs": []
    },
    {
      "cell_type": "code",
      "metadata": {
        "id": "1D8DHjlWB_LV"
      },
      "source": [
        "def lemmatize_verbs(words):\n",
        "    \"\"\"Lemmatize verbs in list of tokenized words\"\"\"\n",
        "    lemmatizer = WordNetLemmatizer()\n",
        "    lemmas = []\n",
        "    for word in words:\n",
        "        lemma = lemmatizer.lemmatize(word, pos='v')\n",
        "        lemmas.append(lemma)\n",
        "    return lemmas"
      ],
      "execution_count": null,
      "outputs": []
    },
    {
      "cell_type": "code",
      "metadata": {
        "id": "1m5FTU__tlVC",
        "outputId": "65dc20d6-1c23-4eef-993f-323710a9d1e1",
        "colab": {
          "base_uri": "https://localhost:8080/",
          "height": 70
        }
      },
      "source": [
        "nltk.download('punkt')"
      ],
      "execution_count": null,
      "outputs": [
        {
          "output_type": "stream",
          "text": [
            "[nltk_data] Downloading package punkt to /root/nltk_data...\n",
            "[nltk_data]   Package punkt is already up-to-date!\n"
          ],
          "name": "stdout"
        },
        {
          "output_type": "execute_result",
          "data": {
            "text/plain": [
              "True"
            ]
          },
          "metadata": {
            "tags": []
          },
          "execution_count": 69
        }
      ]
    },
    {
      "cell_type": "code",
      "metadata": {
        "id": "deLpxs5gB_Zf"
      },
      "source": [
        "#Reduce the words to their stems\n",
        "from nltk.tokenize import word_tokenize\n",
        "df['content']=df['content'].apply(word_tokenize)"
      ],
      "execution_count": null,
      "outputs": []
    },
    {
      "cell_type": "code",
      "metadata": {
        "id": "CVWgVEaxuYqL",
        "outputId": "1ab43440-1370-46e9-f6d9-fce4438e5f1c",
        "colab": {
          "base_uri": "https://localhost:8080/",
          "height": 941
        }
      },
      "source": [
        "df['content'][4]"
      ],
      "execution_count": null,
      "outputs": [
        {
          "output_type": "execute_result",
          "data": {
            "text/plain": [
              "['offic',\n",
              " 'new',\n",
              " 'year',\n",
              " 'begin',\n",
              " 'inform',\n",
              " 'fundi',\n",
              " 'meet',\n",
              " 'day',\n",
              " 'cover',\n",
              " 'happen',\n",
              " 'market',\n",
              " 'sinc',\n",
              " 'file',\n",
              " 'bankruptci',\n",
              " 'go',\n",
              " 'pipelin',\n",
              " 'flow',\n",
              " 'storag',\n",
              " 'balanc',\n",
              " 'weather',\n",
              " 'monthli',\n",
              " 'daili',\n",
              " 'price',\n",
              " 'etc',\n",
              " 'bank',\n",
              " 'show',\n",
              " 'interest',\n",
              " 'show',\n",
              " 'bid',\n",
              " 'thought',\n",
              " 'good',\n",
              " 'us',\n",
              " 'begin',\n",
              " 'prepar',\n",
              " 'trade',\n",
              " 'market',\n",
              " 'chri',\n",
              " 'gaskil',\n",
              " 'provid',\n",
              " 'daili',\n",
              " 'packet',\n",
              " 'patti',\n",
              " 'sullivan',\n",
              " 'provid',\n",
              " 'daili',\n",
              " 'oper',\n",
              " 'report',\n",
              " 'think',\n",
              " 'start',\n",
              " 'around',\n",
              " 'morn',\n",
              " 'grigsbi']"
            ]
          },
          "metadata": {
            "tags": []
          },
          "execution_count": 71
        }
      ]
    },
    {
      "cell_type": "markdown",
      "metadata": {
        "id": "FXjjSbwqCeFY"
      },
      "source": [
        "# Email classification into negative/positive/neutral"
      ]
    },
    {
      "cell_type": "markdown",
      "metadata": {
        "id": "QN42bVZMChtM"
      },
      "source": [
        "\n",
        "We will now perform a sentiment analysis wherein we classify the emails into positive and negative in tone. We will use the NRC definition of words associated with positive and negative emotions to first extract the words associated with each emotion. Once we receive the total positive and total negative words from the email we perform a simple comparison to determine whether the email is:\n",
        "\n",
        "           positive in tone (sentiment coding 1)\n",
        "           negative in tone (sentiment coding -1)\n",
        "           neutral in tone (sentiment coding 0)\n",
        "\n",
        "  https://medium.com/@b.terryjack/nlp-pre-trained-sentiment-analysis-1eb52a9d742c"
      ]
    },
    {
      "cell_type": "markdown",
      "metadata": {
        "id": "b2YOaflyLl95"
      },
      "source": [
        "## NLTK"
      ]
    },
    {
      "cell_type": "code",
      "metadata": {
        "id": "MnIaVJZRDYs5",
        "outputId": "2b93fd77-79ae-4767-a1cf-9beacac3ea87",
        "colab": {
          "base_uri": "https://localhost:8080/",
          "height": 52
        }
      },
      "source": [
        "import nltk\n",
        "nltk.download('vader_lexicon')\n",
        "from nltk.sentiment.vader import SentimentIntensityAnalyzer\n",
        "sid = SentimentIntensityAnalyzer()\n",
        "# sid.polarity_scores(sentence)"
      ],
      "execution_count": null,
      "outputs": [
        {
          "output_type": "stream",
          "text": [
            "[nltk_data] Downloading package vader_lexicon to /root/nltk_data...\n",
            "[nltk_data]   Package vader_lexicon is already up-to-date!\n"
          ],
          "name": "stdout"
        }
      ]
    },
    {
      "cell_type": "code",
      "metadata": {
        "id": "-oZLk7IEB_iI",
        "outputId": "d714abbc-34f9-4a65-eb2f-0f0ca7b49fe3",
        "colab": {
          "base_uri": "https://localhost:8080/",
          "height": 34
        }
      },
      "source": [
        "## Testing##\n",
        "a = 'This was a good movie.'\n",
        "sid.polarity_scores(a)"
      ],
      "execution_count": null,
      "outputs": [
        {
          "output_type": "execute_result",
          "data": {
            "text/plain": [
              "{'compound': 0.4404, 'neg': 0.0, 'neu': 0.508, 'pos': 0.492}"
            ]
          },
          "metadata": {
            "tags": []
          },
          "execution_count": 73
        }
      ]
    },
    {
      "cell_type": "code",
      "metadata": {
        "id": "sQZ623NZZnqQ",
        "outputId": "6ee38ba3-ac6a-4c23-9f60-ff28c108f266",
        "colab": {
          "base_uri": "https://localhost:8080/",
          "height": 230
        }
      },
      "source": [
        "df['content'].pop"
      ],
      "execution_count": null,
      "outputs": [
        {
          "output_type": "execute_result",
          "data": {
            "text/plain": [
              "<bound method Series.pop of 0        [greg, thors, phillip, allen, bishop, corner, ...\n",
              "1        [request, pend, approv, day, itcapp, corp, srr...\n",
              "2        [updat, dec, imag, hard, act, follow, futur, e...\n",
              "3        [resolut, center, decommiss, number, januari, ...\n",
              "4        [offic, new, year, begin, inform, fundi, meet,...\n",
              "                               ...                        \n",
              "54675    [trade, oil, spec, hedg, ng, john, lavorato, b...\n",
              "54676    [posit, alberta, term, book, send, posit, dire...\n",
              "54677    [origin, messag, doucet, dawn, sent, wednesday...\n",
              "54678    [analyst, rank, stephan, brodeur, chad, clark,...\n",
              "54679    [think, ymca, class, peopl, recov, heart, atta...\n",
              "Name: content, Length: 54680, dtype: object>"
            ]
          },
          "metadata": {
            "tags": []
          },
          "execution_count": 74
        }
      ]
    },
    {
      "cell_type": "code",
      "metadata": {
        "id": "RIWrKObXZ_M9",
        "outputId": "830deb34-a6e5-4329-f083-29dc4c4d7be9",
        "colab": {
          "base_uri": "https://localhost:8080/",
          "height": 361
        }
      },
      "source": [
        "from nltk.stem.porter import PorterStemmer \n",
        "stemmer = PorterStemmer() \n",
        "df['stemmer'] = df['content'].apply(lambda x: [stemmer.stem(i) for i in x])\n",
        "df.head(2)\n"
      ],
      "execution_count": null,
      "outputs": [
        {
          "output_type": "execute_result",
          "data": {
            "text/html": [
              "<div>\n",
              "<style scoped>\n",
              "    .dataframe tbody tr th:only-of-type {\n",
              "        vertical-align: middle;\n",
              "    }\n",
              "\n",
              "    .dataframe tbody tr th {\n",
              "        vertical-align: top;\n",
              "    }\n",
              "\n",
              "    .dataframe thead th {\n",
              "        text-align: right;\n",
              "    }\n",
              "</style>\n",
              "<table border=\"1\" class=\"dataframe\">\n",
              "  <thead>\n",
              "    <tr style=\"text-align: right;\">\n",
              "      <th></th>\n",
              "      <th>Unnamed: 0</th>\n",
              "      <th>file</th>\n",
              "      <th>Message-ID</th>\n",
              "      <th>Date</th>\n",
              "      <th>From</th>\n",
              "      <th>To</th>\n",
              "      <th>Subject</th>\n",
              "      <th>Mime-Version</th>\n",
              "      <th>Content-Type</th>\n",
              "      <th>Content-Transfer-Encoding</th>\n",
              "      <th>X-From</th>\n",
              "      <th>X-To</th>\n",
              "      <th>X-cc</th>\n",
              "      <th>X-bcc</th>\n",
              "      <th>X-Folder</th>\n",
              "      <th>X-Origin</th>\n",
              "      <th>X-FileName</th>\n",
              "      <th>content</th>\n",
              "      <th>user</th>\n",
              "      <th>stemmer</th>\n",
              "    </tr>\n",
              "  </thead>\n",
              "  <tbody>\n",
              "    <tr>\n",
              "      <th>0</th>\n",
              "      <td>1232</td>\n",
              "      <td>allen-p/deleted_items/1.</td>\n",
              "      <td>&lt;21543395.1075855374340.JavaMail.evans@thyme&gt;</td>\n",
              "      <td>2001-12-30 18:19:42+00:00</td>\n",
              "      <td>frozenset({'pallen70@hotmail.com'})</td>\n",
              "      <td>frozenset({'pallen@enron.com'})</td>\n",
              "      <td>Fwd: Bishops Corner</td>\n",
              "      <td>1.0</td>\n",
              "      <td>text/plain; charset=ANSI_X3.4-1968</td>\n",
              "      <td>7bit</td>\n",
              "      <td>\"phillip allen\" &lt;pallen70@hotmail.com&gt;@ENRON</td>\n",
              "      <td>pallen@enron.com</td>\n",
              "      <td>NaN</td>\n",
              "      <td>NaN</td>\n",
              "      <td>\\Phillip_Allen_Jan2002_1\\Allen, Phillip K.\\Del...</td>\n",
              "      <td>Allen-P</td>\n",
              "      <td>pallen (Non-Privileged).pst</td>\n",
              "      <td>[greg, thors, phillip, allen, bishop, corner, ...</td>\n",
              "      <td>allen-p</td>\n",
              "      <td>[greg, thor, phillip, allen, bishop, corner, s...</td>\n",
              "    </tr>\n",
              "    <tr>\n",
              "      <th>1</th>\n",
              "      <td>1233</td>\n",
              "      <td>allen-p/deleted_items/10.</td>\n",
              "      <td>&lt;25363451.1075855374674.JavaMail.evans@thyme&gt;</td>\n",
              "      <td>2001-12-28 01:16:46+00:00</td>\n",
              "      <td>frozenset({'arsystem@mailman.enron.com'})</td>\n",
              "      <td>frozenset({'k..allen@enron.com'})</td>\n",
              "      <td>Your Approval is Overdue: Access Request for m...</td>\n",
              "      <td>1.0</td>\n",
              "      <td>text/plain; charset=us-ascii</td>\n",
              "      <td>7bit</td>\n",
              "      <td>ARSystem &lt;ARSystem@mailman.enron.com&gt;@ENRON</td>\n",
              "      <td>Allen, Phillip K. &lt;/O=ENRON/OU=NA/CN=RECIPIENT...</td>\n",
              "      <td>NaN</td>\n",
              "      <td>NaN</td>\n",
              "      <td>\\Phillip_Allen_Jan2002_1\\Allen, Phillip K.\\Del...</td>\n",
              "      <td>Allen-P</td>\n",
              "      <td>pallen (Non-Privileged).pst</td>\n",
              "      <td>[request, pend, approv, day, itcapp, corp, srr...</td>\n",
              "      <td>allen-p</td>\n",
              "      <td>[request, pend, approv, day, itcapp, corp, srr...</td>\n",
              "    </tr>\n",
              "  </tbody>\n",
              "</table>\n",
              "</div>"
            ],
            "text/plain": [
              "   Unnamed: 0                       file  \\\n",
              "0        1232   allen-p/deleted_items/1.   \n",
              "1        1233  allen-p/deleted_items/10.   \n",
              "\n",
              "                                      Message-ID                      Date  \\\n",
              "0  <21543395.1075855374340.JavaMail.evans@thyme> 2001-12-30 18:19:42+00:00   \n",
              "1  <25363451.1075855374674.JavaMail.evans@thyme> 2001-12-28 01:16:46+00:00   \n",
              "\n",
              "                                        From  \\\n",
              "0        frozenset({'pallen70@hotmail.com'})   \n",
              "1  frozenset({'arsystem@mailman.enron.com'})   \n",
              "\n",
              "                                  To  \\\n",
              "0    frozenset({'pallen@enron.com'})   \n",
              "1  frozenset({'k..allen@enron.com'})   \n",
              "\n",
              "                                             Subject  Mime-Version  \\\n",
              "0                                Fwd: Bishops Corner           1.0   \n",
              "1  Your Approval is Overdue: Access Request for m...           1.0   \n",
              "\n",
              "                         Content-Type Content-Transfer-Encoding  \\\n",
              "0  text/plain; charset=ANSI_X3.4-1968                      7bit   \n",
              "1        text/plain; charset=us-ascii                      7bit   \n",
              "\n",
              "                                         X-From  \\\n",
              "0  \"phillip allen\" <pallen70@hotmail.com>@ENRON   \n",
              "1   ARSystem <ARSystem@mailman.enron.com>@ENRON   \n",
              "\n",
              "                                                X-To X-cc X-bcc  \\\n",
              "0                                   pallen@enron.com  NaN   NaN   \n",
              "1  Allen, Phillip K. </O=ENRON/OU=NA/CN=RECIPIENT...  NaN   NaN   \n",
              "\n",
              "                                            X-Folder X-Origin  \\\n",
              "0  \\Phillip_Allen_Jan2002_1\\Allen, Phillip K.\\Del...  Allen-P   \n",
              "1  \\Phillip_Allen_Jan2002_1\\Allen, Phillip K.\\Del...  Allen-P   \n",
              "\n",
              "                    X-FileName  \\\n",
              "0  pallen (Non-Privileged).pst   \n",
              "1  pallen (Non-Privileged).pst   \n",
              "\n",
              "                                             content     user  \\\n",
              "0  [greg, thors, phillip, allen, bishop, corner, ...  allen-p   \n",
              "1  [request, pend, approv, day, itcapp, corp, srr...  allen-p   \n",
              "\n",
              "                                             stemmer  \n",
              "0  [greg, thor, phillip, allen, bishop, corner, s...  \n",
              "1  [request, pend, approv, day, itcapp, corp, srr...  "
            ]
          },
          "metadata": {
            "tags": []
          },
          "execution_count": 75
        }
      ]
    },
    {
      "cell_type": "code",
      "metadata": {
        "id": "sRCmWQWacK2J",
        "outputId": "0cad7223-9554-4435-80f3-20bbcf56d438",
        "colab": {
          "base_uri": "https://localhost:8080/",
          "height": 70
        }
      },
      "source": [
        "# SENTIMENT ANALYSIS NLTK VADER\n",
        "nltk.download('vader_lexicon')"
      ],
      "execution_count": null,
      "outputs": [
        {
          "output_type": "stream",
          "text": [
            "[nltk_data] Downloading package vader_lexicon to /root/nltk_data...\n",
            "[nltk_data]   Package vader_lexicon is already up-to-date!\n"
          ],
          "name": "stdout"
        },
        {
          "output_type": "execute_result",
          "data": {
            "text/plain": [
              "True"
            ]
          },
          "metadata": {
            "tags": []
          },
          "execution_count": 77
        }
      ]
    },
    {
      "cell_type": "code",
      "metadata": {
        "id": "QWvJec6FcUgG"
      },
      "source": [
        "def sentiment_analyze(stemmer):\n",
        "  score = SentimentIntensityAnalyzer().polarity_scores(stemmer)\n",
        "  neg = score['neg'] \n",
        "  pos = score['pos']\n",
        "  neu = score['neu']\n",
        "\n",
        "  return SentimentIntensityAnalyzer().polarity_scores(stemmer)"
      ],
      "execution_count": null,
      "outputs": []
    },
    {
      "cell_type": "code",
      "metadata": {
        "id": "VxoN42OYcYyD"
      },
      "source": [
        "df['polarity']= df['stemmer'].apply(sentiment_analyze)"
      ],
      "execution_count": null,
      "outputs": []
    },
    {
      "cell_type": "code",
      "metadata": {
        "id": "jjjHVr3McY4G"
      },
      "source": [
        "df['compound'] = df['polarity'].apply(lambda d:d['compound'])"
      ],
      "execution_count": null,
      "outputs": []
    },
    {
      "cell_type": "code",
      "metadata": {
        "id": "IUtFrieAcYvW"
      },
      "source": [
        "df['sentiment'] = df['compound'].apply(lambda score: 'positive' if score>=0.05 else 'negative' if score<=-0.05 else 'neutral')"
      ],
      "execution_count": null,
      "outputs": []
    },
    {
      "cell_type": "code",
      "metadata": {
        "id": "jrTPHfMTc7hT",
        "outputId": "10ba6e91-06f3-424a-c86b-69ef2aa6b0cb",
        "colab": {
          "base_uri": "https://localhost:8080/",
          "height": 377
        }
      },
      "source": [
        "df.head(2)"
      ],
      "execution_count": null,
      "outputs": [
        {
          "output_type": "execute_result",
          "data": {
            "text/html": [
              "<div>\n",
              "<style scoped>\n",
              "    .dataframe tbody tr th:only-of-type {\n",
              "        vertical-align: middle;\n",
              "    }\n",
              "\n",
              "    .dataframe tbody tr th {\n",
              "        vertical-align: top;\n",
              "    }\n",
              "\n",
              "    .dataframe thead th {\n",
              "        text-align: right;\n",
              "    }\n",
              "</style>\n",
              "<table border=\"1\" class=\"dataframe\">\n",
              "  <thead>\n",
              "    <tr style=\"text-align: right;\">\n",
              "      <th></th>\n",
              "      <th>Unnamed: 0</th>\n",
              "      <th>file</th>\n",
              "      <th>Message-ID</th>\n",
              "      <th>Date</th>\n",
              "      <th>From</th>\n",
              "      <th>To</th>\n",
              "      <th>Subject</th>\n",
              "      <th>Mime-Version</th>\n",
              "      <th>Content-Type</th>\n",
              "      <th>Content-Transfer-Encoding</th>\n",
              "      <th>X-From</th>\n",
              "      <th>X-To</th>\n",
              "      <th>X-cc</th>\n",
              "      <th>X-bcc</th>\n",
              "      <th>X-Folder</th>\n",
              "      <th>X-Origin</th>\n",
              "      <th>X-FileName</th>\n",
              "      <th>content</th>\n",
              "      <th>user</th>\n",
              "      <th>stemmer</th>\n",
              "      <th>polarity</th>\n",
              "      <th>compound</th>\n",
              "      <th>sentiment</th>\n",
              "    </tr>\n",
              "  </thead>\n",
              "  <tbody>\n",
              "    <tr>\n",
              "      <th>0</th>\n",
              "      <td>1232</td>\n",
              "      <td>allen-p/deleted_items/1.</td>\n",
              "      <td>&lt;21543395.1075855374340.JavaMail.evans@thyme&gt;</td>\n",
              "      <td>2001-12-30 18:19:42+00:00</td>\n",
              "      <td>frozenset({'pallen70@hotmail.com'})</td>\n",
              "      <td>frozenset({'pallen@enron.com'})</td>\n",
              "      <td>Fwd: Bishops Corner</td>\n",
              "      <td>1.0</td>\n",
              "      <td>text/plain; charset=ANSI_X3.4-1968</td>\n",
              "      <td>7bit</td>\n",
              "      <td>\"phillip allen\" &lt;pallen70@hotmail.com&gt;@ENRON</td>\n",
              "      <td>pallen@enron.com</td>\n",
              "      <td>NaN</td>\n",
              "      <td>NaN</td>\n",
              "      <td>\\Phillip_Allen_Jan2002_1\\Allen, Phillip K.\\Del...</td>\n",
              "      <td>Allen-P</td>\n",
              "      <td>pallen (Non-Privileged).pst</td>\n",
              "      <td>[greg, thors, phillip, allen, bishop, corner, ...</td>\n",
              "      <td>allen-p</td>\n",
              "      <td>greg thor phillip allen bishop corner sat dec ...</td>\n",
              "      <td>{'neg': 0.011, 'neu': 0.871, 'pos': 0.117, 'co...</td>\n",
              "      <td>0.9001</td>\n",
              "      <td>positive</td>\n",
              "    </tr>\n",
              "    <tr>\n",
              "      <th>1</th>\n",
              "      <td>1233</td>\n",
              "      <td>allen-p/deleted_items/10.</td>\n",
              "      <td>&lt;25363451.1075855374674.JavaMail.evans@thyme&gt;</td>\n",
              "      <td>2001-12-28 01:16:46+00:00</td>\n",
              "      <td>frozenset({'arsystem@mailman.enron.com'})</td>\n",
              "      <td>frozenset({'k..allen@enron.com'})</td>\n",
              "      <td>Your Approval is Overdue: Access Request for m...</td>\n",
              "      <td>1.0</td>\n",
              "      <td>text/plain; charset=us-ascii</td>\n",
              "      <td>7bit</td>\n",
              "      <td>ARSystem &lt;ARSystem@mailman.enron.com&gt;@ENRON</td>\n",
              "      <td>Allen, Phillip K. &lt;/O=ENRON/OU=NA/CN=RECIPIENT...</td>\n",
              "      <td>NaN</td>\n",
              "      <td>NaN</td>\n",
              "      <td>\\Phillip_Allen_Jan2002_1\\Allen, Phillip K.\\Del...</td>\n",
              "      <td>Allen-P</td>\n",
              "      <td>pallen (Non-Privileged).pst</td>\n",
              "      <td>[request, pend, approv, day, itcapp, corp, srr...</td>\n",
              "      <td>allen-p</td>\n",
              "      <td>request pend approv day itcapp corp srr auth e...</td>\n",
              "      <td>{'neg': 0.059, 'neu': 0.868, 'pos': 0.073, 'co...</td>\n",
              "      <td>0.1280</td>\n",
              "      <td>positive</td>\n",
              "    </tr>\n",
              "  </tbody>\n",
              "</table>\n",
              "</div>"
            ],
            "text/plain": [
              "   Unnamed: 0                       file  \\\n",
              "0        1232   allen-p/deleted_items/1.   \n",
              "1        1233  allen-p/deleted_items/10.   \n",
              "\n",
              "                                      Message-ID                      Date  \\\n",
              "0  <21543395.1075855374340.JavaMail.evans@thyme> 2001-12-30 18:19:42+00:00   \n",
              "1  <25363451.1075855374674.JavaMail.evans@thyme> 2001-12-28 01:16:46+00:00   \n",
              "\n",
              "                                        From  \\\n",
              "0        frozenset({'pallen70@hotmail.com'})   \n",
              "1  frozenset({'arsystem@mailman.enron.com'})   \n",
              "\n",
              "                                  To  \\\n",
              "0    frozenset({'pallen@enron.com'})   \n",
              "1  frozenset({'k..allen@enron.com'})   \n",
              "\n",
              "                                             Subject  Mime-Version  \\\n",
              "0                                Fwd: Bishops Corner           1.0   \n",
              "1  Your Approval is Overdue: Access Request for m...           1.0   \n",
              "\n",
              "                         Content-Type Content-Transfer-Encoding  \\\n",
              "0  text/plain; charset=ANSI_X3.4-1968                      7bit   \n",
              "1        text/plain; charset=us-ascii                      7bit   \n",
              "\n",
              "                                         X-From  \\\n",
              "0  \"phillip allen\" <pallen70@hotmail.com>@ENRON   \n",
              "1   ARSystem <ARSystem@mailman.enron.com>@ENRON   \n",
              "\n",
              "                                                X-To X-cc X-bcc  \\\n",
              "0                                   pallen@enron.com  NaN   NaN   \n",
              "1  Allen, Phillip K. </O=ENRON/OU=NA/CN=RECIPIENT...  NaN   NaN   \n",
              "\n",
              "                                            X-Folder X-Origin  \\\n",
              "0  \\Phillip_Allen_Jan2002_1\\Allen, Phillip K.\\Del...  Allen-P   \n",
              "1  \\Phillip_Allen_Jan2002_1\\Allen, Phillip K.\\Del...  Allen-P   \n",
              "\n",
              "                    X-FileName  \\\n",
              "0  pallen (Non-Privileged).pst   \n",
              "1  pallen (Non-Privileged).pst   \n",
              "\n",
              "                                             content     user  \\\n",
              "0  [greg, thors, phillip, allen, bishop, corner, ...  allen-p   \n",
              "1  [request, pend, approv, day, itcapp, corp, srr...  allen-p   \n",
              "\n",
              "                                             stemmer  \\\n",
              "0  greg thor phillip allen bishop corner sat dec ...   \n",
              "1  request pend approv day itcapp corp srr auth e...   \n",
              "\n",
              "                                            polarity  compound sentiment  \n",
              "0  {'neg': 0.011, 'neu': 0.871, 'pos': 0.117, 'co...    0.9001  positive  \n",
              "1  {'neg': 0.059, 'neu': 0.868, 'pos': 0.073, 'co...    0.1280  positive  "
            ]
          },
          "metadata": {
            "tags": []
          },
          "execution_count": 82
        }
      ]
    },
    {
      "cell_type": "code",
      "metadata": {
        "id": "vF9-k360c7oL",
        "outputId": "beaf43ed-514a-44fa-b058-201cc46934e7",
        "colab": {
          "base_uri": "https://localhost:8080/",
          "height": 454
        }
      },
      "source": [
        "import seaborn as sns\n",
        "\n",
        "sns.catplot(x='sentiment', data=df, kind=\"count\", height=6, aspect=1.5, palette=\"Set2\")\n",
        "plt.show()"
      ],
      "execution_count": null,
      "outputs": [
        {
          "output_type": "display_data",
          "data": {
            "image/png": "[encoded data removed]",
            "text/plain": [
              "<Figure size 648x432 with 1 Axes>"
            ]
          },
          "metadata": {
            "tags": []
          }
        }
      ]
    },
    {
      "cell_type": "code",
      "metadata": {
        "id": "iAMFWG0Nc7eP",
        "outputId": "e8d27dd3-a816-4e06-c9d6-41bf39b39543",
        "colab": {
          "base_uri": "https://localhost:8080/",
          "height": 380
        }
      },
      "source": [
        "# Word cloud\n",
        "all_words = ' '.join([text for text in df['stemmer']])\n",
        "\n",
        "from wordcloud import WordCloud \n",
        "wordcloud = WordCloud(width=800, height=500, random_state=21, max_font_size=110).generate(all_words) \n",
        "\n",
        "plt.figure(figsize=(10, 7)) \n",
        "plt.imshow(wordcloud, interpolation=\"bilinear\") \n",
        "plt.axis('off') \n",
        "plt.show()"
      ],
      "execution_count": null,
      "outputs": [
        {
          "output_type": "display_data",
          "data": {
            "image/png": "[encoded data removed]",
            "text/plain": [
              "<Figure size 720x504 with 1 Axes>"
            ]
          },
          "metadata": {
            "tags": []
          }
        }
      ]
    },
    {
      "cell_type": "code",
      "metadata": {
        "id": "K7v3uqoFdbDK"
      },
      "source": [
        ""
      ],
      "execution_count": null,
      "outputs": []
    },
    {
      "cell_type": "markdown",
      "metadata": {
        "id": "1JjuG-FtdlY1"
      },
      "source": [
        "### ML MODEL"
      ]
    },
    {
      "cell_type": "code",
      "metadata": {
        "id": "Mxb869DpdbMq"
      },
      "source": [
        "from sklearn.model_selection import train_test_split\n",
        "from sklearn.naive_bayes import MultinomialNB\n",
        "from sklearn.ensemble import GradientBoostingClassifier\n",
        "from sklearn import svm\n",
        "from sklearn.metrics  import accuracy_score\n",
        "from sklearn.preprocessing import OneHotEncoder\n",
        "from sklearn.feature_extraction.text import TfidfVectorizer"
      ],
      "execution_count": null,
      "outputs": []
    },
    {
      "cell_type": "code",
      "metadata": {
        "id": "KyhUTKOJdbKH",
        "outputId": "4c123d5f-0010-463d-da40-98d9cde07d81",
        "colab": {
          "base_uri": "https://localhost:8080/",
          "height": 87
        }
      },
      "source": [
        "\n",
        "sentiment_counts = df.sentiment.value_counts()\n",
        "print(sentiment_counts)"
      ],
      "execution_count": null,
      "outputs": [
        {
          "output_type": "stream",
          "text": [
            "positive    37375\n",
            "neutral      9944\n",
            "negative     7361\n",
            "Name: sentiment, dtype: int64\n"
          ],
          "name": "stdout"
        }
      ]
    },
    {
      "cell_type": "code",
      "metadata": {
        "id": "RHxAo_2SgF9z"
      },
      "source": [
        "test_set = df[:4000]"
      ],
      "execution_count": null,
      "outputs": []
    },
    {
      "cell_type": "code",
      "metadata": {
        "id": "EBOwsihZdbAs"
      },
      "source": [
        "X_train, X_val, y_train, y_val = train_test_split(df['stemmer'][4000:], \n",
        "                                                  df['sentiment'][4000:], \n",
        "                                                  test_size=0.2)\n",
        "\n",
        "y_test = test_set['sentiment']"
      ],
      "execution_count": null,
      "outputs": []
    },
    {
      "cell_type": "code",
      "metadata": {
        "id": "U54W1__wda9i"
      },
      "source": [
        "vectorizer = TfidfVectorizer()\n",
        "X_train = vectorizer.fit_transform(X_train)\n",
        "X_val = vectorizer.transform(X_val)\n",
        "X_test = vectorizer.transform(test_set['stemmer'])"
      ],
      "execution_count": null,
      "outputs": []
    },
    {
      "cell_type": "code",
      "metadata": {
        "id": "byLCJ7Y3da6T",
        "outputId": "c189e6f5-aab9-48e4-a1a5-0fc12f16f687",
        "colab": {
          "base_uri": "https://localhost:8080/",
          "height": 87
        }
      },
      "source": [
        "print(f'Training size: {X_train.shape[0]} \\n\\\n",
        "Validation size: {X_val.shape[0]} \\n\\\n",
        "Test size: {X_test.shape[0]} \\n\\\n",
        "Amount of words (columns): {X_train.shape[1]} words')"
      ],
      "execution_count": null,
      "outputs": [
        {
          "output_type": "stream",
          "text": [
            "Training size: 40544 \n",
            "Validation size: 10136 \n",
            "Test size: 4000 \n",
            "Amount of words (columns): 136148 words\n"
          ],
          "name": "stdout"
        }
      ]
    },
    {
      "cell_type": "markdown",
      "metadata": {
        "id": "rVh8hOOHh0NK"
      },
      "source": [
        "### Multinomial Naive Bayes"
      ]
    },
    {
      "cell_type": "code",
      "metadata": {
        "id": "QKQguVb7c7a7",
        "outputId": "22928e78-770b-49ed-a5ce-8e75adf19359",
        "colab": {
          "base_uri": "https://localhost:8080/",
          "height": 34
        }
      },
      "source": [
        "\n",
        "multi_nb = MultinomialNB()\n",
        "multi_nb.fit(X_train, y_train)"
      ],
      "execution_count": null,
      "outputs": [
        {
          "output_type": "execute_result",
          "data": {
            "text/plain": [
              "MultinomialNB(alpha=1.0, class_prior=None, fit_prior=True)"
            ]
          },
          "metadata": {
            "tags": []
          },
          "execution_count": 92
        }
      ]
    },
    {
      "cell_type": "code",
      "metadata": {
        "id": "RjKEpIKFhTWA",
        "outputId": "cfe5c052-87ed-45da-f4b4-5627194cd05e",
        "colab": {
          "base_uri": "https://localhost:8080/",
          "height": 52
        }
      },
      "source": [
        "\n",
        "# Result\n",
        "train_pred = multi_nb.predict(X_train)\n",
        "val_pred = multi_nb.predict(X_val)\n",
        "print(f'Accuracy on training set (MultinomialNB): {round(accuracy_score(y_train, train_pred)*100, 2)}%')\n",
        "print(f'Accuracy on validation set (MultinomialNB): {round(accuracy_score(y_val,val_pred)*100, 2)}%')"
      ],
      "execution_count": null,
      "outputs": [
        {
          "output_type": "stream",
          "text": [
            "Accuracy on training set (MultinomialNB): 72.62%\n",
            "Accuracy on validation set (MultinomialNB): 71.83%\n"
          ],
          "name": "stdout"
        }
      ]
    },
    {
      "cell_type": "markdown",
      "metadata": {
        "id": "mQY6aTwsiE2t"
      },
      "source": [
        "### SVM"
      ]
    },
    {
      "cell_type": "code",
      "metadata": {
        "id": "5dw6Hf_uhTSE"
      },
      "source": [
        "# Support Vector machine\n",
        "svc = svm.SVC()\n",
        "svc.fit(X_train,y_train)"
      ],
      "execution_count": null,
      "outputs": []
    },
    {
      "cell_type": "code",
      "metadata": {
        "id": "LIDVSkCchTOT",
        "outputId": "4ec2c54a-f2f5-490b-8fbd-707bb6a76398",
        "colab": {
          "base_uri": "https://localhost:8080/",
          "height": 52
        }
      },
      "source": [
        "# Result\n",
        "train_pred = svc.predict(X_train)\n",
        "val_pred = svc.predict(X_val)\n",
        "print(f'Accuracy on training set (SVC): {round(accuracy_score(y_train, train_pred)*100, 2)}%')\n",
        "print(f'Accuracy on validation set (SVC): {round(accuracy_score(y_val,val_pred)*100, 2)}%')"
      ],
      "execution_count": null,
      "outputs": [
        {
          "output_type": "stream",
          "text": [
            "Accuracy on training set (SVC): 97.73%\n",
            "Accuracy on validation set (SVC): 91.46%\n"
          ],
          "name": "stdout"
        }
      ]
    },
    {
      "cell_type": "code",
      "metadata": {
        "id": "9GDdgcFEhTKv"
      },
      "source": [
        ""
      ],
      "execution_count": null,
      "outputs": []
    },
    {
      "cell_type": "markdown",
      "metadata": {
        "id": "DYc3ADQ8iVEN"
      },
      "source": [
        "### Gradient Boosting Classifier (GBM)"
      ]
    },
    {
      "cell_type": "code",
      "metadata": {
        "id": "49WUOzlfhTCM",
        "outputId": "fc4ba84f-1c06-4e0b-921d-4932abfd1375",
        "colab": {
          "base_uri": "https://localhost:8080/",
          "height": 194
        }
      },
      "source": [
        "# sklearn's Gradient Boosting Classifier (GBM)\n",
        "gbm = GradientBoostingClassifier(n_estimators=200, \n",
        "                                 max_depth=6) \n",
        "                              \n",
        "gbm.fit(X_train, y_train)"
      ],
      "execution_count": null,
      "outputs": [
        {
          "output_type": "execute_result",
          "data": {
            "text/plain": [
              "GradientBoostingClassifier(ccp_alpha=0.0, criterion='friedman_mse', init=None,\n",
              "                           learning_rate=0.1, loss='deviance', max_depth=6,\n",
              "                           max_features=None, max_leaf_nodes=None,\n",
              "                           min_impurity_decrease=0.0, min_impurity_split=None,\n",
              "                           min_samples_leaf=1, min_samples_split=2,\n",
              "                           min_weight_fraction_leaf=0.0, n_estimators=200,\n",
              "                           n_iter_no_change=None, presort='deprecated',\n",
              "                           random_state=None, subsample=1.0, tol=0.0001,\n",
              "                           validation_fraction=0.1, verbose=0,\n",
              "                           warm_start=False)"
            ]
          },
          "metadata": {
            "tags": []
          },
          "execution_count": 63
        }
      ]
    },
    {
      "cell_type": "code",
      "metadata": {
        "id": "p806_6_aiUWw",
        "outputId": "8335b561-33f1-4fcd-c336-982dc1c8c67a",
        "colab": {
          "base_uri": "https://localhost:8080/",
          "height": 52
        }
      },
      "source": [
        "\n",
        "# Result\n",
        "train_pred = gbm.predict(X_train)\n",
        "val_pred = gbm.predict(X_val)\n",
        "print(f'Accuracy on training set (GBM): {round(accuracy_score(y_train, train_pred)*100, 2)}%')\n",
        "print(f'Accuracy on validation set (GBM): {round(accuracy_score(y_val,val_pred)*100, 2)}%')"
      ],
      "execution_count": null,
      "outputs": [
        {
          "output_type": "stream",
          "text": [
            "Accuracy on training set (GBM): 96.03%\n",
            "Accuracy on validation set (GBM): 92.87%\n"
          ],
          "name": "stdout"
        }
      ]
    },
    {
      "cell_type": "code",
      "metadata": {
        "id": "sADVvBlfiUUm"
      },
      "source": [
        "# Multinomial Naive Bayes\n",
        "multinb_test_pred = multi_nb.predict(X_test)\n",
        "\n",
        "# Support Vector Machine \n",
        "svc_test_pred = svc.predict(X_test)\n",
        "\n",
        "# Gradient Boosting Classifier\n",
        "gbm_test_pred = gbm.predict(X_test)"
      ],
      "execution_count": null,
      "outputs": []
    },
    {
      "cell_type": "code",
      "metadata": {
        "id": "_XRjR3nYiURi",
        "outputId": "7e6448c9-6fb2-46fe-f5d4-2cce74c0e18f",
        "colab": {
          "base_uri": "https://localhost:8080/",
          "height": 70
        }
      },
      "source": [
        "\n",
        "print(f'Accuracy for Multinomial Naive Bayes: {round(accuracy_score(y_test, multinb_test_pred)*100, 4)}%')\n",
        "print(f'Accuracy for Support Vector Machine: {round(accuracy_score(y_test, svc_test_pred)*100, 4)}%')\n",
        "print(f'Accuracy for Gradient Boosting Classifier: {round(accuracy_score(y_test, gbm_test_pred)*100, 4)}%')"
      ],
      "execution_count": null,
      "outputs": [
        {
          "output_type": "stream",
          "text": [
            "Accuracy for Multinomial Naive Bayes: 73.475%\n",
            "Accuracy for Support Vector Machine: 88.75%\n",
            "Accuracy for Gradient Boosting Classifier: 92.125%\n"
          ],
          "name": "stdout"
        }
      ]
    },
    {
      "cell_type": "code",
      "metadata": {
        "id": "qGAJ6-t6inFd"
      },
      "source": [
        "pred_df = pd.DataFrame({'text':test_set['stemmer'],\n",
        "                        'svc.predict':svc_test_pred,\n",
        "                       'gbm.predict' :gbm_test_pred})"
      ],
      "execution_count": null,
      "outputs": []
    },
    {
      "cell_type": "code",
      "metadata": {
        "id": "jhDd6G2HinCj",
        "outputId": "43badf82-ea76-4769-c564-51cf689aed3f",
        "colab": {
          "base_uri": "https://localhost:8080/",
          "height": 34
        }
      },
      "source": [
        "pred_df['pred_agreement'] = (pred_df['gbm.predict']==pred_df['svc.predict'])\n",
        "print(f\"The models agree with each other {round(pred_df['pred_agreement'].value_counts()[1]/len(pred_df)*100, 4)}% of the time.\")"
      ],
      "execution_count": null,
      "outputs": [
        {
          "output_type": "stream",
          "text": [
            "The models agree with each other 91.95% of the time.\n"
          ],
          "name": "stdout"
        }
      ]
    },
    {
      "cell_type": "code",
      "metadata": {
        "id": "kzupI3teinAq",
        "outputId": "d1503333-ee09-4695-a0c0-2666a895e4b5",
        "colab": {
          "base_uri": "https://localhost:8080/",
          "height": 197
        }
      },
      "source": [
        "pred_df.head()"
      ],
      "execution_count": null,
      "outputs": [
        {
          "output_type": "execute_result",
          "data": {
            "text/html": [
              "<div>\n",
              "<style scoped>\n",
              "    .dataframe tbody tr th:only-of-type {\n",
              "        vertical-align: middle;\n",
              "    }\n",
              "\n",
              "    .dataframe tbody tr th {\n",
              "        vertical-align: top;\n",
              "    }\n",
              "\n",
              "    .dataframe thead th {\n",
              "        text-align: right;\n",
              "    }\n",
              "</style>\n",
              "<table border=\"1\" class=\"dataframe\">\n",
              "  <thead>\n",
              "    <tr style=\"text-align: right;\">\n",
              "      <th></th>\n",
              "      <th>text</th>\n",
              "      <th>svc.predict</th>\n",
              "      <th>gbm.predict</th>\n",
              "      <th>pred_agreement</th>\n",
              "    </tr>\n",
              "  </thead>\n",
              "  <tbody>\n",
              "    <tr>\n",
              "      <th>0</th>\n",
              "      <td>greg thor phillip allen bishop corner sat dec ...</td>\n",
              "      <td>positive</td>\n",
              "      <td>positive</td>\n",
              "      <td>True</td>\n",
              "    </tr>\n",
              "    <tr>\n",
              "      <th>1</th>\n",
              "      <td>request pend approv day itcapp corp srr auth e...</td>\n",
              "      <td>neutral</td>\n",
              "      <td>negative</td>\n",
              "      <td>False</td>\n",
              "    </tr>\n",
              "    <tr>\n",
              "      <th>2</th>\n",
              "      <td>updat dec imag hard act follow futur ene rgi w...</td>\n",
              "      <td>negative</td>\n",
              "      <td>negative</td>\n",
              "      <td>True</td>\n",
              "    </tr>\n",
              "    <tr>\n",
              "      <th>3</th>\n",
              "      <td>resolut center decommiss number januari contin...</td>\n",
              "      <td>positive</td>\n",
              "      <td>positive</td>\n",
              "      <td>True</td>\n",
              "    </tr>\n",
              "    <tr>\n",
              "      <th>4</th>\n",
              "      <td>offic new year begin inform fundi meet day cov...</td>\n",
              "      <td>positive</td>\n",
              "      <td>positive</td>\n",
              "      <td>True</td>\n",
              "    </tr>\n",
              "  </tbody>\n",
              "</table>\n",
              "</div>"
            ],
            "text/plain": [
              "                                                text svc.predict gbm.predict  \\\n",
              "0  greg thor phillip allen bishop corner sat dec ...    positive    positive   \n",
              "1  request pend approv day itcapp corp srr auth e...     neutral    negative   \n",
              "2  updat dec imag hard act follow futur ene rgi w...    negative    negative   \n",
              "3  resolut center decommiss number januari contin...    positive    positive   \n",
              "4  offic new year begin inform fundi meet day cov...    positive    positive   \n",
              "\n",
              "   pred_agreement  \n",
              "0            True  \n",
              "1           False  \n",
              "2            True  \n",
              "3            True  \n",
              "4            True  "
            ]
          },
          "metadata": {
            "tags": []
          },
          "execution_count": 70
        }
      ]
    },
    {
      "cell_type": "code",
      "metadata": {
        "id": "yuGl3op6RK2h",
        "outputId": "43ab02a3-6b71-40a1-cf9a-21c4b7b6276e",
        "colab": {
          "base_uri": "https://localhost:8080/",
          "height": 247
        }
      },
      "source": [
        "df.head(1)"
      ],
      "execution_count": null,
      "outputs": [
        {
          "output_type": "execute_result",
          "data": {
            "text/html": [
              "<div>\n",
              "<style scoped>\n",
              "    .dataframe tbody tr th:only-of-type {\n",
              "        vertical-align: middle;\n",
              "    }\n",
              "\n",
              "    .dataframe tbody tr th {\n",
              "        vertical-align: top;\n",
              "    }\n",
              "\n",
              "    .dataframe thead th {\n",
              "        text-align: right;\n",
              "    }\n",
              "</style>\n",
              "<table border=\"1\" class=\"dataframe\">\n",
              "  <thead>\n",
              "    <tr style=\"text-align: right;\">\n",
              "      <th></th>\n",
              "      <th>Unnamed: 0</th>\n",
              "      <th>file</th>\n",
              "      <th>Message-ID</th>\n",
              "      <th>Date</th>\n",
              "      <th>From</th>\n",
              "      <th>To</th>\n",
              "      <th>Subject</th>\n",
              "      <th>Mime-Version</th>\n",
              "      <th>Content-Type</th>\n",
              "      <th>Content-Transfer-Encoding</th>\n",
              "      <th>X-From</th>\n",
              "      <th>X-To</th>\n",
              "      <th>X-cc</th>\n",
              "      <th>X-bcc</th>\n",
              "      <th>X-Folder</th>\n",
              "      <th>X-Origin</th>\n",
              "      <th>X-FileName</th>\n",
              "      <th>content</th>\n",
              "      <th>user</th>\n",
              "      <th>stemmer</th>\n",
              "      <th>polarity</th>\n",
              "      <th>compound</th>\n",
              "      <th>sentiment</th>\n",
              "    </tr>\n",
              "  </thead>\n",
              "  <tbody>\n",
              "    <tr>\n",
              "      <th>0</th>\n",
              "      <td>1232</td>\n",
              "      <td>allen-p/deleted_items/1.</td>\n",
              "      <td>&lt;21543395.1075855374340.JavaMail.evans@thyme&gt;</td>\n",
              "      <td>2001-12-30 18:19:42+00:00</td>\n",
              "      <td>frozenset({'pallen70@hotmail.com'})</td>\n",
              "      <td>frozenset({'pallen@enron.com'})</td>\n",
              "      <td>Fwd: Bishops Corner</td>\n",
              "      <td>1.0</td>\n",
              "      <td>text/plain; charset=ANSI_X3.4-1968</td>\n",
              "      <td>7bit</td>\n",
              "      <td>\"phillip allen\" &lt;pallen70@hotmail.com&gt;@ENRON</td>\n",
              "      <td>pallen@enron.com</td>\n",
              "      <td>NaN</td>\n",
              "      <td>NaN</td>\n",
              "      <td>\\Phillip_Allen_Jan2002_1\\Allen, Phillip K.\\Del...</td>\n",
              "      <td>Allen-P</td>\n",
              "      <td>pallen (Non-Privileged).pst</td>\n",
              "      <td>[greg, thors, phillip, allen, bishop, corner, ...</td>\n",
              "      <td>allen-p</td>\n",
              "      <td>greg thor phillip allen bishop corner sat dec ...</td>\n",
              "      <td>{'neg': 0.011, 'neu': 0.871, 'pos': 0.117, 'co...</td>\n",
              "      <td>0.9001</td>\n",
              "      <td>positive</td>\n",
              "    </tr>\n",
              "  </tbody>\n",
              "</table>\n",
              "</div>"
            ],
            "text/plain": [
              "   Unnamed: 0                      file  \\\n",
              "0        1232  allen-p/deleted_items/1.   \n",
              "\n",
              "                                      Message-ID                      Date  \\\n",
              "0  <21543395.1075855374340.JavaMail.evans@thyme> 2001-12-30 18:19:42+00:00   \n",
              "\n",
              "                                  From                               To  \\\n",
              "0  frozenset({'pallen70@hotmail.com'})  frozenset({'pallen@enron.com'})   \n",
              "\n",
              "               Subject  Mime-Version                        Content-Type  \\\n",
              "0  Fwd: Bishops Corner           1.0  text/plain; charset=ANSI_X3.4-1968   \n",
              "\n",
              "  Content-Transfer-Encoding                                        X-From  \\\n",
              "0                      7bit  \"phillip allen\" <pallen70@hotmail.com>@ENRON   \n",
              "\n",
              "               X-To X-cc X-bcc  \\\n",
              "0  pallen@enron.com  NaN   NaN   \n",
              "\n",
              "                                            X-Folder X-Origin  \\\n",
              "0  \\Phillip_Allen_Jan2002_1\\Allen, Phillip K.\\Del...  Allen-P   \n",
              "\n",
              "                    X-FileName  \\\n",
              "0  pallen (Non-Privileged).pst   \n",
              "\n",
              "                                             content     user  \\\n",
              "0  [greg, thors, phillip, allen, bishop, corner, ...  allen-p   \n",
              "\n",
              "                                             stemmer  \\\n",
              "0  greg thor phillip allen bishop corner sat dec ...   \n",
              "\n",
              "                                            polarity  compound sentiment  \n",
              "0  {'neg': 0.011, 'neu': 0.871, 'pos': 0.117, 'co...    0.9001  positive  "
            ]
          },
          "metadata": {
            "tags": []
          },
          "execution_count": 75
        }
      ]
    },
    {
      "cell_type": "code",
      "metadata": {
        "id": "MtEnDeB1RdIv",
        "outputId": "d1362bd9-d9f0-4552-e81c-eef23dad390a",
        "colab": {
          "base_uri": "https://localhost:8080/",
          "height": 550
        }
      },
      "source": [
        "df.info()"
      ],
      "execution_count": null,
      "outputs": [
        {
          "output_type": "stream",
          "text": [
            "<class 'pandas.core.frame.DataFrame'>\n",
            "RangeIndex: 54680 entries, 0 to 54679\n",
            "Data columns (total 23 columns):\n",
            " #   Column                     Non-Null Count  Dtype              \n",
            "---  ------                     --------------  -----              \n",
            " 0   Unnamed: 0                 54680 non-null  int64              \n",
            " 1   file                       54680 non-null  object             \n",
            " 2   Message-ID                 54680 non-null  object             \n",
            " 3   Date                       54680 non-null  datetime64[ns, UTC]\n",
            " 4   From                       54680 non-null  object             \n",
            " 5   To                         52452 non-null  object             \n",
            " 6   Subject                    53427 non-null  object             \n",
            " 7   Mime-Version               54677 non-null  float64            \n",
            " 8   Content-Type               54677 non-null  object             \n",
            " 9   Content-Transfer-Encoding  54677 non-null  object             \n",
            " 10  X-From                     54677 non-null  object             \n",
            " 11  X-To                       54073 non-null  object             \n",
            " 12  X-cc                       13052 non-null  object             \n",
            " 13  X-bcc                      27 non-null     object             \n",
            " 14  X-Folder                   54677 non-null  object             \n",
            " 15  X-Origin                   54677 non-null  object             \n",
            " 16  X-FileName                 52205 non-null  object             \n",
            " 17  content                    54680 non-null  object             \n",
            " 18  user                       54680 non-null  object             \n",
            " 19  stemmer                    54680 non-null  object             \n",
            " 20  polarity                   54680 non-null  object             \n",
            " 21  compound                   54680 non-null  float64            \n",
            " 22  sentiment                  54680 non-null  object             \n",
            "dtypes: datetime64[ns, UTC](1), float64(2), int64(1), object(19)\n",
            "memory usage: 9.6+ MB\n"
          ],
          "name": "stdout"
        }
      ]
    },
    {
      "cell_type": "code",
      "metadata": {
        "id": "YM6vYKNBR9Er"
      },
      "source": [
        "df['To'] = df['To'].astype(pd.StringDtype())"
      ],
      "execution_count": null,
      "outputs": []
    },
    {
      "cell_type": "code",
      "metadata": {
        "id": "AhAgsc67SQDX",
        "outputId": "664c19c1-f452-47d0-dc23-9d29d9999e56",
        "colab": {
          "base_uri": "https://localhost:8080/",
          "height": 550
        }
      },
      "source": [
        "df.info()"
      ],
      "execution_count": null,
      "outputs": [
        {
          "output_type": "stream",
          "text": [
            "<class 'pandas.core.frame.DataFrame'>\n",
            "RangeIndex: 54680 entries, 0 to 54679\n",
            "Data columns (total 23 columns):\n",
            " #   Column                     Non-Null Count  Dtype              \n",
            "---  ------                     --------------  -----              \n",
            " 0   Unnamed: 0                 54680 non-null  int64              \n",
            " 1   file                       54680 non-null  object             \n",
            " 2   Message-ID                 54680 non-null  object             \n",
            " 3   Date                       54680 non-null  datetime64[ns, UTC]\n",
            " 4   From                       54680 non-null  object             \n",
            " 5   To                         54680 non-null  string             \n",
            " 6   Subject                    53427 non-null  object             \n",
            " 7   Mime-Version               54677 non-null  float64            \n",
            " 8   Content-Type               54677 non-null  object             \n",
            " 9   Content-Transfer-Encoding  54677 non-null  object             \n",
            " 10  X-From                     54677 non-null  object             \n",
            " 11  X-To                       54073 non-null  object             \n",
            " 12  X-cc                       13052 non-null  object             \n",
            " 13  X-bcc                      27 non-null     object             \n",
            " 14  X-Folder                   54677 non-null  object             \n",
            " 15  X-Origin                   54677 non-null  object             \n",
            " 16  X-FileName                 52205 non-null  object             \n",
            " 17  content                    54680 non-null  object             \n",
            " 18  user                       54680 non-null  object             \n",
            " 19  stemmer                    54680 non-null  object             \n",
            " 20  polarity                   54680 non-null  object             \n",
            " 21  compound                   54680 non-null  float64            \n",
            " 22  sentiment                  54680 non-null  object             \n",
            "dtypes: datetime64[ns, UTC](1), float64(2), int64(1), object(18), string(1)\n",
            "memory usage: 9.6+ MB\n"
          ],
          "name": "stdout"
        }
      ]
    },
    {
      "cell_type": "code",
      "metadata": {
        "id": "YN-9OJ3QiaBd",
        "outputId": "15a8fd49-4d98-45b4-caeb-53e1da706958",
        "colab": {
          "base_uri": "https://localhost:8080/",
          "height": 247
        }
      },
      "source": [
        "df['count_To'] = df['To'].apply(lambda x: len(x.split(',')))\n",
        "df.head(1)"
      ],
      "execution_count": null,
      "outputs": [
        {
          "output_type": "execute_result",
          "data": {
            "text/html": [
              "<div>\n",
              "<style scoped>\n",
              "    .dataframe tbody tr th:only-of-type {\n",
              "        vertical-align: middle;\n",
              "    }\n",
              "\n",
              "    .dataframe tbody tr th {\n",
              "        vertical-align: top;\n",
              "    }\n",
              "\n",
              "    .dataframe thead th {\n",
              "        text-align: right;\n",
              "    }\n",
              "</style>\n",
              "<table border=\"1\" class=\"dataframe\">\n",
              "  <thead>\n",
              "    <tr style=\"text-align: right;\">\n",
              "      <th></th>\n",
              "      <th>Unnamed: 0</th>\n",
              "      <th>file</th>\n",
              "      <th>Message-ID</th>\n",
              "      <th>Date</th>\n",
              "      <th>From</th>\n",
              "      <th>To</th>\n",
              "      <th>Subject</th>\n",
              "      <th>Mime-Version</th>\n",
              "      <th>Content-Type</th>\n",
              "      <th>Content-Transfer-Encoding</th>\n",
              "      <th>X-From</th>\n",
              "      <th>X-To</th>\n",
              "      <th>X-cc</th>\n",
              "      <th>X-bcc</th>\n",
              "      <th>X-Folder</th>\n",
              "      <th>X-Origin</th>\n",
              "      <th>X-FileName</th>\n",
              "      <th>content</th>\n",
              "      <th>user</th>\n",
              "      <th>stemmer</th>\n",
              "      <th>polarity</th>\n",
              "      <th>compound</th>\n",
              "      <th>sentiment</th>\n",
              "      <th>count_To</th>\n",
              "    </tr>\n",
              "  </thead>\n",
              "  <tbody>\n",
              "    <tr>\n",
              "      <th>0</th>\n",
              "      <td>1232</td>\n",
              "      <td>allen-p/deleted_items/1.</td>\n",
              "      <td>&lt;21543395.1075855374340.JavaMail.evans@thyme&gt;</td>\n",
              "      <td>2001-12-30 18:19:42+00:00</td>\n",
              "      <td>frozenset({'pallen70@hotmail.com'})</td>\n",
              "      <td>frozenset({'pallen@enron.com'})</td>\n",
              "      <td>Fwd: Bishops Corner</td>\n",
              "      <td>1.0</td>\n",
              "      <td>text/plain; charset=ANSI_X3.4-1968</td>\n",
              "      <td>7bit</td>\n",
              "      <td>\"phillip allen\" &lt;pallen70@hotmail.com&gt;@ENRON</td>\n",
              "      <td>pallen@enron.com</td>\n",
              "      <td>NaN</td>\n",
              "      <td>NaN</td>\n",
              "      <td>\\Phillip_Allen_Jan2002_1\\Allen, Phillip K.\\Del...</td>\n",
              "      <td>Allen-P</td>\n",
              "      <td>pallen (Non-Privileged).pst</td>\n",
              "      <td>[greg, thors, phillip, allen, bishop, corner, ...</td>\n",
              "      <td>allen-p</td>\n",
              "      <td>greg thor phillip allen bishop corner sat dec ...</td>\n",
              "      <td>{'neg': 0.011, 'neu': 0.871, 'pos': 0.117, 'co...</td>\n",
              "      <td>0.9001</td>\n",
              "      <td>positive</td>\n",
              "      <td>1</td>\n",
              "    </tr>\n",
              "  </tbody>\n",
              "</table>\n",
              "</div>"
            ],
            "text/plain": [
              "   Unnamed: 0                      file  \\\n",
              "0        1232  allen-p/deleted_items/1.   \n",
              "\n",
              "                                      Message-ID                      Date  \\\n",
              "0  <21543395.1075855374340.JavaMail.evans@thyme> 2001-12-30 18:19:42+00:00   \n",
              "\n",
              "                                  From                               To  \\\n",
              "0  frozenset({'pallen70@hotmail.com'})  frozenset({'pallen@enron.com'})   \n",
              "\n",
              "               Subject  Mime-Version                        Content-Type  \\\n",
              "0  Fwd: Bishops Corner           1.0  text/plain; charset=ANSI_X3.4-1968   \n",
              "\n",
              "  Content-Transfer-Encoding                                        X-From  \\\n",
              "0                      7bit  \"phillip allen\" <pallen70@hotmail.com>@ENRON   \n",
              "\n",
              "               X-To X-cc X-bcc  \\\n",
              "0  pallen@enron.com  NaN   NaN   \n",
              "\n",
              "                                            X-Folder X-Origin  \\\n",
              "0  \\Phillip_Allen_Jan2002_1\\Allen, Phillip K.\\Del...  Allen-P   \n",
              "\n",
              "                    X-FileName  \\\n",
              "0  pallen (Non-Privileged).pst   \n",
              "\n",
              "                                             content     user  \\\n",
              "0  [greg, thors, phillip, allen, bishop, corner, ...  allen-p   \n",
              "\n",
              "                                             stemmer  \\\n",
              "0  greg thor phillip allen bishop corner sat dec ...   \n",
              "\n",
              "                                            polarity  compound sentiment  \\\n",
              "0  {'neg': 0.011, 'neu': 0.871, 'pos': 0.117, 'co...    0.9001  positive   \n",
              "\n",
              "   count_To  \n",
              "0         1  "
            ]
          },
          "metadata": {
            "tags": []
          },
          "execution_count": 89
        }
      ]
    },
    {
      "cell_type": "code",
      "metadata": {
        "id": "tIrMM4afxqF8",
        "outputId": "3189d25e-36d1-4105-8651-dc4c58f5e6d5",
        "colab": {
          "base_uri": "https://localhost:8080/",
          "height": 16
        }
      },
      "source": [
        "from google.colab import files\n",
        "\n",
        "pred_df.to_csv('pred_df.csv')\n",
        "\n",
        "files.download(\"pred_df.csv\")"
      ],
      "execution_count": null,
      "outputs": [
        {
          "output_type": "display_data",
          "data": {
            "application/javascript": [
              "\n",
              "    async function download(id, filename, size) {\n",
              "      if (!google.colab.kernel.accessAllowed) {\n",
              "        return;\n",
              "      }\n",
              "      const div = document.createElement('div');\n",
              "      const label = document.createElement('label');\n",
              "      label.textContent = `Downloading \"${filename}\": `;\n",
              "      div.appendChild(label);\n",
              "      const progress = document.createElement('progress');\n",
              "      progress.max = size;\n",
              "      div.appendChild(progress);\n",
              "      document.body.appendChild(div);\n",
              "\n",
              "      const buffers = [];\n",
              "      let downloaded = 0;\n",
              "\n",
              "      const channel = await google.colab.kernel.comms.open(id);\n",
              "      // Send a message to notify the kernel that we're ready.\n",
              "      channel.send({})\n",
              "\n",
              "      for await (const message of channel.messages) {\n",
              "        // Send a message to notify the kernel that we're ready.\n",
              "        channel.send({})\n",
              "        if (message.buffers) {\n",
              "          for (const buffer of message.buffers) {\n",
              "            buffers.push(buffer);\n",
              "            downloaded += buffer.byteLength;\n",
              "            progress.value = downloaded;\n",
              "          }\n",
              "        }\n",
              "      }\n",
              "      const blob = new Blob(buffers, {type: 'application/binary'});\n",
              "      const a = document.createElement('a');\n",
              "      a.href = window.URL.createObjectURL(blob);\n",
              "      a.download = filename;\n",
              "      div.appendChild(a);\n",
              "      a.click();\n",
              "      div.remove();\n",
              "    }\n",
              "  "
            ],
            "text/plain": [
              "<IPython.core.display.Javascript object>"
            ]
          },
          "metadata": {
            "tags": []
          }
        },
        {
          "output_type": "display_data",
          "data": {
            "application/javascript": [
              "download(\"download_99956d95-650f-49c0-8ec5-9399defeb320\", \"pred_df.csv\", 5255369)"
            ],
            "text/plain": [
              "<IPython.core.display.Javascript object>"
            ]
          },
          "metadata": {
            "tags": []
          }
        }
      ]
    },
    {
      "cell_type": "code",
      "metadata": {
        "id": "FIOq1wNlmvhs",
        "outputId": "5df5e9a1-06cb-4ee8-a084-6dd99393528e",
        "colab": {
          "base_uri": "https://localhost:8080/",
          "height": 16
        }
      },
      "source": [
        ""
      ],
      "execution_count": null,
      "outputs": [
        {
          "output_type": "display_data",
          "data": {
            "application/javascript": [
              "\n",
              "    async function download(id, filename, size) {\n",
              "      if (!google.colab.kernel.accessAllowed) {\n",
              "        return;\n",
              "      }\n",
              "      const div = document.createElement('div');\n",
              "      const label = document.createElement('label');\n",
              "      label.textContent = `Downloading \"${filename}\": `;\n",
              "      div.appendChild(label);\n",
              "      const progress = document.createElement('progress');\n",
              "      progress.max = size;\n",
              "      div.appendChild(progress);\n",
              "      document.body.appendChild(div);\n",
              "\n",
              "      const buffers = [];\n",
              "      let downloaded = 0;\n",
              "\n",
              "      const channel = await google.colab.kernel.comms.open(id);\n",
              "      // Send a message to notify the kernel that we're ready.\n",
              "      channel.send({})\n",
              "\n",
              "      for await (const message of channel.messages) {\n",
              "        // Send a message to notify the kernel that we're ready.\n",
              "        channel.send({})\n",
              "        if (message.buffers) {\n",
              "          for (const buffer of message.buffers) {\n",
              "            buffers.push(buffer);\n",
              "            downloaded += buffer.byteLength;\n",
              "            progress.value = downloaded;\n",
              "          }\n",
              "        }\n",
              "      }\n",
              "      const blob = new Blob(buffers, {type: 'application/binary'});\n",
              "      const a = document.createElement('a');\n",
              "      a.href = window.URL.createObjectURL(blob);\n",
              "      a.download = filename;\n",
              "      div.appendChild(a);\n",
              "      a.click();\n",
              "      div.remove();\n",
              "    }\n",
              "  "
            ],
            "text/plain": [
              "<IPython.core.display.Javascript object>"
            ]
          },
          "metadata": {
            "tags": []
          }
        },
        {
          "output_type": "display_data",
          "data": {
            "application/javascript": [
              "download(\"download_1fabd5ed-0819-45e5-b8b3-c0236a15042f\", \"df_score.csv\", 195398982)"
            ],
            "text/plain": [
              "<IPython.core.display.Javascript object>"
            ]
          },
          "metadata": {
            "tags": []
          }
        }
      ]
    },
    {
      "cell_type": "markdown",
      "metadata": {
        "id": "eq4T6y5sLaei"
      },
      "source": [
        "## Textblob"
      ]
    },
    {
      "cell_type": "code",
      "metadata": {
        "id": "EiIU6ulMQF3D"
      },
      "source": [
        "from textblob import TextBlob\n",
        "# TextBlob(sentence).sentiment"
      ],
      "execution_count": null,
      "outputs": []
    },
    {
      "cell_type": "code",
      "metadata": {
        "id": "ffdx_iRqDadg",
        "outputId": "7e8a7afe-a800-4fc5-ec91-8dd317f603e0",
        "colab": {
          "base_uri": "https://localhost:8080/",
          "height": 717
        }
      },
      "source": [
        "df['scores2_TB'] = df['content'].apply(lambda content: TextBlob(str(content)).sentiment)\n",
        "df.head(2)\n"
      ],
      "execution_count": null,
      "outputs": [
        {
          "output_type": "execute_result",
          "data": {
            "text/html": [
              "<div>\n",
              "<style scoped>\n",
              "    .dataframe tbody tr th:only-of-type {\n",
              "        vertical-align: middle;\n",
              "    }\n",
              "\n",
              "    .dataframe tbody tr th {\n",
              "        vertical-align: top;\n",
              "    }\n",
              "\n",
              "    .dataframe thead th {\n",
              "        text-align: right;\n",
              "    }\n",
              "</style>\n",
              "<table border=\"1\" class=\"dataframe\">\n",
              "  <thead>\n",
              "    <tr style=\"text-align: right;\">\n",
              "      <th></th>\n",
              "      <th>Unnamed: 0</th>\n",
              "      <th>file</th>\n",
              "      <th>Message-ID</th>\n",
              "      <th>Date</th>\n",
              "      <th>From</th>\n",
              "      <th>To</th>\n",
              "      <th>Subject</th>\n",
              "      <th>Mime-Version</th>\n",
              "      <th>Content-Type</th>\n",
              "      <th>Content-Transfer-Encoding</th>\n",
              "      <th>X-From</th>\n",
              "      <th>X-To</th>\n",
              "      <th>X-cc</th>\n",
              "      <th>X-bcc</th>\n",
              "      <th>X-Folder</th>\n",
              "      <th>X-Origin</th>\n",
              "      <th>X-FileName</th>\n",
              "      <th>content</th>\n",
              "      <th>user</th>\n",
              "      <th>stemmer</th>\n",
              "      <th>polarity</th>\n",
              "      <th>compound</th>\n",
              "      <th>sentiment</th>\n",
              "      <th>count_To</th>\n",
              "      <th>scores2_TB</th>\n",
              "    </tr>\n",
              "  </thead>\n",
              "  <tbody>\n",
              "    <tr>\n",
              "      <th>0</th>\n",
              "      <td>1232</td>\n",
              "      <td>allen-p/deleted_items/1.</td>\n",
              "      <td>&lt;21543395.1075855374340.JavaMail.evans@thyme&gt;</td>\n",
              "      <td>2001-12-30 18:19:42+00:00</td>\n",
              "      <td>frozenset({'pallen70@hotmail.com'})</td>\n",
              "      <td>frozenset({'pallen@enron.com'})</td>\n",
              "      <td>Fwd: Bishops Corner</td>\n",
              "      <td>1.0</td>\n",
              "      <td>text/plain; charset=ANSI_X3.4-1968</td>\n",
              "      <td>7bit</td>\n",
              "      <td>\"phillip allen\" &lt;pallen70@hotmail.com&gt;@ENRON</td>\n",
              "      <td>pallen@enron.com</td>\n",
              "      <td>NaN</td>\n",
              "      <td>NaN</td>\n",
              "      <td>\\Phillip_Allen_Jan2002_1\\Allen, Phillip K.\\Del...</td>\n",
              "      <td>Allen-P</td>\n",
              "      <td>pallen (Non-Privileged).pst</td>\n",
              "      <td>[greg, thors, phillip, allen, bishop, corner, ...</td>\n",
              "      <td>allen-p</td>\n",
              "      <td>greg thor phillip allen bishop corner sat dec ...</td>\n",
              "      <td>{'neg': 0.011, 'neu': 0.871, 'pos': 0.117, 'co...</td>\n",
              "      <td>0.9001</td>\n",
              "      <td>positive</td>\n",
              "      <td>1</td>\n",
              "      <td>(0.06911976911976911, 0.5489177489177489)</td>\n",
              "    </tr>\n",
              "    <tr>\n",
              "      <th>1</th>\n",
              "      <td>1233</td>\n",
              "      <td>allen-p/deleted_items/10.</td>\n",
              "      <td>&lt;25363451.1075855374674.JavaMail.evans@thyme&gt;</td>\n",
              "      <td>2001-12-28 01:16:46+00:00</td>\n",
              "      <td>frozenset({'arsystem@mailman.enron.com'})</td>\n",
              "      <td>frozenset({'k..allen@enron.com'})</td>\n",
              "      <td>Your Approval is Overdue: Access Request for m...</td>\n",
              "      <td>1.0</td>\n",
              "      <td>text/plain; charset=us-ascii</td>\n",
              "      <td>7bit</td>\n",
              "      <td>ARSystem &lt;ARSystem@mailman.enron.com&gt;@ENRON</td>\n",
              "      <td>Allen, Phillip K. &lt;/O=ENRON/OU=NA/CN=RECIPIENT...</td>\n",
              "      <td>NaN</td>\n",
              "      <td>NaN</td>\n",
              "      <td>\\Phillip_Allen_Jan2002_1\\Allen, Phillip K.\\Del...</td>\n",
              "      <td>Allen-P</td>\n",
              "      <td>pallen (Non-Privileged).pst</td>\n",
              "      <td>[request, pend, approv, day, itcapp, corp, srr...</td>\n",
              "      <td>allen-p</td>\n",
              "      <td>request pend approv day itcapp corp srr auth e...</td>\n",
              "      <td>{'neg': 0.059, 'neu': 0.868, 'pos': 0.073, 'co...</td>\n",
              "      <td>0.1280</td>\n",
              "      <td>positive</td>\n",
              "      <td>1</td>\n",
              "      <td>(0.14285714285714285, 0.26785714285714285)</td>\n",
              "    </tr>\n",
              "    <tr>\n",
              "      <th>2</th>\n",
              "      <td>1244</td>\n",
              "      <td>allen-p/deleted_items/11.</td>\n",
              "      <td>&lt;8030945.1075855374698.JavaMail.evans@thyme&gt;</td>\n",
              "      <td>2001-12-27 23:49:59+00:00</td>\n",
              "      <td>frozenset({'ei_editor@platts.com'})</td>\n",
              "      <td>frozenset({'einsighthtml@listserv.platts.com'})</td>\n",
              "      <td>A hard act to follow: the future for energy wi...</td>\n",
              "      <td>1.0</td>\n",
              "      <td>text/plain; charset=ANSI_X3.4-1968</td>\n",
              "      <td>quoted-printable</td>\n",
              "      <td>Energy Insight Editor &lt;EI_editor@PLATTS.COM&gt;@E...</td>\n",
              "      <td>EINSIGHTHTML@LISTSERV.PLATTS.COM</td>\n",
              "      <td>NaN</td>\n",
              "      <td>NaN</td>\n",
              "      <td>\\Phillip_Allen_Jan2002_1\\Allen, Phillip K.\\Del...</td>\n",
              "      <td>Allen-P</td>\n",
              "      <td>pallen (Non-Privileged).pst</td>\n",
              "      <td>[updat, dec, imag, hard, act, follow, futur, e...</td>\n",
              "      <td>allen-p</td>\n",
              "      <td>updat dec imag hard act follow futur ene rgi w...</td>\n",
              "      <td>{'neg': 0.098, 'neu': 0.861, 'pos': 0.041, 'co...</td>\n",
              "      <td>-0.9559</td>\n",
              "      <td>negative</td>\n",
              "      <td>1</td>\n",
              "      <td>(0.1405032467532468, 0.5127886002886005)</td>\n",
              "    </tr>\n",
              "    <tr>\n",
              "      <th>3</th>\n",
              "      <td>1254</td>\n",
              "      <td>allen-p/deleted_items/12.</td>\n",
              "      <td>&lt;20180566.1075855374772.JavaMail.evans@thyme&gt;</td>\n",
              "      <td>2001-12-27 23:37:31+00:00</td>\n",
              "      <td>frozenset({'no.address@enron.com'})</td>\n",
              "      <td>nan</td>\n",
              "      <td>Please Read: Resolution Center to Disconnect T...</td>\n",
              "      <td>1.0</td>\n",
              "      <td>text/plain; charset=ANSI_X3.4-1968</td>\n",
              "      <td>7bit</td>\n",
              "      <td>Enron General Announcements@ENRON</td>\n",
              "      <td>Announcement Group@ENRON &lt;??SAnnouncement Grou...</td>\n",
              "      <td>NaN</td>\n",
              "      <td>NaN</td>\n",
              "      <td>\\Phillip_Allen_Jan2002_1\\Allen, Phillip K.\\Del...</td>\n",
              "      <td>Allen-P</td>\n",
              "      <td>pallen (Non-Privileged).pst</td>\n",
              "      <td>[resolut, center, decommiss, number, januari, ...</td>\n",
              "      <td>allen-p</td>\n",
              "      <td>resolut center decommiss number januari contin...</td>\n",
              "      <td>{'neg': 0.0, 'neu': 0.892, 'pos': 0.108, 'comp...</td>\n",
              "      <td>0.8020</td>\n",
              "      <td>positive</td>\n",
              "      <td>1</td>\n",
              "      <td>(2.7755575615628915e-18, 0.24000000000000005)</td>\n",
              "    </tr>\n",
              "    <tr>\n",
              "      <th>4</th>\n",
              "      <td>1265</td>\n",
              "      <td>allen-p/deleted_items/13.</td>\n",
              "      <td>&lt;6589757.1075855374796.JavaMail.evans@thyme&gt;</td>\n",
              "      <td>2001-12-27 15:37:45+00:00</td>\n",
              "      <td>frozenset({'mike.grigsby@enron.com'})</td>\n",
              "      <td>frozenset({'m..tholt@enron.com', 'patti.sulliv...</td>\n",
              "      <td>FUNDIES MEETING EVERY DAY BEGINNING NEXT WEEK</td>\n",
              "      <td>1.0</td>\n",
              "      <td>text/plain; charset=us-ascii</td>\n",
              "      <td>7bit</td>\n",
              "      <td>Grigsby, Mike &lt;/O=ENRON/OU=NA/CN=RECIPIENTS/CN...</td>\n",
              "      <td>Adams, Jacqueline P. &lt;/O=ENRON/OU=NA/CN=RECIPI...</td>\n",
              "      <td>NaN</td>\n",
              "      <td>NaN</td>\n",
              "      <td>\\Phillip_Allen_Jan2002_1\\Allen, Phillip K.\\Del...</td>\n",
              "      <td>Allen-P</td>\n",
              "      <td>pallen (Non-Privileged).pst</td>\n",
              "      <td>[offic, new, year, begin, inform, fundi, meet,...</td>\n",
              "      <td>allen-p</td>\n",
              "      <td>offic new year begin inform fundi meet day cov...</td>\n",
              "      <td>{'neg': 0.0, 'neu': 0.894, 'pos': 0.106, 'comp...</td>\n",
              "      <td>0.7096</td>\n",
              "      <td>positive</td>\n",
              "      <td>20</td>\n",
              "      <td>(0.41818181818181815, 0.5272727272727273)</td>\n",
              "    </tr>\n",
              "  </tbody>\n",
              "</table>\n",
              "</div>"
            ],
            "text/plain": [
              "   Unnamed: 0                       file  \\\n",
              "0        1232   allen-p/deleted_items/1.   \n",
              "1        1233  allen-p/deleted_items/10.   \n",
              "2        1244  allen-p/deleted_items/11.   \n",
              "3        1254  allen-p/deleted_items/12.   \n",
              "4        1265  allen-p/deleted_items/13.   \n",
              "\n",
              "                                      Message-ID                      Date  \\\n",
              "0  <21543395.1075855374340.JavaMail.evans@thyme> 2001-12-30 18:19:42+00:00   \n",
              "1  <25363451.1075855374674.JavaMail.evans@thyme> 2001-12-28 01:16:46+00:00   \n",
              "2   <8030945.1075855374698.JavaMail.evans@thyme> 2001-12-27 23:49:59+00:00   \n",
              "3  <20180566.1075855374772.JavaMail.evans@thyme> 2001-12-27 23:37:31+00:00   \n",
              "4   <6589757.1075855374796.JavaMail.evans@thyme> 2001-12-27 15:37:45+00:00   \n",
              "\n",
              "                                        From  \\\n",
              "0        frozenset({'pallen70@hotmail.com'})   \n",
              "1  frozenset({'arsystem@mailman.enron.com'})   \n",
              "2        frozenset({'ei_editor@platts.com'})   \n",
              "3        frozenset({'no.address@enron.com'})   \n",
              "4      frozenset({'mike.grigsby@enron.com'})   \n",
              "\n",
              "                                                  To  \\\n",
              "0                    frozenset({'pallen@enron.com'})   \n",
              "1                  frozenset({'k..allen@enron.com'})   \n",
              "2    frozenset({'einsighthtml@listserv.platts.com'})   \n",
              "3                                                nan   \n",
              "4  frozenset({'m..tholt@enron.com', 'patti.sulliv...   \n",
              "\n",
              "                                             Subject  Mime-Version  \\\n",
              "0                                Fwd: Bishops Corner           1.0   \n",
              "1  Your Approval is Overdue: Access Request for m...           1.0   \n",
              "2  A hard act to follow: the future for energy wi...           1.0   \n",
              "3  Please Read: Resolution Center to Disconnect T...           1.0   \n",
              "4      FUNDIES MEETING EVERY DAY BEGINNING NEXT WEEK           1.0   \n",
              "\n",
              "                         Content-Type Content-Transfer-Encoding  \\\n",
              "0  text/plain; charset=ANSI_X3.4-1968                      7bit   \n",
              "1        text/plain; charset=us-ascii                      7bit   \n",
              "2  text/plain; charset=ANSI_X3.4-1968          quoted-printable   \n",
              "3  text/plain; charset=ANSI_X3.4-1968                      7bit   \n",
              "4        text/plain; charset=us-ascii                      7bit   \n",
              "\n",
              "                                              X-From  \\\n",
              "0       \"phillip allen\" <pallen70@hotmail.com>@ENRON   \n",
              "1        ARSystem <ARSystem@mailman.enron.com>@ENRON   \n",
              "2  Energy Insight Editor <EI_editor@PLATTS.COM>@E...   \n",
              "3                  Enron General Announcements@ENRON   \n",
              "4  Grigsby, Mike </O=ENRON/OU=NA/CN=RECIPIENTS/CN...   \n",
              "\n",
              "                                                X-To X-cc X-bcc  \\\n",
              "0                                   pallen@enron.com  NaN   NaN   \n",
              "1  Allen, Phillip K. </O=ENRON/OU=NA/CN=RECIPIENT...  NaN   NaN   \n",
              "2                   EINSIGHTHTML@LISTSERV.PLATTS.COM  NaN   NaN   \n",
              "3  Announcement Group@ENRON <??SAnnouncement Grou...  NaN   NaN   \n",
              "4  Adams, Jacqueline P. </O=ENRON/OU=NA/CN=RECIPI...  NaN   NaN   \n",
              "\n",
              "                                            X-Folder X-Origin  \\\n",
              "0  \\Phillip_Allen_Jan2002_1\\Allen, Phillip K.\\Del...  Allen-P   \n",
              "1  \\Phillip_Allen_Jan2002_1\\Allen, Phillip K.\\Del...  Allen-P   \n",
              "2  \\Phillip_Allen_Jan2002_1\\Allen, Phillip K.\\Del...  Allen-P   \n",
              "3  \\Phillip_Allen_Jan2002_1\\Allen, Phillip K.\\Del...  Allen-P   \n",
              "4  \\Phillip_Allen_Jan2002_1\\Allen, Phillip K.\\Del...  Allen-P   \n",
              "\n",
              "                    X-FileName  \\\n",
              "0  pallen (Non-Privileged).pst   \n",
              "1  pallen (Non-Privileged).pst   \n",
              "2  pallen (Non-Privileged).pst   \n",
              "3  pallen (Non-Privileged).pst   \n",
              "4  pallen (Non-Privileged).pst   \n",
              "\n",
              "                                             content     user  \\\n",
              "0  [greg, thors, phillip, allen, bishop, corner, ...  allen-p   \n",
              "1  [request, pend, approv, day, itcapp, corp, srr...  allen-p   \n",
              "2  [updat, dec, imag, hard, act, follow, futur, e...  allen-p   \n",
              "3  [resolut, center, decommiss, number, januari, ...  allen-p   \n",
              "4  [offic, new, year, begin, inform, fundi, meet,...  allen-p   \n",
              "\n",
              "                                             stemmer  \\\n",
              "0  greg thor phillip allen bishop corner sat dec ...   \n",
              "1  request pend approv day itcapp corp srr auth e...   \n",
              "2  updat dec imag hard act follow futur ene rgi w...   \n",
              "3  resolut center decommiss number januari contin...   \n",
              "4  offic new year begin inform fundi meet day cov...   \n",
              "\n",
              "                                            polarity  compound sentiment  \\\n",
              "0  {'neg': 0.011, 'neu': 0.871, 'pos': 0.117, 'co...    0.9001  positive   \n",
              "1  {'neg': 0.059, 'neu': 0.868, 'pos': 0.073, 'co...    0.1280  positive   \n",
              "2  {'neg': 0.098, 'neu': 0.861, 'pos': 0.041, 'co...   -0.9559  negative   \n",
              "3  {'neg': 0.0, 'neu': 0.892, 'pos': 0.108, 'comp...    0.8020  positive   \n",
              "4  {'neg': 0.0, 'neu': 0.894, 'pos': 0.106, 'comp...    0.7096  positive   \n",
              "\n",
              "   count_To                                     scores2_TB  \n",
              "0         1      (0.06911976911976911, 0.5489177489177489)  \n",
              "1         1     (0.14285714285714285, 0.26785714285714285)  \n",
              "2         1       (0.1405032467532468, 0.5127886002886005)  \n",
              "3         1  (2.7755575615628915e-18, 0.24000000000000005)  \n",
              "4        20      (0.41818181818181815, 0.5272727272727273)  "
            ]
          },
          "metadata": {
            "tags": []
          },
          "execution_count": 95
        }
      ]
    },
    {
      "cell_type": "code",
      "metadata": {
        "id": "fV168WDma6iH"
      },
      "source": [
        "# defining function for subjectivity \n",
        "def getSubjectivity(txt):\n",
        "  return TextBlob(txt).sentiment.subjectivity\n",
        "\n",
        "# defining function for Polarity\n",
        "def getPolarity(txt):\n",
        "  return TextBlob(txt).sentiment.polarity"
      ],
      "execution_count": null,
      "outputs": []
    },
    {
      "cell_type": "code",
      "metadata": {
        "id": "HJ_GHPtlbLIF",
        "outputId": "4dfb5ef1-11a7-476d-e6af-90a9fe6b7db6",
        "colab": {
          "base_uri": "https://localhost:8080/",
          "height": 377
        }
      },
      "source": [
        "# Adding Sentiment crossponding each mail\n",
        "df['TB_Subjectivity'] = df['stemmer'].apply(getSubjectivity)\n",
        "\n",
        "df['TB_Polarity'] = df['stemmer'].apply(getPolarity)\n",
        "\n",
        "# displaying data \n",
        "df.head(2)"
      ],
      "execution_count": null,
      "outputs": [
        {
          "output_type": "execute_result",
          "data": {
            "text/html": [
              "<div>\n",
              "<style scoped>\n",
              "    .dataframe tbody tr th:only-of-type {\n",
              "        vertical-align: middle;\n",
              "    }\n",
              "\n",
              "    .dataframe tbody tr th {\n",
              "        vertical-align: top;\n",
              "    }\n",
              "\n",
              "    .dataframe thead th {\n",
              "        text-align: right;\n",
              "    }\n",
              "</style>\n",
              "<table border=\"1\" class=\"dataframe\">\n",
              "  <thead>\n",
              "    <tr style=\"text-align: right;\">\n",
              "      <th></th>\n",
              "      <th>Unnamed: 0</th>\n",
              "      <th>file</th>\n",
              "      <th>Message-ID</th>\n",
              "      <th>Date</th>\n",
              "      <th>From</th>\n",
              "      <th>To</th>\n",
              "      <th>Subject</th>\n",
              "      <th>Mime-Version</th>\n",
              "      <th>Content-Type</th>\n",
              "      <th>Content-Transfer-Encoding</th>\n",
              "      <th>X-From</th>\n",
              "      <th>X-To</th>\n",
              "      <th>X-cc</th>\n",
              "      <th>X-bcc</th>\n",
              "      <th>X-Folder</th>\n",
              "      <th>X-Origin</th>\n",
              "      <th>X-FileName</th>\n",
              "      <th>content</th>\n",
              "      <th>user</th>\n",
              "      <th>stemmer</th>\n",
              "      <th>polarity</th>\n",
              "      <th>compound</th>\n",
              "      <th>sentiment</th>\n",
              "      <th>count_To</th>\n",
              "      <th>scores2_TB</th>\n",
              "      <th>TB_Subjectivity</th>\n",
              "      <th>TB_Polarity</th>\n",
              "    </tr>\n",
              "  </thead>\n",
              "  <tbody>\n",
              "    <tr>\n",
              "      <th>0</th>\n",
              "      <td>1232</td>\n",
              "      <td>allen-p/deleted_items/1.</td>\n",
              "      <td>&lt;21543395.1075855374340.JavaMail.evans@thyme&gt;</td>\n",
              "      <td>2001-12-30 18:19:42+00:00</td>\n",
              "      <td>frozenset({'pallen70@hotmail.com'})</td>\n",
              "      <td>frozenset({'pallen@enron.com'})</td>\n",
              "      <td>Fwd: Bishops Corner</td>\n",
              "      <td>1.0</td>\n",
              "      <td>text/plain; charset=ANSI_X3.4-1968</td>\n",
              "      <td>7bit</td>\n",
              "      <td>\"phillip allen\" &lt;pallen70@hotmail.com&gt;@ENRON</td>\n",
              "      <td>pallen@enron.com</td>\n",
              "      <td>NaN</td>\n",
              "      <td>NaN</td>\n",
              "      <td>\\Phillip_Allen_Jan2002_1\\Allen, Phillip K.\\Del...</td>\n",
              "      <td>Allen-P</td>\n",
              "      <td>pallen (Non-Privileged).pst</td>\n",
              "      <td>[greg, thors, phillip, allen, bishop, corner, ...</td>\n",
              "      <td>allen-p</td>\n",
              "      <td>greg thor phillip allen bishop corner sat dec ...</td>\n",
              "      <td>{'neg': 0.011, 'neu': 0.871, 'pos': 0.117, 'co...</td>\n",
              "      <td>0.9001</td>\n",
              "      <td>positive</td>\n",
              "      <td>1</td>\n",
              "      <td>(0.06911976911976911, 0.5489177489177489)</td>\n",
              "      <td>0.548918</td>\n",
              "      <td>0.069120</td>\n",
              "    </tr>\n",
              "    <tr>\n",
              "      <th>1</th>\n",
              "      <td>1233</td>\n",
              "      <td>allen-p/deleted_items/10.</td>\n",
              "      <td>&lt;25363451.1075855374674.JavaMail.evans@thyme&gt;</td>\n",
              "      <td>2001-12-28 01:16:46+00:00</td>\n",
              "      <td>frozenset({'arsystem@mailman.enron.com'})</td>\n",
              "      <td>frozenset({'k..allen@enron.com'})</td>\n",
              "      <td>Your Approval is Overdue: Access Request for m...</td>\n",
              "      <td>1.0</td>\n",
              "      <td>text/plain; charset=us-ascii</td>\n",
              "      <td>7bit</td>\n",
              "      <td>ARSystem &lt;ARSystem@mailman.enron.com&gt;@ENRON</td>\n",
              "      <td>Allen, Phillip K. &lt;/O=ENRON/OU=NA/CN=RECIPIENT...</td>\n",
              "      <td>NaN</td>\n",
              "      <td>NaN</td>\n",
              "      <td>\\Phillip_Allen_Jan2002_1\\Allen, Phillip K.\\Del...</td>\n",
              "      <td>Allen-P</td>\n",
              "      <td>pallen (Non-Privileged).pst</td>\n",
              "      <td>[request, pend, approv, day, itcapp, corp, srr...</td>\n",
              "      <td>allen-p</td>\n",
              "      <td>request pend approv day itcapp corp srr auth e...</td>\n",
              "      <td>{'neg': 0.059, 'neu': 0.868, 'pos': 0.073, 'co...</td>\n",
              "      <td>0.1280</td>\n",
              "      <td>positive</td>\n",
              "      <td>1</td>\n",
              "      <td>(0.14285714285714285, 0.26785714285714285)</td>\n",
              "      <td>0.267857</td>\n",
              "      <td>0.142857</td>\n",
              "    </tr>\n",
              "  </tbody>\n",
              "</table>\n",
              "</div>"
            ],
            "text/plain": [
              "   Unnamed: 0                       file  \\\n",
              "0        1232   allen-p/deleted_items/1.   \n",
              "1        1233  allen-p/deleted_items/10.   \n",
              "\n",
              "                                      Message-ID                      Date  \\\n",
              "0  <21543395.1075855374340.JavaMail.evans@thyme> 2001-12-30 18:19:42+00:00   \n",
              "1  <25363451.1075855374674.JavaMail.evans@thyme> 2001-12-28 01:16:46+00:00   \n",
              "\n",
              "                                        From  \\\n",
              "0        frozenset({'pallen70@hotmail.com'})   \n",
              "1  frozenset({'arsystem@mailman.enron.com'})   \n",
              "\n",
              "                                  To  \\\n",
              "0    frozenset({'pallen@enron.com'})   \n",
              "1  frozenset({'k..allen@enron.com'})   \n",
              "\n",
              "                                             Subject  Mime-Version  \\\n",
              "0                                Fwd: Bishops Corner           1.0   \n",
              "1  Your Approval is Overdue: Access Request for m...           1.0   \n",
              "\n",
              "                         Content-Type Content-Transfer-Encoding  \\\n",
              "0  text/plain; charset=ANSI_X3.4-1968                      7bit   \n",
              "1        text/plain; charset=us-ascii                      7bit   \n",
              "\n",
              "                                         X-From  \\\n",
              "0  \"phillip allen\" <pallen70@hotmail.com>@ENRON   \n",
              "1   ARSystem <ARSystem@mailman.enron.com>@ENRON   \n",
              "\n",
              "                                                X-To X-cc X-bcc  \\\n",
              "0                                   pallen@enron.com  NaN   NaN   \n",
              "1  Allen, Phillip K. </O=ENRON/OU=NA/CN=RECIPIENT...  NaN   NaN   \n",
              "\n",
              "                                            X-Folder X-Origin  \\\n",
              "0  \\Phillip_Allen_Jan2002_1\\Allen, Phillip K.\\Del...  Allen-P   \n",
              "1  \\Phillip_Allen_Jan2002_1\\Allen, Phillip K.\\Del...  Allen-P   \n",
              "\n",
              "                    X-FileName  \\\n",
              "0  pallen (Non-Privileged).pst   \n",
              "1  pallen (Non-Privileged).pst   \n",
              "\n",
              "                                             content     user  \\\n",
              "0  [greg, thors, phillip, allen, bishop, corner, ...  allen-p   \n",
              "1  [request, pend, approv, day, itcapp, corp, srr...  allen-p   \n",
              "\n",
              "                                             stemmer  \\\n",
              "0  greg thor phillip allen bishop corner sat dec ...   \n",
              "1  request pend approv day itcapp corp srr auth e...   \n",
              "\n",
              "                                            polarity  compound sentiment  \\\n",
              "0  {'neg': 0.011, 'neu': 0.871, 'pos': 0.117, 'co...    0.9001  positive   \n",
              "1  {'neg': 0.059, 'neu': 0.868, 'pos': 0.073, 'co...    0.1280  positive   \n",
              "\n",
              "   count_To                                  scores2_TB  TB_Subjectivity  \\\n",
              "0         1   (0.06911976911976911, 0.5489177489177489)         0.548918   \n",
              "1         1  (0.14285714285714285, 0.26785714285714285)         0.267857   \n",
              "\n",
              "   TB_Polarity  \n",
              "0     0.069120  \n",
              "1     0.142857  "
            ]
          },
          "metadata": {
            "tags": []
          },
          "execution_count": 100
        }
      ]
    },
    {
      "cell_type": "code",
      "metadata": {
        "id": "GGmvFm3ocoa3"
      },
      "source": [
        "\n",
        "# Define function for analyzing Polarity\n",
        "def getAnalysis(score):\n",
        "  if score < 0:\n",
        "    return 'Negative'\n",
        "  elif score == 0 :\n",
        "    return 'Neutral'\n",
        "  else:\n",
        "    return 'Positive'"
      ],
      "execution_count": null,
      "outputs": []
    },
    {
      "cell_type": "code",
      "metadata": {
        "id": "9e4cgbpQcuSw",
        "outputId": "e26c302b-a730-4800-900a-1d726b610bef",
        "colab": {
          "base_uri": "https://localhost:8080/",
          "height": 247
        }
      },
      "source": [
        "\n",
        "# Create Analysis column based on polarity\n",
        "df['TB_Analysis'] = df['TB_Polarity'].apply(getAnalysis)\n",
        "\n",
        "# diplay data\n",
        "df.head(1)"
      ],
      "execution_count": null,
      "outputs": [
        {
          "output_type": "execute_result",
          "data": {
            "text/html": [
              "<div>\n",
              "<style scoped>\n",
              "    .dataframe tbody tr th:only-of-type {\n",
              "        vertical-align: middle;\n",
              "    }\n",
              "\n",
              "    .dataframe tbody tr th {\n",
              "        vertical-align: top;\n",
              "    }\n",
              "\n",
              "    .dataframe thead th {\n",
              "        text-align: right;\n",
              "    }\n",
              "</style>\n",
              "<table border=\"1\" class=\"dataframe\">\n",
              "  <thead>\n",
              "    <tr style=\"text-align: right;\">\n",
              "      <th></th>\n",
              "      <th>Unnamed: 0</th>\n",
              "      <th>file</th>\n",
              "      <th>Message-ID</th>\n",
              "      <th>Date</th>\n",
              "      <th>From</th>\n",
              "      <th>To</th>\n",
              "      <th>Subject</th>\n",
              "      <th>Mime-Version</th>\n",
              "      <th>Content-Type</th>\n",
              "      <th>Content-Transfer-Encoding</th>\n",
              "      <th>X-From</th>\n",
              "      <th>X-To</th>\n",
              "      <th>X-cc</th>\n",
              "      <th>X-bcc</th>\n",
              "      <th>X-Folder</th>\n",
              "      <th>X-Origin</th>\n",
              "      <th>X-FileName</th>\n",
              "      <th>content</th>\n",
              "      <th>user</th>\n",
              "      <th>stemmer</th>\n",
              "      <th>polarity</th>\n",
              "      <th>compound</th>\n",
              "      <th>sentiment</th>\n",
              "      <th>count_To</th>\n",
              "      <th>scores2_TB</th>\n",
              "      <th>TB_Subjectivity</th>\n",
              "      <th>TB_Polarity</th>\n",
              "      <th>TB_Analysis</th>\n",
              "    </tr>\n",
              "  </thead>\n",
              "  <tbody>\n",
              "    <tr>\n",
              "      <th>0</th>\n",
              "      <td>1232</td>\n",
              "      <td>allen-p/deleted_items/1.</td>\n",
              "      <td>&lt;21543395.1075855374340.JavaMail.evans@thyme&gt;</td>\n",
              "      <td>2001-12-30 18:19:42+00:00</td>\n",
              "      <td>frozenset({'pallen70@hotmail.com'})</td>\n",
              "      <td>frozenset({'pallen@enron.com'})</td>\n",
              "      <td>Fwd: Bishops Corner</td>\n",
              "      <td>1.0</td>\n",
              "      <td>text/plain; charset=ANSI_X3.4-1968</td>\n",
              "      <td>7bit</td>\n",
              "      <td>\"phillip allen\" &lt;pallen70@hotmail.com&gt;@ENRON</td>\n",
              "      <td>pallen@enron.com</td>\n",
              "      <td>NaN</td>\n",
              "      <td>NaN</td>\n",
              "      <td>\\Phillip_Allen_Jan2002_1\\Allen, Phillip K.\\Del...</td>\n",
              "      <td>Allen-P</td>\n",
              "      <td>pallen (Non-Privileged).pst</td>\n",
              "      <td>[greg, thors, phillip, allen, bishop, corner, ...</td>\n",
              "      <td>allen-p</td>\n",
              "      <td>greg thor phillip allen bishop corner sat dec ...</td>\n",
              "      <td>{'neg': 0.011, 'neu': 0.871, 'pos': 0.117, 'co...</td>\n",
              "      <td>0.9001</td>\n",
              "      <td>positive</td>\n",
              "      <td>1</td>\n",
              "      <td>(0.06911976911976911, 0.5489177489177489)</td>\n",
              "      <td>0.548918</td>\n",
              "      <td>0.06912</td>\n",
              "      <td>Positive</td>\n",
              "    </tr>\n",
              "  </tbody>\n",
              "</table>\n",
              "</div>"
            ],
            "text/plain": [
              "   Unnamed: 0                      file  \\\n",
              "0        1232  allen-p/deleted_items/1.   \n",
              "\n",
              "                                      Message-ID                      Date  \\\n",
              "0  <21543395.1075855374340.JavaMail.evans@thyme> 2001-12-30 18:19:42+00:00   \n",
              "\n",
              "                                  From                               To  \\\n",
              "0  frozenset({'pallen70@hotmail.com'})  frozenset({'pallen@enron.com'})   \n",
              "\n",
              "               Subject  Mime-Version                        Content-Type  \\\n",
              "0  Fwd: Bishops Corner           1.0  text/plain; charset=ANSI_X3.4-1968   \n",
              "\n",
              "  Content-Transfer-Encoding                                        X-From  \\\n",
              "0                      7bit  \"phillip allen\" <pallen70@hotmail.com>@ENRON   \n",
              "\n",
              "               X-To X-cc X-bcc  \\\n",
              "0  pallen@enron.com  NaN   NaN   \n",
              "\n",
              "                                            X-Folder X-Origin  \\\n",
              "0  \\Phillip_Allen_Jan2002_1\\Allen, Phillip K.\\Del...  Allen-P   \n",
              "\n",
              "                    X-FileName  \\\n",
              "0  pallen (Non-Privileged).pst   \n",
              "\n",
              "                                             content     user  \\\n",
              "0  [greg, thors, phillip, allen, bishop, corner, ...  allen-p   \n",
              "\n",
              "                                             stemmer  \\\n",
              "0  greg thor phillip allen bishop corner sat dec ...   \n",
              "\n",
              "                                            polarity  compound sentiment  \\\n",
              "0  {'neg': 0.011, 'neu': 0.871, 'pos': 0.117, 'co...    0.9001  positive   \n",
              "\n",
              "   count_To                                 scores2_TB  TB_Subjectivity  \\\n",
              "0         1  (0.06911976911976911, 0.5489177489177489)         0.548918   \n",
              "\n",
              "   TB_Polarity TB_Analysis  \n",
              "0      0.06912    Positive  "
            ]
          },
          "metadata": {
            "tags": []
          },
          "execution_count": 103
        }
      ]
    },
    {
      "cell_type": "markdown",
      "metadata": {
        "id": "2K-uXTjPMV9X"
      },
      "source": [
        "### Flair"
      ]
    },
    {
      "cell_type": "code",
      "metadata": {
        "id": "WO5WQp1BMxD8",
        "outputId": "4206c113-5696-4056-8e25-7fc14c9aff5b",
        "colab": {
          "base_uri": "https://localhost:8080/",
          "height": 1000,
          "referenced_widgets": [
            "3d19e5badc14494587d0853979d43611",
            "913619771ee4454c9e394d737e770cc1",
            "acb36cca78de49b2be88b095d9bc21ef",
            "12d98d0ab6324e329ebdbabdd7c86606",
            "74460eae22004cf3a8b3eeaf0e915907",
            "cc397fdc6ae143eab6b6c2819df60076",
            "d436d699bb3e4b258874750aeb415ae2",
            "19a5e80d03b342269f9c092097c2ffaf",
            "493e3c4c91204b14a8800dad7ff93497",
            "d49cdaa6cd3e4c8a8cc61a018bd8ef05",
            "eba47a7682ad462585064c86df9458de",
            "315eb2c121194d7abb9cc02e8066db5b",
            "f18dc5dc26ce4ac0bfe5b487570af64b",
            "160acc686d4e4beebc880544857212d6",
            "154d1ace6dc1450ea99d2c2db41c78fb",
            "339390a25f9d451d96836cf0558904c3"
          ]
        }
      },
      "source": [
        "!pip3 install flair\n",
        "import flair\n",
        "flair_sentiment = flair.models.TextClassifier.load('en-sentiment')\n",
        "#s = flair.data.Sentence(sentence)\n",
        "#flair_sentiment.predict(s)\n",
        "#total_sentiment = s.labels\n",
        "#total_sentiment"
      ],
      "execution_count": null,
      "outputs": [
        {
          "output_type": "stream",
          "text": [
            "Collecting flair\n",
            "\u001b[?25l  Downloading https://files.pythonhosted.org/packages/cd/19/902d1691c1963ab8c9a9578abc2d65c63aa1ecf4f8200143b5ef91ace6f5/flair-0.6.1-py3-none-any.whl (331kB)\n",
            "\r\u001b[K     |█                               | 10kB 20.7MB/s eta 0:00:01\r\u001b[K     |██                              | 20kB 3.0MB/s eta 0:00:01\r\u001b[K     |███                             | 30kB 4.0MB/s eta 0:00:01\r\u001b[K     |████                            | 40kB 4.3MB/s eta 0:00:01\r\u001b[K     |█████                           | 51kB 3.5MB/s eta 0:00:01\r\u001b[K     |██████                          | 61kB 3.8MB/s eta 0:00:01\r\u001b[K     |███████                         | 71kB 4.2MB/s eta 0:00:01\r\u001b[K     |████████                        | 81kB 4.6MB/s eta 0:00:01\r\u001b[K     |█████████                       | 92kB 5.0MB/s eta 0:00:01\r\u001b[K     |█████████▉                      | 102kB 4.7MB/s eta 0:00:01\r\u001b[K     |██████████▉                     | 112kB 4.7MB/s eta 0:00:01\r\u001b[K     |███████████▉                    | 122kB 4.7MB/s eta 0:00:01\r\u001b[K     |████████████▉                   | 133kB 4.7MB/s eta 0:00:01\r\u001b[K     |█████████████▉                  | 143kB 4.7MB/s eta 0:00:01\r\u001b[K     |██████████████▉                 | 153kB 4.7MB/s eta 0:00:01\r\u001b[K     |███████████████▉                | 163kB 4.7MB/s eta 0:00:01\r\u001b[K     |████████████████▉               | 174kB 4.7MB/s eta 0:00:01\r\u001b[K     |█████████████████▉              | 184kB 4.7MB/s eta 0:00:01\r\u001b[K     |██████████████████▉             | 194kB 4.7MB/s eta 0:00:01\r\u001b[K     |███████████████████▊            | 204kB 4.7MB/s eta 0:00:01\r\u001b[K     |████████████████████▊           | 215kB 4.7MB/s eta 0:00:01\r\u001b[K     |█████████████████████▊          | 225kB 4.7MB/s eta 0:00:01\r\u001b[K     |██████████████████████▊         | 235kB 4.7MB/s eta 0:00:01\r\u001b[K     |███████████████████████▊        | 245kB 4.7MB/s eta 0:00:01\r\u001b[K     |████████████████████████▊       | 256kB 4.7MB/s eta 0:00:01\r\u001b[K     |█████████████████████████▊      | 266kB 4.7MB/s eta 0:00:01\r\u001b[K     |██████████████████████████▊     | 276kB 4.7MB/s eta 0:00:01\r\u001b[K     |███████████████████████████▊    | 286kB 4.7MB/s eta 0:00:01\r\u001b[K     |████████████████████████████▊   | 296kB 4.7MB/s eta 0:00:01\r\u001b[K     |█████████████████████████████▋  | 307kB 4.7MB/s eta 0:00:01\r\u001b[K     |██████████████████████████████▋ | 317kB 4.7MB/s eta 0:00:01\r\u001b[K     |███████████████████████████████▋| 327kB 4.7MB/s eta 0:00:01\r\u001b[K     |████████████████████████████████| 337kB 4.7MB/s \n",
            "\u001b[?25hCollecting konoha<5.0.0,>=4.0.0\n",
            "  Downloading https://files.pythonhosted.org/packages/ea/01/47358efec5396fc80f98273c42cbdfe7aab056252b07884ffcc0f118978f/konoha-4.6.2-py3-none-any.whl\n",
            "Collecting deprecated>=1.2.4\n",
            "  Downloading https://files.pythonhosted.org/packages/76/a1/05d7f62f956d77b23a640efc650f80ce24483aa2f85a09c03fb64f49e879/Deprecated-1.2.10-py2.py3-none-any.whl\n",
            "Collecting sentencepiece!=0.1.92\n",
            "\u001b[?25l  Downloading https://files.pythonhosted.org/packages/d4/a4/d0a884c4300004a78cca907a6ff9a5e9fe4f090f5d95ab341c53d28cbc58/sentencepiece-0.1.91-cp36-cp36m-manylinux1_x86_64.whl (1.1MB)\n",
            "\u001b[K     |████████████████████████████████| 1.1MB 14.4MB/s \n",
            "\u001b[?25hRequirement already satisfied: scikit-learn>=0.21.3 in /usr/local/lib/python3.6/dist-packages (from flair) (0.22.2.post1)\n",
            "Collecting bpemb>=0.3.2\n",
            "  Downloading https://files.pythonhosted.org/packages/91/77/3f0f53856e86af32b1d3c86652815277f7b5f880002584eb30db115b6df5/bpemb-0.3.2-py3-none-any.whl\n",
            "Requirement already satisfied: gdown in /usr/local/lib/python3.6/dist-packages (from flair) (3.6.4)\n",
            "Requirement already satisfied: tqdm>=4.26.0 in /usr/local/lib/python3.6/dist-packages (from flair) (4.41.1)\n",
            "Requirement already satisfied: tabulate in /usr/local/lib/python3.6/dist-packages (from flair) (0.8.7)\n",
            "Collecting pytest>=5.3.2\n",
            "\u001b[?25l  Downloading https://files.pythonhosted.org/packages/61/a0/d4b854d67f8ecb855c65e5c760588e78213a4acb17ac7aeb4661ff1a9b3b/pytest-6.1.0-py3-none-any.whl (272kB)\n",
            "\u001b[K     |████████████████████████████████| 276kB 29.5MB/s \n",
            "\u001b[?25hCollecting segtok>=1.5.7\n",
            "  Downloading https://files.pythonhosted.org/packages/41/08/582dab5f4b1d5ca23bc6927b4bb977c8ff7f3a87a3b98844ef833e2f5623/segtok-1.5.10.tar.gz\n",
            "Requirement already satisfied: hyperopt>=0.1.1 in /usr/local/lib/python3.6/dist-packages (from flair) (0.1.2)\n",
            "Collecting sqlitedict>=1.6.0\n",
            "  Downloading https://files.pythonhosted.org/packages/5c/2d/b1d99e9ad157dd7de9cd0d36a8a5876b13b55e4b75f7498bc96035fb4e96/sqlitedict-1.7.0.tar.gz\n",
            "Collecting ftfy\n",
            "\u001b[?25l  Downloading https://files.pythonhosted.org/packages/ff/e2/3b51c53dffb1e52d9210ebc01f1fb9f2f6eba9b3201fa971fd3946643c71/ftfy-5.8.tar.gz (64kB)\n",
            "\u001b[K     |████████████████████████████████| 71kB 9.4MB/s \n",
            "\u001b[?25hRequirement already satisfied: gensim>=3.4.0 in /usr/local/lib/python3.6/dist-packages (from flair) (3.6.0)\n",
            "Collecting janome\n",
            "\u001b[?25l  Downloading https://files.pythonhosted.org/packages/a8/63/98858cbead27df7536c7e300c169da0999e9704d02220dc6700b804eeff0/Janome-0.4.1-py2.py3-none-any.whl (19.7MB)\n",
            "\u001b[K     |████████████████████████████████| 19.7MB 43.6MB/s \n",
            "\u001b[?25hRequirement already satisfied: matplotlib>=2.2.3 in /usr/local/lib/python3.6/dist-packages (from flair) (3.2.2)\n",
            "Requirement already satisfied: lxml in /usr/local/lib/python3.6/dist-packages (from flair) (4.2.6)\n",
            "Collecting mpld3==0.3\n",
            "\u001b[?25l  Downloading https://files.pythonhosted.org/packages/91/95/a52d3a83d0a29ba0d6898f6727e9858fe7a43f6c2ce81a5fe7e05f0f4912/mpld3-0.3.tar.gz (788kB)\n",
            "\u001b[K     |████████████████████████████████| 798kB 52.5MB/s \n",
            "\u001b[?25hCollecting langdetect\n",
            "\u001b[?25l  Downloading https://files.pythonhosted.org/packages/56/a3/8407c1e62d5980188b4acc45ef3d94b933d14a2ebc9ef3505f22cf772570/langdetect-1.0.8.tar.gz (981kB)\n",
            "\u001b[K     |████████████████████████████████| 983kB 43.2MB/s \n",
            "\u001b[?25hRequirement already satisfied: python-dateutil>=2.6.1 in /usr/local/lib/python3.6/dist-packages (from flair) (2.8.1)\n",
            "Requirement already satisfied: torch>=1.1.0 in /usr/local/lib/python3.6/dist-packages (from flair) (1.6.0+cu101)\n",
            "Requirement already satisfied: regex in /usr/local/lib/python3.6/dist-packages (from flair) (2019.12.20)\n",
            "Collecting transformers>=3.0.0\n",
            "\u001b[?25l  Downloading https://files.pythonhosted.org/packages/19/22/aff234f4a841f8999e68a7a94bdd4b60b4cebcfeca5d67d61cd08c9179de/transformers-3.3.1-py3-none-any.whl (1.1MB)\n",
            "\u001b[K     |████████████████████████████████| 1.1MB 44.0MB/s \n",
            "\u001b[?25hCollecting overrides==3.0.0\n",
            "  Downloading https://files.pythonhosted.org/packages/42/8d/caa729f809ecdf8e76fac3c1ff7d3f0b72c398c9dd8a6919927a30a873b3/overrides-3.0.0.tar.gz\n",
            "Requirement already satisfied: wrapt<2,>=1.10 in /usr/local/lib/python3.6/dist-packages (from deprecated>=1.2.4->flair) (1.12.1)\n",
            "Requirement already satisfied: joblib>=0.11 in /usr/local/lib/python3.6/dist-packages (from scikit-learn>=0.21.3->flair) (0.16.0)\n",
            "Requirement already satisfied: scipy>=0.17.0 in /usr/local/lib/python3.6/dist-packages (from scikit-learn>=0.21.3->flair) (1.4.1)\n",
            "Requirement already satisfied: numpy>=1.11.0 in /usr/local/lib/python3.6/dist-packages (from scikit-learn>=0.21.3->flair) (1.18.5)\n",
            "Requirement already satisfied: requests in /usr/local/lib/python3.6/dist-packages (from bpemb>=0.3.2->flair) (2.23.0)\n",
            "Requirement already satisfied: six in /usr/local/lib/python3.6/dist-packages (from gdown->flair) (1.15.0)\n",
            "Requirement already satisfied: attrs>=17.4.0 in /usr/local/lib/python3.6/dist-packages (from pytest>=5.3.2->flair) (20.2.0)\n",
            "Requirement already satisfied: iniconfig in /usr/local/lib/python3.6/dist-packages (from pytest>=5.3.2->flair) (1.0.1)\n",
            "Requirement already satisfied: packaging in /usr/local/lib/python3.6/dist-packages (from pytest>=5.3.2->flair) (20.4)\n",
            "Requirement already satisfied: importlib-metadata>=0.12; python_version < \"3.8\" in /usr/local/lib/python3.6/dist-packages (from pytest>=5.3.2->flair) (2.0.0)\n",
            "Collecting pluggy<1.0,>=0.12\n",
            "  Downloading https://files.pythonhosted.org/packages/a0/28/85c7aa31b80d150b772fbe4a229487bc6644da9ccb7e427dd8cc60cb8a62/pluggy-0.13.1-py2.py3-none-any.whl\n",
            "Requirement already satisfied: toml in /usr/local/lib/python3.6/dist-packages (from pytest>=5.3.2->flair) (0.10.1)\n",
            "Requirement already satisfied: py>=1.8.2 in /usr/local/lib/python3.6/dist-packages (from pytest>=5.3.2->flair) (1.9.0)\n",
            "Requirement already satisfied: pymongo in /usr/local/lib/python3.6/dist-packages (from hyperopt>=0.1.1->flair) (3.11.0)\n",
            "Requirement already satisfied: networkx in /usr/local/lib/python3.6/dist-packages (from hyperopt>=0.1.1->flair) (2.5)\n",
            "Requirement already satisfied: future in /usr/local/lib/python3.6/dist-packages (from hyperopt>=0.1.1->flair) (0.16.0)\n",
            "Requirement already satisfied: wcwidth in /usr/local/lib/python3.6/dist-packages (from ftfy->flair) (0.2.5)\n",
            "Requirement already satisfied: smart-open>=1.2.1 in /usr/local/lib/python3.6/dist-packages (from gensim>=3.4.0->flair) (2.2.0)\n",
            "Requirement already satisfied: cycler>=0.10 in /usr/local/lib/python3.6/dist-packages (from matplotlib>=2.2.3->flair) (0.10.0)\n",
            "Requirement already satisfied: kiwisolver>=1.0.1 in /usr/local/lib/python3.6/dist-packages (from matplotlib>=2.2.3->flair) (1.2.0)\n",
            "Requirement already satisfied: pyparsing!=2.0.4,!=2.1.2,!=2.1.6,>=2.0.1 in /usr/local/lib/python3.6/dist-packages (from matplotlib>=2.2.3->flair) (2.4.7)\n",
            "Collecting tokenizers==0.8.1.rc2\n",
            "\u001b[?25l  Downloading https://files.pythonhosted.org/packages/80/83/8b9fccb9e48eeb575ee19179e2bdde0ee9a1904f97de5f02d19016b8804f/tokenizers-0.8.1rc2-cp36-cp36m-manylinux1_x86_64.whl (3.0MB)\n",
            "\u001b[K     |████████████████████████████████| 3.0MB 47.8MB/s \n",
            "\u001b[?25hRequirement already satisfied: dataclasses; python_version < \"3.7\" in /usr/local/lib/python3.6/dist-packages (from transformers>=3.0.0->flair) (0.7)\n",
            "Collecting sacremoses\n",
            "\u001b[?25l  Downloading https://files.pythonhosted.org/packages/7d/34/09d19aff26edcc8eb2a01bed8e98f13a1537005d31e95233fd48216eed10/sacremoses-0.0.43.tar.gz (883kB)\n",
            "\u001b[K     |████████████████████████████████| 890kB 41.8MB/s \n",
            "\u001b[?25hRequirement already satisfied: filelock in /usr/local/lib/python3.6/dist-packages (from transformers>=3.0.0->flair) (3.0.12)\n",
            "Requirement already satisfied: idna<3,>=2.5 in /usr/local/lib/python3.6/dist-packages (from requests->bpemb>=0.3.2->flair) (2.10)\n",
            "Requirement already satisfied: urllib3!=1.25.0,!=1.25.1,<1.26,>=1.21.1 in /usr/local/lib/python3.6/dist-packages (from requests->bpemb>=0.3.2->flair) (1.24.3)\n",
            "Requirement already satisfied: chardet<4,>=3.0.2 in /usr/local/lib/python3.6/dist-packages (from requests->bpemb>=0.3.2->flair) (3.0.4)\n",
            "Requirement already satisfied: certifi>=2017.4.17 in /usr/local/lib/python3.6/dist-packages (from requests->bpemb>=0.3.2->flair) (2020.6.20)\n",
            "Requirement already satisfied: zipp>=0.5 in /usr/local/lib/python3.6/dist-packages (from importlib-metadata>=0.12; python_version < \"3.8\"->pytest>=5.3.2->flair) (3.2.0)\n",
            "Requirement already satisfied: decorator>=4.3.0 in /usr/local/lib/python3.6/dist-packages (from networkx->hyperopt>=0.1.1->flair) (4.4.2)\n",
            "Requirement already satisfied: click in /usr/local/lib/python3.6/dist-packages (from sacremoses->transformers>=3.0.0->flair) (7.1.2)\n",
            "Building wheels for collected packages: segtok, sqlitedict, ftfy, mpld3, langdetect, overrides, sacremoses\n",
            "  Building wheel for segtok (setup.py) ... \u001b[?25l\u001b[?25hdone\n",
            "  Created wheel for segtok: filename=segtok-1.5.10-cp36-none-any.whl size=25021 sha256=56dcfa4ae7b056642097fdfb9846f902579417ab6fe2b314109eed026832ac53\n",
            "  Stored in directory: /root/.cache/pip/wheels/b4/39/f6/9ca1c5cabde964d728023b5751c3a206a5c8cc40252321fb6b\n",
            "  Building wheel for sqlitedict (setup.py) ... \u001b[?25l\u001b[?25hdone\n",
            "  Created wheel for sqlitedict: filename=sqlitedict-1.7.0-cp36-none-any.whl size=14377 sha256=c530acbf2ea3f75877cd4195eea4963aa666abdd9cfdab28a857e568e74cbb9b\n",
            "  Stored in directory: /root/.cache/pip/wheels/cf/c6/4f/2c64a43f041415eb8b8740bd80e15e92f0d46c5e464d8e4b9b\n",
            "  Building wheel for ftfy (setup.py) ... \u001b[?25l\u001b[?25hdone\n",
            "  Created wheel for ftfy: filename=ftfy-5.8-cp36-none-any.whl size=45612 sha256=73895462fa506dff1474e31ecfb30afd9c0002f6280127b323bbd33173c790a2\n",
            "  Stored in directory: /root/.cache/pip/wheels/ba/c0/ef/f28c4da5ac84a4e06ac256ca9182fc34fa57fefffdbc68425b\n",
            "  Building wheel for mpld3 (setup.py) ... \u001b[?25l\u001b[?25hdone\n",
            "  Created wheel for mpld3: filename=mpld3-0.3-cp36-none-any.whl size=116677 sha256=b463e125d3ec00b4fe54518cf374a06e2e57035d6a23038cef70b9fbeb614cb2\n",
            "  Stored in directory: /root/.cache/pip/wheels/c0/47/fb/8a64f89aecfe0059830479308ad42d62e898a3e3cefdf6ba28\n",
            "  Building wheel for langdetect (setup.py) ... \u001b[?25l\u001b[?25hdone\n",
            "  Created wheel for langdetect: filename=langdetect-1.0.8-cp36-none-any.whl size=993195 sha256=8cf12e70f5befba2280dcab95fe5a5db30af78b0e13872cecef67b837beb50a4\n",
            "  Stored in directory: /root/.cache/pip/wheels/8d/b3/aa/6d99de9f3841d7d3d40a60ea06e6d669e8e5012e6c8b947a57\n",
            "  Building wheel for overrides (setup.py) ... \u001b[?25l\u001b[?25hdone\n",
            "  Created wheel for overrides: filename=overrides-3.0.0-cp36-none-any.whl size=5669 sha256=01e080fac8d2e1e4b01b7c93c5cb6ba7eaccbbadf44df6eb5b13b33f8b1cc035\n",
            "  Stored in directory: /root/.cache/pip/wheels/6f/1b/ec/6c71a1eb823df7f850d956b2d8c50a6d49c191e1063d73b9be\n",
            "  Building wheel for sacremoses (setup.py) ... \u001b[?25l\u001b[?25hdone\n",
            "  Created wheel for sacremoses: filename=sacremoses-0.0.43-cp36-none-any.whl size=893257 sha256=f095c5e55b5f118a771637093abe6b910dade857a5d5d6104d3f0301d166e3b2\n",
            "  Stored in directory: /root/.cache/pip/wheels/29/3c/fd/7ce5c3f0666dab31a50123635e6fb5e19ceb42ce38d4e58f45\n",
            "Successfully built segtok sqlitedict ftfy mpld3 langdetect overrides sacremoses\n",
            "\u001b[31mERROR: datascience 0.10.6 has requirement folium==0.2.1, but you'll have folium 0.8.3 which is incompatible.\u001b[0m\n",
            "Installing collected packages: overrides, konoha, deprecated, sentencepiece, bpemb, pluggy, pytest, segtok, sqlitedict, ftfy, janome, mpld3, langdetect, tokenizers, sacremoses, transformers, flair\n",
            "  Found existing installation: pluggy 0.7.1\n",
            "    Uninstalling pluggy-0.7.1:\n",
            "      Successfully uninstalled pluggy-0.7.1\n",
            "  Found existing installation: pytest 3.6.4\n",
            "    Uninstalling pytest-3.6.4:\n",
            "      Successfully uninstalled pytest-3.6.4\n",
            "Successfully installed bpemb-0.3.2 deprecated-1.2.10 flair-0.6.1 ftfy-5.8 janome-0.4.1 konoha-4.6.2 langdetect-1.0.8 mpld3-0.3 overrides-3.0.0 pluggy-0.13.1 pytest-6.1.0 sacremoses-0.0.43 segtok-1.5.10 sentencepiece-0.1.91 sqlitedict-1.7.0 tokenizers-0.8.1rc2 transformers-3.3.1\n",
            "2020-09-30 10:01:28,905 https://nlp.informatik.hu-berlin.de/resources/models/sentiment-curated-distilbert/sentiment-en-mix-distillbert_3.1.pt not found in cache, downloading to /tmp/tmpjihxy71u\n"
          ],
          "name": "stdout"
        },
        {
          "output_type": "stream",
          "text": [
            "100%|██████████| 266147697/266147697 [00:31<00:00, 8481380.57B/s]"
          ],
          "name": "stderr"
        },
        {
          "output_type": "stream",
          "text": [
            "2020-09-30 10:02:00,770 copying /tmp/tmpjihxy71u to cache at /root/.flair/models/sentiment-en-mix-distillbert_3.1.pt\n"
          ],
          "name": "stdout"
        },
        {
          "output_type": "stream",
          "text": [
            "\n"
          ],
          "name": "stderr"
        },
        {
          "output_type": "stream",
          "text": [
            "2020-09-30 10:02:01,291 removing temp file /tmp/tmpjihxy71u\n",
            "2020-09-30 10:02:01,685 loading file /root/.flair/models/sentiment-en-mix-distillbert_3.1.pt\n"
          ],
          "name": "stdout"
        },
        {
          "output_type": "display_data",
          "data": {
            "application/vnd.jupyter.widget-view+json": {
              "model_id": "3d19e5badc14494587d0853979d43611",
              "version_minor": 0,
              "version_major": 2
            },
            "text/plain": [
              "HBox(children=(FloatProgress(value=0.0, description='Downloading', max=442.0, style=ProgressStyle(description_…"
            ]
          },
          "metadata": {
            "tags": []
          }
        },
        {
          "output_type": "stream",
          "text": [
            "\n"
          ],
          "name": "stdout"
        },
        {
          "output_type": "display_data",
          "data": {
            "application/vnd.jupyter.widget-view+json": {
              "model_id": "493e3c4c91204b14a8800dad7ff93497",
              "version_minor": 0,
              "version_major": 2
            },
            "text/plain": [
              "HBox(children=(FloatProgress(value=0.0, description='Downloading', max=231508.0, style=ProgressStyle(descripti…"
            ]
          },
          "metadata": {
            "tags": []
          }
        },
        {
          "output_type": "stream",
          "text": [
            "\n"
          ],
          "name": "stdout"
        }
      ]
    },
    {
      "cell_type": "code",
      "metadata": {
        "id": "kE9rzmw4NyHd",
        "outputId": "417629c9-28bd-483d-e417-24fddee60c58",
        "colab": {
          "base_uri": "https://localhost:8080/",
          "height": 717
        }
      },
      "source": [
        "'''s = flair.data.Sentence(sentence)\n",
        "flair_sentiment.predict(s)\n",
        "total_sentiment = s.labels\n",
        "total_sentiment'''\n",
        "\n",
        "s = flair.data.Sentence(str(df['content']))\n",
        "df['scores3_Flair'] = df['content'].apply(lambda content: s)\n",
        "flair_sentiment.predict(s)\n",
        "total_sentiment = s.labels\n",
        "total_sentiment\n",
        "df.head()\n"
      ],
      "execution_count": null,
      "outputs": [
        {
          "output_type": "execute_result",
          "data": {
            "text/html": [
              "<div>\n",
              "<style scoped>\n",
              "    .dataframe tbody tr th:only-of-type {\n",
              "        vertical-align: middle;\n",
              "    }\n",
              "\n",
              "    .dataframe tbody tr th {\n",
              "        vertical-align: top;\n",
              "    }\n",
              "\n",
              "    .dataframe thead th {\n",
              "        text-align: right;\n",
              "    }\n",
              "</style>\n",
              "<table border=\"1\" class=\"dataframe\">\n",
              "  <thead>\n",
              "    <tr style=\"text-align: right;\">\n",
              "      <th></th>\n",
              "      <th>Unnamed: 0</th>\n",
              "      <th>file</th>\n",
              "      <th>Message-ID</th>\n",
              "      <th>Date</th>\n",
              "      <th>From</th>\n",
              "      <th>To</th>\n",
              "      <th>Subject</th>\n",
              "      <th>Mime-Version</th>\n",
              "      <th>Content-Type</th>\n",
              "      <th>Content-Transfer-Encoding</th>\n",
              "      <th>X-From</th>\n",
              "      <th>X-To</th>\n",
              "      <th>X-cc</th>\n",
              "      <th>X-bcc</th>\n",
              "      <th>X-Folder</th>\n",
              "      <th>X-Origin</th>\n",
              "      <th>X-FileName</th>\n",
              "      <th>content</th>\n",
              "      <th>user</th>\n",
              "      <th>stemmer</th>\n",
              "      <th>polarity</th>\n",
              "      <th>compound</th>\n",
              "      <th>sentiment</th>\n",
              "      <th>count_To</th>\n",
              "      <th>scores2_TB</th>\n",
              "      <th>TB_Subjectivity</th>\n",
              "      <th>TB_Polarity</th>\n",
              "      <th>TB_Analysis</th>\n",
              "      <th>scores3_Flair</th>\n",
              "    </tr>\n",
              "  </thead>\n",
              "  <tbody>\n",
              "    <tr>\n",
              "      <th>0</th>\n",
              "      <td>1232</td>\n",
              "      <td>allen-p/deleted_items/1.</td>\n",
              "      <td>&lt;21543395.1075855374340.JavaMail.evans@thyme&gt;</td>\n",
              "      <td>2001-12-30 18:19:42+00:00</td>\n",
              "      <td>frozenset({'pallen70@hotmail.com'})</td>\n",
              "      <td>frozenset({'pallen@enron.com'})</td>\n",
              "      <td>Fwd: Bishops Corner</td>\n",
              "      <td>1.0</td>\n",
              "      <td>text/plain; charset=ANSI_X3.4-1968</td>\n",
              "      <td>7bit</td>\n",
              "      <td>\"phillip allen\" &lt;pallen70@hotmail.com&gt;@ENRON</td>\n",
              "      <td>pallen@enron.com</td>\n",
              "      <td>NaN</td>\n",
              "      <td>NaN</td>\n",
              "      <td>\\Phillip_Allen_Jan2002_1\\Allen, Phillip K.\\Del...</td>\n",
              "      <td>Allen-P</td>\n",
              "      <td>pallen (Non-Privileged).pst</td>\n",
              "      <td>[greg, thors, phillip, allen, bishop, corner, ...</td>\n",
              "      <td>allen-p</td>\n",
              "      <td>greg thor phillip allen bishop corner sat dec ...</td>\n",
              "      <td>{'neg': 0.011, 'neu': 0.871, 'pos': 0.117, 'co...</td>\n",
              "      <td>0.9001</td>\n",
              "      <td>positive</td>\n",
              "      <td>1</td>\n",
              "      <td>(0.06911976911976911, 0.5489177489177489)</td>\n",
              "      <td>0.548918</td>\n",
              "      <td>6.911977e-02</td>\n",
              "      <td>Positive</td>\n",
              "      <td>(Token: 1 0, Token: 2 [, Token: 3 greg, Token:...</td>\n",
              "    </tr>\n",
              "    <tr>\n",
              "      <th>1</th>\n",
              "      <td>1233</td>\n",
              "      <td>allen-p/deleted_items/10.</td>\n",
              "      <td>&lt;25363451.1075855374674.JavaMail.evans@thyme&gt;</td>\n",
              "      <td>2001-12-28 01:16:46+00:00</td>\n",
              "      <td>frozenset({'arsystem@mailman.enron.com'})</td>\n",
              "      <td>frozenset({'k..allen@enron.com'})</td>\n",
              "      <td>Your Approval is Overdue: Access Request for m...</td>\n",
              "      <td>1.0</td>\n",
              "      <td>text/plain; charset=us-ascii</td>\n",
              "      <td>7bit</td>\n",
              "      <td>ARSystem &lt;ARSystem@mailman.enron.com&gt;@ENRON</td>\n",
              "      <td>Allen, Phillip K. &lt;/O=ENRON/OU=NA/CN=RECIPIENT...</td>\n",
              "      <td>NaN</td>\n",
              "      <td>NaN</td>\n",
              "      <td>\\Phillip_Allen_Jan2002_1\\Allen, Phillip K.\\Del...</td>\n",
              "      <td>Allen-P</td>\n",
              "      <td>pallen (Non-Privileged).pst</td>\n",
              "      <td>[request, pend, approv, day, itcapp, corp, srr...</td>\n",
              "      <td>allen-p</td>\n",
              "      <td>request pend approv day itcapp corp srr auth e...</td>\n",
              "      <td>{'neg': 0.059, 'neu': 0.868, 'pos': 0.073, 'co...</td>\n",
              "      <td>0.1280</td>\n",
              "      <td>positive</td>\n",
              "      <td>1</td>\n",
              "      <td>(0.14285714285714285, 0.26785714285714285)</td>\n",
              "      <td>0.267857</td>\n",
              "      <td>1.428571e-01</td>\n",
              "      <td>Positive</td>\n",
              "      <td>(Token: 1 0, Token: 2 [, Token: 3 greg, Token:...</td>\n",
              "    </tr>\n",
              "    <tr>\n",
              "      <th>2</th>\n",
              "      <td>1244</td>\n",
              "      <td>allen-p/deleted_items/11.</td>\n",
              "      <td>&lt;8030945.1075855374698.JavaMail.evans@thyme&gt;</td>\n",
              "      <td>2001-12-27 23:49:59+00:00</td>\n",
              "      <td>frozenset({'ei_editor@platts.com'})</td>\n",
              "      <td>frozenset({'einsighthtml@listserv.platts.com'})</td>\n",
              "      <td>A hard act to follow: the future for energy wi...</td>\n",
              "      <td>1.0</td>\n",
              "      <td>text/plain; charset=ANSI_X3.4-1968</td>\n",
              "      <td>quoted-printable</td>\n",
              "      <td>Energy Insight Editor &lt;EI_editor@PLATTS.COM&gt;@E...</td>\n",
              "      <td>EINSIGHTHTML@LISTSERV.PLATTS.COM</td>\n",
              "      <td>NaN</td>\n",
              "      <td>NaN</td>\n",
              "      <td>\\Phillip_Allen_Jan2002_1\\Allen, Phillip K.\\Del...</td>\n",
              "      <td>Allen-P</td>\n",
              "      <td>pallen (Non-Privileged).pst</td>\n",
              "      <td>[updat, dec, imag, hard, act, follow, futur, e...</td>\n",
              "      <td>allen-p</td>\n",
              "      <td>updat dec imag hard act follow futur ene rgi w...</td>\n",
              "      <td>{'neg': 0.098, 'neu': 0.861, 'pos': 0.041, 'co...</td>\n",
              "      <td>-0.9559</td>\n",
              "      <td>negative</td>\n",
              "      <td>1</td>\n",
              "      <td>(0.1405032467532468, 0.5127886002886005)</td>\n",
              "      <td>0.512789</td>\n",
              "      <td>1.405032e-01</td>\n",
              "      <td>Positive</td>\n",
              "      <td>(Token: 1 0, Token: 2 [, Token: 3 greg, Token:...</td>\n",
              "    </tr>\n",
              "    <tr>\n",
              "      <th>3</th>\n",
              "      <td>1254</td>\n",
              "      <td>allen-p/deleted_items/12.</td>\n",
              "      <td>&lt;20180566.1075855374772.JavaMail.evans@thyme&gt;</td>\n",
              "      <td>2001-12-27 23:37:31+00:00</td>\n",
              "      <td>frozenset({'no.address@enron.com'})</td>\n",
              "      <td>nan</td>\n",
              "      <td>Please Read: Resolution Center to Disconnect T...</td>\n",
              "      <td>1.0</td>\n",
              "      <td>text/plain; charset=ANSI_X3.4-1968</td>\n",
              "      <td>7bit</td>\n",
              "      <td>Enron General Announcements@ENRON</td>\n",
              "      <td>Announcement Group@ENRON &lt;??SAnnouncement Grou...</td>\n",
              "      <td>NaN</td>\n",
              "      <td>NaN</td>\n",
              "      <td>\\Phillip_Allen_Jan2002_1\\Allen, Phillip K.\\Del...</td>\n",
              "      <td>Allen-P</td>\n",
              "      <td>pallen (Non-Privileged).pst</td>\n",
              "      <td>[resolut, center, decommiss, number, januari, ...</td>\n",
              "      <td>allen-p</td>\n",
              "      <td>resolut center decommiss number januari contin...</td>\n",
              "      <td>{'neg': 0.0, 'neu': 0.892, 'pos': 0.108, 'comp...</td>\n",
              "      <td>0.8020</td>\n",
              "      <td>positive</td>\n",
              "      <td>1</td>\n",
              "      <td>(2.7755575615628915e-18, 0.24000000000000005)</td>\n",
              "      <td>0.240000</td>\n",
              "      <td>2.775558e-18</td>\n",
              "      <td>Positive</td>\n",
              "      <td>(Token: 1 0, Token: 2 [, Token: 3 greg, Token:...</td>\n",
              "    </tr>\n",
              "    <tr>\n",
              "      <th>4</th>\n",
              "      <td>1265</td>\n",
              "      <td>allen-p/deleted_items/13.</td>\n",
              "      <td>&lt;6589757.1075855374796.JavaMail.evans@thyme&gt;</td>\n",
              "      <td>2001-12-27 15:37:45+00:00</td>\n",
              "      <td>frozenset({'mike.grigsby@enron.com'})</td>\n",
              "      <td>frozenset({'m..tholt@enron.com', 'patti.sulliv...</td>\n",
              "      <td>FUNDIES MEETING EVERY DAY BEGINNING NEXT WEEK</td>\n",
              "      <td>1.0</td>\n",
              "      <td>text/plain; charset=us-ascii</td>\n",
              "      <td>7bit</td>\n",
              "      <td>Grigsby, Mike &lt;/O=ENRON/OU=NA/CN=RECIPIENTS/CN...</td>\n",
              "      <td>Adams, Jacqueline P. &lt;/O=ENRON/OU=NA/CN=RECIPI...</td>\n",
              "      <td>NaN</td>\n",
              "      <td>NaN</td>\n",
              "      <td>\\Phillip_Allen_Jan2002_1\\Allen, Phillip K.\\Del...</td>\n",
              "      <td>Allen-P</td>\n",
              "      <td>pallen (Non-Privileged).pst</td>\n",
              "      <td>[offic, new, year, begin, inform, fundi, meet,...</td>\n",
              "      <td>allen-p</td>\n",
              "      <td>offic new year begin inform fundi meet day cov...</td>\n",
              "      <td>{'neg': 0.0, 'neu': 0.894, 'pos': 0.106, 'comp...</td>\n",
              "      <td>0.7096</td>\n",
              "      <td>positive</td>\n",
              "      <td>20</td>\n",
              "      <td>(0.41818181818181815, 0.5272727272727273)</td>\n",
              "      <td>0.527273</td>\n",
              "      <td>4.181818e-01</td>\n",
              "      <td>Positive</td>\n",
              "      <td>(Token: 1 0, Token: 2 [, Token: 3 greg, Token:...</td>\n",
              "    </tr>\n",
              "  </tbody>\n",
              "</table>\n",
              "</div>"
            ],
            "text/plain": [
              "   Unnamed: 0                       file  \\\n",
              "0        1232   allen-p/deleted_items/1.   \n",
              "1        1233  allen-p/deleted_items/10.   \n",
              "2        1244  allen-p/deleted_items/11.   \n",
              "3        1254  allen-p/deleted_items/12.   \n",
              "4        1265  allen-p/deleted_items/13.   \n",
              "\n",
              "                                      Message-ID                      Date  \\\n",
              "0  <21543395.1075855374340.JavaMail.evans@thyme> 2001-12-30 18:19:42+00:00   \n",
              "1  <25363451.1075855374674.JavaMail.evans@thyme> 2001-12-28 01:16:46+00:00   \n",
              "2   <8030945.1075855374698.JavaMail.evans@thyme> 2001-12-27 23:49:59+00:00   \n",
              "3  <20180566.1075855374772.JavaMail.evans@thyme> 2001-12-27 23:37:31+00:00   \n",
              "4   <6589757.1075855374796.JavaMail.evans@thyme> 2001-12-27 15:37:45+00:00   \n",
              "\n",
              "                                        From  \\\n",
              "0        frozenset({'pallen70@hotmail.com'})   \n",
              "1  frozenset({'arsystem@mailman.enron.com'})   \n",
              "2        frozenset({'ei_editor@platts.com'})   \n",
              "3        frozenset({'no.address@enron.com'})   \n",
              "4      frozenset({'mike.grigsby@enron.com'})   \n",
              "\n",
              "                                                  To  \\\n",
              "0                    frozenset({'pallen@enron.com'})   \n",
              "1                  frozenset({'k..allen@enron.com'})   \n",
              "2    frozenset({'einsighthtml@listserv.platts.com'})   \n",
              "3                                                nan   \n",
              "4  frozenset({'m..tholt@enron.com', 'patti.sulliv...   \n",
              "\n",
              "                                             Subject  Mime-Version  \\\n",
              "0                                Fwd: Bishops Corner           1.0   \n",
              "1  Your Approval is Overdue: Access Request for m...           1.0   \n",
              "2  A hard act to follow: the future for energy wi...           1.0   \n",
              "3  Please Read: Resolution Center to Disconnect T...           1.0   \n",
              "4      FUNDIES MEETING EVERY DAY BEGINNING NEXT WEEK           1.0   \n",
              "\n",
              "                         Content-Type Content-Transfer-Encoding  \\\n",
              "0  text/plain; charset=ANSI_X3.4-1968                      7bit   \n",
              "1        text/plain; charset=us-ascii                      7bit   \n",
              "2  text/plain; charset=ANSI_X3.4-1968          quoted-printable   \n",
              "3  text/plain; charset=ANSI_X3.4-1968                      7bit   \n",
              "4        text/plain; charset=us-ascii                      7bit   \n",
              "\n",
              "                                              X-From  \\\n",
              "0       \"phillip allen\" <pallen70@hotmail.com>@ENRON   \n",
              "1        ARSystem <ARSystem@mailman.enron.com>@ENRON   \n",
              "2  Energy Insight Editor <EI_editor@PLATTS.COM>@E...   \n",
              "3                  Enron General Announcements@ENRON   \n",
              "4  Grigsby, Mike </O=ENRON/OU=NA/CN=RECIPIENTS/CN...   \n",
              "\n",
              "                                                X-To X-cc X-bcc  \\\n",
              "0                                   pallen@enron.com  NaN   NaN   \n",
              "1  Allen, Phillip K. </O=ENRON/OU=NA/CN=RECIPIENT...  NaN   NaN   \n",
              "2                   EINSIGHTHTML@LISTSERV.PLATTS.COM  NaN   NaN   \n",
              "3  Announcement Group@ENRON <??SAnnouncement Grou...  NaN   NaN   \n",
              "4  Adams, Jacqueline P. </O=ENRON/OU=NA/CN=RECIPI...  NaN   NaN   \n",
              "\n",
              "                                            X-Folder X-Origin  \\\n",
              "0  \\Phillip_Allen_Jan2002_1\\Allen, Phillip K.\\Del...  Allen-P   \n",
              "1  \\Phillip_Allen_Jan2002_1\\Allen, Phillip K.\\Del...  Allen-P   \n",
              "2  \\Phillip_Allen_Jan2002_1\\Allen, Phillip K.\\Del...  Allen-P   \n",
              "3  \\Phillip_Allen_Jan2002_1\\Allen, Phillip K.\\Del...  Allen-P   \n",
              "4  \\Phillip_Allen_Jan2002_1\\Allen, Phillip K.\\Del...  Allen-P   \n",
              "\n",
              "                    X-FileName  \\\n",
              "0  pallen (Non-Privileged).pst   \n",
              "1  pallen (Non-Privileged).pst   \n",
              "2  pallen (Non-Privileged).pst   \n",
              "3  pallen (Non-Privileged).pst   \n",
              "4  pallen (Non-Privileged).pst   \n",
              "\n",
              "                                             content     user  \\\n",
              "0  [greg, thors, phillip, allen, bishop, corner, ...  allen-p   \n",
              "1  [request, pend, approv, day, itcapp, corp, srr...  allen-p   \n",
              "2  [updat, dec, imag, hard, act, follow, futur, e...  allen-p   \n",
              "3  [resolut, center, decommiss, number, januari, ...  allen-p   \n",
              "4  [offic, new, year, begin, inform, fundi, meet,...  allen-p   \n",
              "\n",
              "                                             stemmer  \\\n",
              "0  greg thor phillip allen bishop corner sat dec ...   \n",
              "1  request pend approv day itcapp corp srr auth e...   \n",
              "2  updat dec imag hard act follow futur ene rgi w...   \n",
              "3  resolut center decommiss number januari contin...   \n",
              "4  offic new year begin inform fundi meet day cov...   \n",
              "\n",
              "                                            polarity  compound sentiment  \\\n",
              "0  {'neg': 0.011, 'neu': 0.871, 'pos': 0.117, 'co...    0.9001  positive   \n",
              "1  {'neg': 0.059, 'neu': 0.868, 'pos': 0.073, 'co...    0.1280  positive   \n",
              "2  {'neg': 0.098, 'neu': 0.861, 'pos': 0.041, 'co...   -0.9559  negative   \n",
              "3  {'neg': 0.0, 'neu': 0.892, 'pos': 0.108, 'comp...    0.8020  positive   \n",
              "4  {'neg': 0.0, 'neu': 0.894, 'pos': 0.106, 'comp...    0.7096  positive   \n",
              "\n",
              "   count_To                                     scores2_TB  TB_Subjectivity  \\\n",
              "0         1      (0.06911976911976911, 0.5489177489177489)         0.548918   \n",
              "1         1     (0.14285714285714285, 0.26785714285714285)         0.267857   \n",
              "2         1       (0.1405032467532468, 0.5127886002886005)         0.512789   \n",
              "3         1  (2.7755575615628915e-18, 0.24000000000000005)         0.240000   \n",
              "4        20      (0.41818181818181815, 0.5272727272727273)         0.527273   \n",
              "\n",
              "    TB_Polarity TB_Analysis                                      scores3_Flair  \n",
              "0  6.911977e-02    Positive  (Token: 1 0, Token: 2 [, Token: 3 greg, Token:...  \n",
              "1  1.428571e-01    Positive  (Token: 1 0, Token: 2 [, Token: 3 greg, Token:...  \n",
              "2  1.405032e-01    Positive  (Token: 1 0, Token: 2 [, Token: 3 greg, Token:...  \n",
              "3  2.775558e-18    Positive  (Token: 1 0, Token: 2 [, Token: 3 greg, Token:...  \n",
              "4  4.181818e-01    Positive  (Token: 1 0, Token: 2 [, Token: 3 greg, Token:...  "
            ]
          },
          "metadata": {
            "tags": []
          },
          "execution_count": 106
        }
      ]
    },
    {
      "cell_type": "code",
      "metadata": {
        "id": "e1AbcXo67sZp",
        "outputId": "9c7cff62-fd43-4556-9ec3-9b0fe311ea06",
        "colab": {
          "base_uri": "https://localhost:8080/",
          "height": 72
        }
      },
      "source": [
        "df.scores3_Flair.unique()"
      ],
      "execution_count": null,
      "outputs": [
        {
          "output_type": "execute_result",
          "data": {
            "text/plain": [
              "array([Sentence: \"0 [ greg , thors , phillip , allen , bishop , corner , ... 1 [ request , pend , approv , day , itcapp , corp , srr ... 2 [ updat , dec , imag , hard , act , follow , futur , e ... 3 [ resolut , center , decommiss , number , januari , ... 4 [ offic , new , year , begin , inform , fundi , meet ,.. . ... 54675 [ trade , oil , spec , hedg , ng , john , lavorato , b ... 54676 [ posit , alberta , term , book , send , posit , dire ... 54677 [ origin , messag , doucet , dawn , sent , wednesday ... 54678 [ analyst , rank , stephan , brodeur , chad , clark ,.. . 54679 [ think , ymca , class , peopl , recov , heart , atta ... Name : content , Length : 54680 , dtype : object\"   [− Tokens: 170  − Sentence-Labels: {'label': [NEGATIVE (0.9974)]}]],\n",
              "      dtype=object)"
            ]
          },
          "metadata": {
            "tags": []
          },
          "execution_count": 115
        }
      ]
    },
    {
      "cell_type": "code",
      "metadata": {
        "id": "KZXvufXrU7_-",
        "outputId": "104b2e4b-9cf1-4d98-c213-57ac0b3ef279",
        "colab": {
          "base_uri": "https://localhost:8080/",
          "height": 230
        }
      },
      "source": [
        "df['scores3_Flair'].pop"
      ],
      "execution_count": null,
      "outputs": [
        {
          "output_type": "execute_result",
          "data": {
            "text/plain": [
              "<bound method Series.pop of 0        (Token: 1 0, Token: 2 [, Token: 3 greg, Token:...\n",
              "1        (Token: 1 0, Token: 2 [, Token: 3 greg, Token:...\n",
              "2        (Token: 1 0, Token: 2 [, Token: 3 greg, Token:...\n",
              "3        (Token: 1 0, Token: 2 [, Token: 3 greg, Token:...\n",
              "4        (Token: 1 0, Token: 2 [, Token: 3 greg, Token:...\n",
              "                               ...                        \n",
              "54675    (Token: 1 0, Token: 2 [, Token: 3 greg, Token:...\n",
              "54676    (Token: 1 0, Token: 2 [, Token: 3 greg, Token:...\n",
              "54677    (Token: 1 0, Token: 2 [, Token: 3 greg, Token:...\n",
              "54678    (Token: 1 0, Token: 2 [, Token: 3 greg, Token:...\n",
              "54679    (Token: 1 0, Token: 2 [, Token: 3 greg, Token:...\n",
              "Name: scores3_Flair, Length: 54680, dtype: object>"
            ]
          },
          "metadata": {
            "tags": []
          },
          "execution_count": 108
        }
      ]
    },
    {
      "cell_type": "code",
      "metadata": {
        "id": "_svSPxkkd-Sh",
        "outputId": "2bc18857-3a58-4414-e6f1-86bbe36b8c06",
        "colab": {
          "base_uri": "https://localhost:8080/",
          "height": 247
        }
      },
      "source": [
        "df.head(1)"
      ],
      "execution_count": null,
      "outputs": [
        {
          "output_type": "execute_result",
          "data": {
            "text/html": [
              "<div>\n",
              "<style scoped>\n",
              "    .dataframe tbody tr th:only-of-type {\n",
              "        vertical-align: middle;\n",
              "    }\n",
              "\n",
              "    .dataframe tbody tr th {\n",
              "        vertical-align: top;\n",
              "    }\n",
              "\n",
              "    .dataframe thead th {\n",
              "        text-align: right;\n",
              "    }\n",
              "</style>\n",
              "<table border=\"1\" class=\"dataframe\">\n",
              "  <thead>\n",
              "    <tr style=\"text-align: right;\">\n",
              "      <th></th>\n",
              "      <th>Unnamed: 0</th>\n",
              "      <th>file</th>\n",
              "      <th>Message-ID</th>\n",
              "      <th>Date</th>\n",
              "      <th>From</th>\n",
              "      <th>To</th>\n",
              "      <th>Subject</th>\n",
              "      <th>Mime-Version</th>\n",
              "      <th>Content-Type</th>\n",
              "      <th>Content-Transfer-Encoding</th>\n",
              "      <th>X-From</th>\n",
              "      <th>X-To</th>\n",
              "      <th>X-cc</th>\n",
              "      <th>X-bcc</th>\n",
              "      <th>X-Folder</th>\n",
              "      <th>X-Origin</th>\n",
              "      <th>X-FileName</th>\n",
              "      <th>content</th>\n",
              "      <th>user</th>\n",
              "      <th>stemmer</th>\n",
              "      <th>polarity</th>\n",
              "      <th>compound</th>\n",
              "      <th>sentiment</th>\n",
              "      <th>count_To</th>\n",
              "      <th>scores2_TB</th>\n",
              "      <th>TB_Subjectivity</th>\n",
              "      <th>TB_Polarity</th>\n",
              "      <th>TB_Analysis</th>\n",
              "      <th>scores3_Flair</th>\n",
              "    </tr>\n",
              "  </thead>\n",
              "  <tbody>\n",
              "    <tr>\n",
              "      <th>0</th>\n",
              "      <td>1232</td>\n",
              "      <td>allen-p/deleted_items/1.</td>\n",
              "      <td>&lt;21543395.1075855374340.JavaMail.evans@thyme&gt;</td>\n",
              "      <td>2001-12-30 18:19:42+00:00</td>\n",
              "      <td>frozenset({'pallen70@hotmail.com'})</td>\n",
              "      <td>frozenset({'pallen@enron.com'})</td>\n",
              "      <td>Fwd: Bishops Corner</td>\n",
              "      <td>1.0</td>\n",
              "      <td>text/plain; charset=ANSI_X3.4-1968</td>\n",
              "      <td>7bit</td>\n",
              "      <td>\"phillip allen\" &lt;pallen70@hotmail.com&gt;@ENRON</td>\n",
              "      <td>pallen@enron.com</td>\n",
              "      <td>NaN</td>\n",
              "      <td>NaN</td>\n",
              "      <td>\\Phillip_Allen_Jan2002_1\\Allen, Phillip K.\\Del...</td>\n",
              "      <td>Allen-P</td>\n",
              "      <td>pallen (Non-Privileged).pst</td>\n",
              "      <td>[greg, thors, phillip, allen, bishop, corner, ...</td>\n",
              "      <td>allen-p</td>\n",
              "      <td>greg thor phillip allen bishop corner sat dec ...</td>\n",
              "      <td>{'neg': 0.011, 'neu': 0.871, 'pos': 0.117, 'co...</td>\n",
              "      <td>0.9001</td>\n",
              "      <td>positive</td>\n",
              "      <td>1</td>\n",
              "      <td>(0.06911976911976911, 0.5489177489177489)</td>\n",
              "      <td>0.548918</td>\n",
              "      <td>0.06912</td>\n",
              "      <td>Positive</td>\n",
              "      <td>(Token: 1 0, Token: 2 [, Token: 3 greg, Token:...</td>\n",
              "    </tr>\n",
              "  </tbody>\n",
              "</table>\n",
              "</div>"
            ],
            "text/plain": [
              "   Unnamed: 0                      file  \\\n",
              "0        1232  allen-p/deleted_items/1.   \n",
              "\n",
              "                                      Message-ID                      Date  \\\n",
              "0  <21543395.1075855374340.JavaMail.evans@thyme> 2001-12-30 18:19:42+00:00   \n",
              "\n",
              "                                  From                               To  \\\n",
              "0  frozenset({'pallen70@hotmail.com'})  frozenset({'pallen@enron.com'})   \n",
              "\n",
              "               Subject  Mime-Version                        Content-Type  \\\n",
              "0  Fwd: Bishops Corner           1.0  text/plain; charset=ANSI_X3.4-1968   \n",
              "\n",
              "  Content-Transfer-Encoding                                        X-From  \\\n",
              "0                      7bit  \"phillip allen\" <pallen70@hotmail.com>@ENRON   \n",
              "\n",
              "               X-To X-cc X-bcc  \\\n",
              "0  pallen@enron.com  NaN   NaN   \n",
              "\n",
              "                                            X-Folder X-Origin  \\\n",
              "0  \\Phillip_Allen_Jan2002_1\\Allen, Phillip K.\\Del...  Allen-P   \n",
              "\n",
              "                    X-FileName  \\\n",
              "0  pallen (Non-Privileged).pst   \n",
              "\n",
              "                                             content     user  \\\n",
              "0  [greg, thors, phillip, allen, bishop, corner, ...  allen-p   \n",
              "\n",
              "                                             stemmer  \\\n",
              "0  greg thor phillip allen bishop corner sat dec ...   \n",
              "\n",
              "                                            polarity  compound sentiment  \\\n",
              "0  {'neg': 0.011, 'neu': 0.871, 'pos': 0.117, 'co...    0.9001  positive   \n",
              "\n",
              "   count_To                                 scores2_TB  TB_Subjectivity  \\\n",
              "0         1  (0.06911976911976911, 0.5489177489177489)         0.548918   \n",
              "\n",
              "   TB_Polarity TB_Analysis                                      scores3_Flair  \n",
              "0      0.06912    Positive  (Token: 1 0, Token: 2 [, Token: 3 greg, Token:...  "
            ]
          },
          "metadata": {
            "tags": []
          },
          "execution_count": 112
        }
      ]
    },
    {
      "cell_type": "code",
      "metadata": {
        "id": "umg0t6iLd9JP",
        "outputId": "29a3d3d5-55c5-457f-f242-ce121b7fa2ed",
        "colab": {
          "base_uri": "https://localhost:8080/",
          "height": 16
        }
      },
      "source": [
        "from google.colab import files\n",
        "\n",
        "df.to_csv('df_score.csv')\n",
        "\n",
        "files.download(\"df_score.csv\")"
      ],
      "execution_count": null,
      "outputs": [
        {
          "output_type": "display_data",
          "data": {
            "application/javascript": [
              "\n",
              "    async function download(id, filename, size) {\n",
              "      if (!google.colab.kernel.accessAllowed) {\n",
              "        return;\n",
              "      }\n",
              "      const div = document.createElement('div');\n",
              "      const label = document.createElement('label');\n",
              "      label.textContent = `Downloading \"${filename}\": `;\n",
              "      div.appendChild(label);\n",
              "      const progress = document.createElement('progress');\n",
              "      progress.max = size;\n",
              "      div.appendChild(progress);\n",
              "      document.body.appendChild(div);\n",
              "\n",
              "      const buffers = [];\n",
              "      let downloaded = 0;\n",
              "\n",
              "      const channel = await google.colab.kernel.comms.open(id);\n",
              "      // Send a message to notify the kernel that we're ready.\n",
              "      channel.send({})\n",
              "\n",
              "      for await (const message of channel.messages) {\n",
              "        // Send a message to notify the kernel that we're ready.\n",
              "        channel.send({})\n",
              "        if (message.buffers) {\n",
              "          for (const buffer of message.buffers) {\n",
              "            buffers.push(buffer);\n",
              "            downloaded += buffer.byteLength;\n",
              "            progress.value = downloaded;\n",
              "          }\n",
              "        }\n",
              "      }\n",
              "      const blob = new Blob(buffers, {type: 'application/binary'});\n",
              "      const a = document.createElement('a');\n",
              "      a.href = window.URL.createObjectURL(blob);\n",
              "      a.download = filename;\n",
              "      div.appendChild(a);\n",
              "      a.click();\n",
              "      div.remove();\n",
              "    }\n",
              "  "
            ],
            "text/plain": [
              "<IPython.core.display.Javascript object>"
            ]
          },
          "metadata": {
            "tags": []
          }
        },
        {
          "output_type": "display_data",
          "data": {
            "application/javascript": [
              "download(\"download_a538e3b8-29a4-41e0-b894-155e9fd6594a\", \"df_score.csv\", 238908888)"
            ],
            "text/plain": [
              "<IPython.core.display.Javascript object>"
            ]
          },
          "metadata": {
            "tags": []
          }
        }
      ]
    }
  ]
}